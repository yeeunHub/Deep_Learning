{
  "nbformat": 4,
  "nbformat_minor": 0,
  "metadata": {
    "colab": {
      "provenance": []
    },
    "kernelspec": {
      "display_name": "Python 3",
      "language": "python",
      "name": "python3"
    },
    "language_info": {
      "codemirror_mode": {
        "name": "ipython",
        "version": 3
      },
      "file_extension": ".py",
      "mimetype": "text/x-python",
      "name": "python",
      "nbconvert_exporter": "python",
      "pygments_lexer": "ipython3",
      "version": "3.7.6"
    }
  },
  "cells": [
    {
      "cell_type": "markdown",
      "metadata": {
        "id": "-iKMVCis12aq"
      },
      "source": [
        "# Topic Modeling on Research Papers\n",
        "\n",
        "This project aims to build topic models on one of my research papers.\n",
        "\n",
        "I recently published a research paper about academic self-concept formation at Contemporary Educational Psychology journal, which you can find at https://doi.org/10.1016/j.cedpsych.2022.102138 .\n",
        "\n",
        "The dataset is in PDF form that I managed preprocessing before working on it in python. \n",
        "\n",
        "\n",
        "## The Main Objective\n",
        "\n",
        "\n",
        "*   \"Can there be a systematic way to extract topics of individual research paper?\"\n",
        "*   \"Is there a way to decide the optimal number of topics for each research paper?\"\n",
        "\n",
        "In academic field, it is important to identify some key topics or themes from papers for the purpose of arrangements or publication. For this, scholars often read the entire paper to elicit the key topics and themes, which takes times and energy. In addition, the number of \"highlights\" of the paper has been decided by the arbitrary decision of individual scholars.\n",
        "\n",
        "Concerning efficiecy in work, I organized the current project to find a systematic method to automatically identify some key themes or topics from each research paper using unsupervised learning. \n",
        "\n",
        "This technique can be applied to other situation in which efficient topic extraction is required such as news article, blog, social media and so on. \n",
        "\n",
        "Below I showcase an example of the topic extraction of my research paper using unsupervised learning technique. "
      ]
    },
    {
      "cell_type": "markdown",
      "metadata": {
        "id": "bsTqya546U6q"
      },
      "source": [
        "## Download Data and Dependencies"
      ]
    },
    {
      "cell_type": "code",
      "source": [
        "import os\n",
        "import numpy as np\n",
        "import pandas as pd"
      ],
      "metadata": {
        "id": "6fc5dovWh9W_"
      },
      "execution_count": 27,
      "outputs": []
    },
    {
      "cell_type": "code",
      "source": [
        "!pip install pdfquery\n",
        "from pdfquery import PDFQuery"
      ],
      "metadata": {
        "colab": {
          "base_uri": "https://localhost:8080/"
        },
        "id": "xqoQZuN3oSAj",
        "outputId": "7adc58de-2f10-41e9-ff00-6816b4573bf2"
      },
      "execution_count": 1,
      "outputs": [
        {
          "output_type": "stream",
          "name": "stdout",
          "text": [
            "Looking in indexes: https://pypi.org/simple, https://us-python.pkg.dev/colab-wheels/public/simple/\n",
            "Collecting pdfquery\n",
            "  Downloading pdfquery-0.4.3.tar.gz (17 kB)\n",
            "  Preparing metadata (setup.py) ... \u001b[?25l\u001b[?25hdone\n",
            "Collecting cssselect>=0.7.1\n",
            "  Downloading cssselect-1.2.0-py2.py3-none-any.whl (18 kB)\n",
            "Requirement already satisfied: chardet in /usr/local/lib/python3.9/dist-packages (from pdfquery) (4.0.0)\n",
            "Requirement already satisfied: lxml>=3.0 in /usr/local/lib/python3.9/dist-packages (from pdfquery) (4.9.2)\n",
            "Collecting pdfminer.six\n",
            "  Downloading pdfminer.six-20221105-py3-none-any.whl (5.6 MB)\n",
            "\u001b[2K     \u001b[90m━━━━━━━━━━━━━━━━━━━━━━━━━━━━━━━━━━━━━━━━\u001b[0m \u001b[32m5.6/5.6 MB\u001b[0m \u001b[31m60.8 MB/s\u001b[0m eta \u001b[36m0:00:00\u001b[0m\n",
            "\u001b[?25hCollecting pyquery>=1.2.2\n",
            "  Downloading pyquery-2.0.0-py3-none-any.whl (22 kB)\n",
            "Collecting roman>=1.4.0\n",
            "  Downloading roman-4.0-py3-none-any.whl (7.8 kB)\n",
            "Requirement already satisfied: charset-normalizer>=2.0.0 in /usr/local/lib/python3.9/dist-packages (from pdfminer.six->pdfquery) (2.0.12)\n",
            "Requirement already satisfied: cryptography>=36.0.0 in /usr/local/lib/python3.9/dist-packages (from pdfminer.six->pdfquery) (40.0.1)\n",
            "Requirement already satisfied: cffi>=1.12 in /usr/local/lib/python3.9/dist-packages (from cryptography>=36.0.0->pdfminer.six->pdfquery) (1.15.1)\n",
            "Requirement already satisfied: pycparser in /usr/local/lib/python3.9/dist-packages (from cffi>=1.12->cryptography>=36.0.0->pdfminer.six->pdfquery) (2.21)\n",
            "Building wheels for collected packages: pdfquery\n",
            "  Building wheel for pdfquery (setup.py) ... \u001b[?25l\u001b[?25hdone\n",
            "  Created wheel for pdfquery: filename=pdfquery-0.4.3-py3-none-any.whl size=16798 sha256=fefb722b96707555da6e19ab434f96c05d43ca37539981ec2f5c14dca573bb31\n",
            "  Stored in directory: /root/.cache/pip/wheels/9a/12/58/c1c92713b406092cae17f51b6d67ee96c60675c78e7278eb38\n",
            "Successfully built pdfquery\n",
            "Installing collected packages: roman, cssselect, pyquery, pdfminer.six, pdfquery\n",
            "Successfully installed cssselect-1.2.0 pdfminer.six-20221105 pdfquery-0.4.3 pyquery-2.0.0 roman-4.0\n"
          ]
        }
      ]
    },
    {
      "cell_type": "code",
      "source": [
        "!pip install tqdm\n",
        "import nltk\n",
        "nltk.download('punkt')\n",
        "nltk.download('stopwords')\n",
        "nltk.download('wordnet')"
      ],
      "metadata": {
        "colab": {
          "base_uri": "https://localhost:8080/"
        },
        "id": "mEtBNrkTep3b",
        "outputId": "3f31eb5a-d871-4722-8d80-e1fede8bab8b"
      },
      "execution_count": 8,
      "outputs": [
        {
          "output_type": "stream",
          "name": "stdout",
          "text": [
            "Looking in indexes: https://pypi.org/simple, https://us-python.pkg.dev/colab-wheels/public/simple/\n",
            "Requirement already satisfied: tqdm in /usr/local/lib/python3.9/dist-packages (4.65.0)\n"
          ]
        },
        {
          "output_type": "stream",
          "name": "stderr",
          "text": [
            "[nltk_data] Downloading package punkt to /root/nltk_data...\n",
            "[nltk_data]   Unzipping tokenizers/punkt.zip.\n",
            "[nltk_data] Downloading package stopwords to /root/nltk_data...\n",
            "[nltk_data]   Unzipping corpora/stopwords.zip.\n",
            "[nltk_data] Downloading package wordnet to /root/nltk_data...\n"
          ]
        },
        {
          "output_type": "execute_result",
          "data": {
            "text/plain": [
              "True"
            ]
          },
          "metadata": {},
          "execution_count": 8
        }
      ]
    },
    {
      "cell_type": "code",
      "source": [
        "# from google.colab import drive\n",
        "# drive.mount('/content/drive')"
      ],
      "metadata": {
        "id": "7hGL-ZwTdIP1"
      },
      "execution_count": 28,
      "outputs": []
    },
    {
      "cell_type": "code",
      "source": [
        "pdf = PDFQuery('/Kim et al (2023). Article.pdf')\n",
        "pdf.load()\n",
        "\n",
        "# Use CSS-like selectors to locate the elements\n",
        "text_elements = pdf.pq('LTTextLineHorizontal')\n",
        "\n",
        "# Extract the text from the elements\n",
        "papers = [t.text for t in text_elements]\n",
        "\n",
        "print(papers)"
      ],
      "metadata": {
        "colab": {
          "base_uri": "https://localhost:8080/"
        },
        "id": "VDaKm9INnnRa",
        "outputId": "13bef2d0-1bb8-45be-a2fa-f80ead02b0df"
      },
      "execution_count": 6,
      "outputs": [
        {
          "output_type": "stream",
          "name": "stdout",
          "text": [
            "['What Happens With Comparison Processes When “the Other” is Very ', 'Similar? Academic Self-Concept Formation in Twins ', 'Yeeun Kim a, *, Hanna Gaspard a, b, Moritz Fleischmann a, Benjamin Nagengast a,c, ', 'Ulrich Trautwein a ', 'a Hector Research Institute of Education Sciences and Psychology, University of Tübingen, Walter-Simon-Str. 12, 72072 Tübingen, Germany ', 'b Center for Research on Education and School Development, TU Dortmund University, Vogelpothsweg 78, 44227 Dortmund, Germany ', 'c Department of Education and the Brain & Motivation Research Institute (bMRI), Korea University, 145 Anam-ro, Seongbuk-gu, Seoul 02841, South Korea ', '', '', 'Keywords: ', 'Academic self-concept ', 'Social comparison ', 'I/E model ', 'Mirror effect ', 'Twin ', 'Age-difference ', 'According to the internal/external frame of reference (I/E) model (Marsh, 1986), individuals’ academic self- ', 'concept is strongly influenced by comparing their achievement in one domain with their achievement in ', 'other domains and with the achievement of others. Research has typically found contrast effects such that high- ', 'achieving others have a negative effect on students’ academic self-concept. Yet, what happens if the “other” is ', 'somebody very similar to oneself as in the case of monozygotic twins? We postulate and examine the mirror effect, ', 'which means that rather than serving as a contrast, the effect of the co-twin’s achievement parallels the effect of ', 'a monozygotic twin’s own achievement on academic self-concept. We used data from two school-aged cohorts ', '(11- and 17-year-olds) from a representative sample (N = 4,202) of monozygotic and dizygotic twins in Ger- ', 'many. We regressed twins’ math and German self-concepts on their own and their co-twins’ mathematics and ', 'German achievement. Internal and external comparison effects as postulated in the I/E model were replicated for ', 'both monozygotic and dizygotic twins across both age groups. In line with our hypothesis, the mirror effect was ', 'found in monozygotic twins only: Co-twins’ achievement and twins’ own achievement showed a parallel pattern ', 'of positive effects on academic self-concept within each domain and negative effects on academic self-concept ', 'between domains, duplicating the I/E pattern. The mirror effect tended to be more pronounced for older ', 'monozygotic twins. We argue that the mirror effect is likely caused by high interpersonal similarity and con- ', 'stitutes a rare exception to the broad generalizability of contrast effects as assumed in the I/E model. ', 'Academic self-concept refers to students’ self-beliefs about their in- ', 'tellectual strengths and weaknesses (Shavelson et al., 1976). Academic ', 'self-concept has been shown to be associated with a number of impor- ', 'tant educational outcomes, including academic achievement (Huang, ', '2011), effort (Trautwein, Lüdtke, Roberts et al., 2009), and career as- ', 'pirations (Nagengast & Marsh, 2012). In line with Shavelson et al.’s ', '(1976) seminal review article on the hierarchical and dimensional na- ', 'ture of academic self-concept, researchers have come to a consensus that ', 'there are actually several domain-specific academic self-concepts, with ', 'abundant research showing particularly strong associations between ', 'domain-specific self-concepts and related outcomes (Marsh & Craven, ', '2006). However, in contrast to the Shavelson model of academic self- ', 'concept, research on academic self-concept based on Marsh/- ', 'Shavelson’s model (1985) has also shown that students tend to ', 'differentiate strongly between verbal and mathematical domains, ', 'especially with age. Numerous empirical studies based on the I/E model ', '(Marsh, 1986) have highlighted the domain-specific nature of academic ', 'self-concept (for a meta-analysis, see M¨oller et al., 2020). ', 'Internal and social comparison processes have been identified as ', 'important determinants of academic self-concept (Marsh, 1986). Stu- ', 'dents use internal (or dimensional; M¨oller & Marsh, 2013) comparison ', 'processes in the development of self-concept in diverse academic do- ', 'mains, which lead to a contrast that increases academic self-concepts in ', 'students’ comparably strong domains and to more negative academic ', 'self-concepts in students’ weaker domains. In addition to this internal ', 'comparison process, Marsh (1986) argued that a student’s academic ', 'self-concept in a given domain is contrasted by social comparisons ', '(“contrasts”) with fellow students (a so-called external comparison ', '', '', '', '', '', 'Available online 21 November 2022 ', '0361-476X/© 2022 The Authors. Published by Elsevier Inc. This is an open access article under the CC BY license (http://creativecommons.org/licenses/by/4.0/). ', '', '', '', '', 'process). Depending on whether the student shows comparatively high ', 'or low achievement in a specific domain, this results in either (a) a ', 'downward social comparison (e.g., “I am better in math than the ma- ', 'jority of my classmates”), leading to a comparatively high academic self- ', 'concept in a specific domain, or (b) an upward social comparison (e.g., “I ', 'am worse in mathematics than the majority of my classmates”), leading ', 'to a comparatively low academic self-concept in a specific domain. This ', 'complex pattern involving the effects of internal and external compar- ', 'ison processes on students’ academic self-concepts is described in the ', 'internal/external frame of reference (I/E) model (Marsh, 1986) and has ', 'received extensive empirical support (for a meta-analysis, see M¨oller ', 'et al., 2020). ', 'However, it is important to ask whether internal and external frame ', 'of reference effects—basically-two contrast effects—already tell the ', 'complete story of the comparison processes that underlie academic self- ', 'concept formation. This is an important line of inquiry for educational ', 'research because, if we can identify situations in which contrast effects ', 'are reversed, we may be able to understand when noncompetitive, ', 'reciprocal comparison processes drive educational development. ', 'Accordingly, we aimed to find an exception to the generalizability of the ', 'I/E model that such contrast effects are offset or even reversed in the ', 'students’ comparison with a very similar reference target with whom ', 'one has a close relationship. Given that otherwise, the I/E model has ', 'found strong empirical support and only a few moderators have been ', 'found (if at all), the current investigation draws from social psycho- ', 'logical theory perspectives to shed new light on students’ comparison ', 'processes with a very close and similar reference target (Festinger, 1954; ', 'Tajfel, 1978; Tajfel & Turner, 1979). ', 'In this article, we introduce the mirror effect hypothesis. The mirror ', 'effect means that, rather than serving as a contrast, the effects of the ', 'achievement of a very similar other person parallel the effects of the first ', 'person’s own achievement. More specifically, in the case of monozygotic ', 'twins, a co-twin’s achievement and an individual monozygotic twin’s ', 'achievement will show a parallel pattern of positive effects within a ', 'domain and negative effects between domains when the I/E model is ', 'applied (Marsh, 1986). In the present study, we embrace the unique ', 'opportunity to test the mirror effect by using a large sample of 4,202 ', 'monozygotic (MZ) and dizygotic (DZ) twins, with the MZ twins consti- ', 'tuting arguably the most similar “other” student one can imagine. ', 'Moreover, the fact that the data set comprised data from two school- ', 'aged cohorts (11- and 17-year-olds) allowed us to examine whether ', 'the strengths of the postulated mirror effect differed across age groups. ', '1. Internal and External Comparison Processes as Determinants ', 'of Academic Self-Concepts ', 'Domain-specific academic self-concepts refer to people’s beliefs- ', 'about their abilities in given academic domains (Marsh et al., 1988). ', 'Academic self-concepts have been shown to be associated with a number ', 'of important learning processes and educational outcomes, including ', 'behavioral engagement in mathematics (e.g., paying attention in class, ', 'completing homework, studying for exams) and subsequent mathe- ', 'matics performance (Gjicali & Lipnevich, 2021), future-oriented moti- ', 'vation and the ability to form interpersonal connections with other ', 'students (Kim et al., 2021), emotions (Goetz et al., 2010), academic ', 'achievement (Huang, 2011), effort (Trautwein, Lüdtke, Roberts et al., ', '2009), and career aspirations (Nagengast & Marsh, 2012). A substantial ', 'body of research has found support for reciprocal relationships between ', 'academic self-concepts and academic achievement (Marsh & Craven, ', '2006; M¨oller et al., 2020), and this is why developing positive academic ', 'self-concepts is held in high regard in education. ', 'In general, younger children tend to report fairly high academic self- ', 'concepts in most domains (Eccles et al., 1993). However, as they pass ', 'through the grades from kindergarten to 12th grade, they develop a ', 'more balanced view of themselves, most likely fueled by experiences of ', 'success and failure in diverse domains (Muenks et al., 2018) along with ', 'an increased use of social comparisons (Dijkstra et al., 2008) and a better ', 'understanding of their own abilities compared with those of others ', '(Harter, 2012). ', 'Students use multiple frames of reference, including internal, ', 'external, temporal, and criterion-based frames of reference, to compare ', 'and to evaluate their own ability within academic domains that are ', 'importance to them (M¨oller et al., 2020). The I/E model developed by ', 'Marsh (1986) combines two central comparison processes: the tendency ', 'of individual students to internally compare their academic achievement ', 'across domains (internal or dimensional comparison process; M¨oller & ', 'Marsh, 2013) and the tendency to externally compare their own ', 'achievement level with that of surrounding comparison targets or a ', 'reference group (Marsh et al., 2008). ', 'With regard to external comparison processes, when students engage ', 'in social comparisons with better achieving others, they tend to have ', 'lower academic self-concepts, whereas students’ comparisons with ', 'lower achieving others contribute to increasing students’ self-concepts ', 'regardless of the students’ absolute levels of achievement, a phenome- ', 'non known as the Big-Fish-Little-Pond-Effect (BFLPE; Marsh, 1987). ', 'More specifically, if there are many high-achieving students in a class- ', 'room, the likelihood of negative upward comparisons increases; ', 'conversely, if there are more low-achieving students in a classroom, ', 'students are more likely to look better than their fellow students in ', 'comparison (Marsh, 1987). Indeed, high-achieving fellow students in ', 'the same class and school have been shown to adversely affect in- ', 'dividuals’ academic self-concepts, ', 'In addition to external comparisons with other students, an in- ', 'dividual’s achievement in a certain domain can negatively affect their ', 'academic self-concept in contrasting domains as a consequence of in- ', 'ternal (or dimensional) comparison processes (M¨oller & Marsh, 2013). ', 'For example, a person’s mathematics achievement negatively predicts ', 'the person’s verbal self-concept when verbal achievement is statistically ', 'controlled for; likewise, verbal achievement negatively predicts math ', 'self-concept when math achievement is statistically controlled for ', '(M¨oller et al., 2020). In this article, we use the term internal comparison ', 'processes (rather than dimensional comparison processes) because of the ', 'central role of Marsh’s (1986) I/E model in our analyses. ', 'In empirical studies on the I/E model, researchers typically use ', 'school grades (reported by teachers/schools or the students) and ques- ', 'tionnaire data on students’ self-concept. The predictions of the I/E ', 'model are then tested by using a set of regression analyses or structural ', 'equation modeling. As illustrated in the upper part of Fig. 1, support for ', 'the I/E model is found when school grades positively predict academic ', 'self-concept in the corresponding domain (this is interpreted as support ', 'for external comparison processes) and negatively predict academic self- ', 'concept in the contrasting domain (support for internal comparison ', 'processes.). ', '2. The Mirror Effect: Twin Achievement as a Frame of Reference ', 'for Academic Self-Concepts ', 'There is very robust evidence for the I/E model (M¨oller et al., 2020), ', 'which basically emphasizes that contrast effects drive the formation of ', 'students’ academic self-concepts: Students contrast their achievement in ', 'a certain domain with the achievements of other students and contrast ', 'their own achievement across various domains. However, one might ask ', 'if there are situations in which such contrast effects are offset or even ', 'reversed. In the present article, we use the term mirror effect to describe ', 'such a pattern. We argue that such an effect might be found when stu- ', 'dents compare themselves with somebody who is very similar to ', 'themselves: Just like their image in a mirror, students use what they see ', 'in this other person as an additional information to form their image of ', 'themselves. In the present investigation, we focused on what are argu- ', 'ably the most similar dyads of students: twins (Stewart, 2000). ', 'According to Skaalvik and Skaalvik (2002), social comparisons with ', 'siblings or close friends may differ from social comparisons with ', '', '', '', '', 'classmates, for instance, because students may have more freedom to ', 'choose or not choose to use their friends or siblings as comparison tar- ', 'gets, whereas classmates are forced upon students, leaving them no ', 'choice about comparison standards. At the same time, siblings are ', 'typically close and visible to each other, and social comparisons with ', 'family members are believed to be crucial for self-knowledge ', 'throughout early development (Alicke et al., 2009). Throughout child- ', 'hood and adolescence, siblings learn from each other (i.e., social ', 'learning) but also sometimes attempt to differentiate (i.e., socially ', 'contrast) themselves from each other (Whiteman et al., 2007) and ', 'compete with each other (Schachter et al., 1976). ', 'In the present article, we focused on twins, who are exemplary close ', 'others. Twins are often perceived and treated as a social unit, especially ', 'in childhood (Stewart, 2000). In their common family background and ', 'experiences, twins compare their similarities and differences in traits ', 'and qualities (Watzlawik, 2009). An important differentiation is be- ', 'tween MZ and DZ twins due to their differential similarity and re- ', 'lationships. MZ and DZ twins have been empirically shown to perceive ', 'similarities with their co-twins to different degrees. For instance, MZ ', 'twins perceive fewer differences in their traits and other qualities than ', 'DZ twins do (Watzlawik, 2009). This finding is in line with studies that ', 'have found greater similarity in academic self-concept (Kovas et al., ', '2015), achievement (Gottschling et al., 2012), personality, and intelli- ', 'gence for MZ twins (McCartney et al., 1990), likely due to genetic in- ', 'fluences rather than shared environmental influences, such as school ', 'and family (Gottschling et al., 2012; Kovas et al., 2015). Compared with ', 'DZ twins, MZ twins are more likely to be dependent on (Penninkilampi- ', 'Kerola et al., 2005) and attached to their co-twins (Fraley & Tancredy, ', '2012). Therefore, MZ twins tend to be less competitive and more ', 'cooperative with each other (Segal & Hershberger, 1999). Such quali- ', 'tatively differential relationships exhibited by MZ and DZ twins suggest ', 'that social comparison processes in the formation of academic self- ', 'concepts could differ by the status of being an MZ twin, as predicted ', 'in our mirror effect hypothesis. ', 'The idea that “close others” might impact social comparison proc- ', 'esses—as encapsulated in the mirror effect hypothesis—is not ', 'completely new. Back in the 1950 s, social comparison theory postulated ', 'that individuals evaluate their opinions and abilities by comparing ', 'themselves with similar others (Festinger, 1954). The comparative ', 'evaluation with similar others leads to pressure to achieve uniformity in ', 'groups, in which individuals either assimilate to each other or contrast ', 'and leave the group when they perceive that they are not similar to other ', 'group members. In other words, interpersonal association is relative to ', 'the degree of perceived similarity, and it differentiates the socialization ', 'effect into either assimilation or competition/indifference. Specifically, ', 'assimilation to the successful comparison target is assumed to be ', 'amplified more when individuals compare themselves with someone to ', 'whom they feel very similar. ', 'Similarly, in the late 1970 s, social identity theory posited that in- ', 'dividuals are intrinsically motivated to develop a sense of belonging to ', 'similarly perceived others within an in-group as opposed to dissimilar ', 'others in an out-group in such a way as to construct a social identity ', '(Tajfel, 1978; Tajfel & Turner, 1979; Turner et al., 1979). The in-group ', 'and out-group classification posited three cognitive processes of social ', 'categorization, social identification, and social comparison (Tajfel, ', '1978; Tajfel & Turner, 1979). Throughout the cognitive processes, in- ', 'dividuals construct their self-concept on the basis of their classification ', 'and identification of themselves with the in-group (Tajfel & Turner, ', '1979). It follows that they compare and enhance their perceptual and ', 'behavioral similarities with the members of the in-group while con- ', 'trasting themselves with those of the out-group, and this process ', 'changes the way they see themselves from being distinct from others (i. ', 'e., personal identity) to having a social identity (Tajfel & Wilkes, 1963). ', 'Beyond the focus of social identity theory on intergroup relations, ', 'Turner et al. (1987) proposed social categorization theory to delve ', 'deeper into why individuals in given ’in-groups’ could behave very ', 'differently (Hornsey, 2008). Specifically, the enhanced identification ', 'with the in-group leads individuals to depersonalize their self- ', 'perception and behaviors to fit the in-group prototype (Hogg & Reid, ', '2006), based on which they view the accomplishments and reputations ', 'of other in-group members as their own(Abrams et al., 1990). Therefore, ', 'when in-group members are very similar and feel close to each other, ', 'they construct their self-concept on the basis of their perceptions of their ', 'individual attributes as well as the social self that they share with the ', 'similar others around them (Turner et al., 1987). ', 'A number of studies have found support for the existence of assim- ', 'ilation effects among close others. In social comparisons with close ', 'others, individuals who perceived themselves as competent in a certain ', 'domain were more likely to evaluate the strengths and weaknesses of ', 'close others directly rather than comparatively in their self-evaluations ', '', '', '', '(Pelham & Wachsmuth, 1995). Similarly, in research on the self-esteem ', 'maintenance model (Tesser, 1980), in tasks with low relevance to the ', 'self, individuals tended to enhance their self-concept as a consequence ', 'of a close other’s (e.g., siblings) successful performance, presumably as a ', 'consequence of reflected glory processes (Tesser & Schwartz, 2001). In ', 'another study that is particularly relevant to the present article, MZ ', 'twins exhibited a positive effect of upward comparisons with success- ', 'fully performing co-twins on their general self-evaluations, whereas DZ ', 'twins and non-twins experienced a negative effect that resulted from ', 'upward comparisons with their siblings, suggesting that the very close ', 'relationship in MZ twin pairs buffered effects of negative comparisons ', 'on their general self-concept (Noller et al., 2008). ', 'In recent decades, additional support for assimilation effects has ', 'been found in a number of studies. However, this support was largely ', 'found in experimental settings in the lab in which similarity was ', 'experimentally manipulated (e.g., Mussweiler et al., 2004), whereas a ', 'clear preponderance of contrast effects was documented in naturalistic ', 'learning settings (Marsh et al., 2007). In fact, in naturalistic learning ', 'settings, even when some support for assimilation effects was found, the ', 'contrast effects of comparing oneself with better achieving others were ', 'much stronger, especially in an actual learning context (Trautwein, ', 'Lüdtke, Marsh et al., 2009). For this reason, rather than adopting the ', 'term assimilation, we reserve the term mirror effect to describe the ', 'positive effect of making a comparison with the achievement of a very ', 'close other on one’s own academic self-concept in a real-life setting. ', '', 'From a developmental perspective, students increasingly differen- ', 'tiate between different self-concepts as they grow older (Denissen et al., ', '2007; Harter, 2003). This tendency is likely due to developmental ', 'changes between early and late childhood in how students’ use social ', 'and dimensional comparisons to form their academic self-concepts ', '(Weidinger et al., 2019). Very young students tend to have a very pos- ', 'itive global self-concept because it is less closely aligned with external ', 'indicators, such as their achievement, skills, and significant others’ ', 'evaluations (Marsh, 1990). However, as students gain more life expe- ', 'riences, they learn about evaluative standards and their relative ', 'strengths and weaknesses in diverse domains (Wigfield & Karpathian, ', '1991). In a review, Muenks et al. (2018) reported that students become ', 'more receptive to the social comparison information of surrounding ', 'others’ achievements as they have more of a motive to evaluate their ', 'own academic abilities with age. With age, students also develop an ', 'enhanced ability to conceptualize the self as their interactions with ', 'surrounding students increase (Harter, 2012). Not surprisingly, then, a ', 'recent meta-analysis showed stronger effects of both social and internal ', 'comparisons on academic self-concepts for older than for younger stu- ', 'dents (M¨oller et al., 2020). ', 'Given that the development of the identities of individual twins is ', 'closely related to their emotional and cognitive development (Amani & ', 'Shariatipour, 2021), one may further ask whether the way in which ', 'twins construct their academic self-concepts differs by age. A meta- ', 'analysis of MZ and DZ twins showed declines in the resemblance be- ', 'tween twins in intelligence, cognitive ability (verbal, quantitative, per- ', 'formance, perception, and IQ), and personality traits (activity, ', 'aggression, anxiety, dominance, emotionality, masculinity, sociability, ', 'and task orientation) with age (McCartney et al., 1990), indicating in- ', 'creases in each twin’s individual experiences and environment for both ', 'MZ and DZ twins. In a comparison of MZ and DZ twins, DZ twins became ', 'less similar than MZ twins over time on cognitive ability (McCartney ', 'et al., 1990). Accordingly, DZ pairs were found to be more likely to ', 'individually make references to their own cognitive ability and to ', 'construct different achievement-related self-concepts within twin pairs, ', 'compared with MZ pairs (Richardson & Norgate, 2005). Interestingly, ', 'despite decreases in the resemblance between twins as they grow older, ', 'older MZ twins tend to feel more attached to their co-twin than younger ', 'MZ twins, whereas older DZ twins reported feeling less attached to their ', 'co-twin than younger DZ twins (Fraley & Tancredy, 2012). ', 'Taken together, on the basis of the stronger social and dimensional ', 'comparison processes found in older than younger students (M¨oller ', 'et al., 2020), it is possible that twins in their late school years are likely ', 'to observe and use their co-twin’s achievement to construct their own ', 'academic self-concepts within and across domains more than younger ', 'twins in their early school years. Although both MZ and DZ twins are ', 'likely to experience a decrease in the resemblance of their academic ', 'achievement to their co-twin’s achievement as they grow older ', '(McCartney et al., 1990), older MZ twins can be expected to show ', 'stronger mirror effects on their academic self-concepts than younger ', 'twins on the basis of the previous findings of stronger attachments ', 'within twin pairs in older compared with younger MZ twins (Fraley & ', 'Tancredy, 2012). By contrast, both younger and older DZ twins are less ', 'likely to show mirror effects due to the perceived contrasts between ', 'them, thus leading to sibling deidentification or non-reference (White- ', 'man et al., 2011). ', '', 'In the present study, we tested the mirror effect hypothesis, which ', 'implies that, rather than serving as a contrast, the effect of a co-twin’s ', 'achievement would parallel the effects of an individual MZ twin’s own ', 'achievement on domain-specific academic self-concept. More specif- ', 'ically, given that the similarity between MZ twins is high and almost ', 'perfect—like looking in the mirror—we hypothesized that we would ', 'find a mirror effect on academic self-concept when we added twins’ ', 'achievement in different domains to the classical I/E model: As depicted ', 'in Fig. 1, we hypothesized that an individual twin’s achievement and the ', 'co-twin’s achievement would show a parallel pattern of positive effects ', 'on their academic self-concept within domains and negative effects ', 'between domains, duplicating the I/E pattern. Importantly, because DZ ', 'twins tend to perceive each other as less similar and tend to have less ', 'close and more competitive relationships with their co-twins (Fraley & ', 'Tancredy, 2012), we expected the mirror effect to be especially strong ', 'for MZ twins. Regarding stronger social and dimensional comparison ', 'effects for older students (M¨oller et al., 2020), we expected stronger ', 'mirror effects among MZ twins in late secondary school than in early ', 'elementary school. ', 'We used a large, representative sample of MZ and DZ twins in Ger- ', 'many stemming from the TwinLife study (Diewald et al., 2021; Hahn ', 'et al., 2016). Specifically, we used data from school-aged twins in two ', 'cohorts: 11-year-old and 17-year-old twins. Notably, only same-sex DZ ', 'twins were sampled in this study so that all twin pairs had the same sex. ', 'We addressed three research questions: First, we examined whether ', 'we could replicate the basic I/E model (Marsh, 1986) using twin data. ', 'We focused on how a twin’s own achievement in one domain influenced ', 'their academic self-concept in the corresponding and contrasting do- ', 'mains. Hence, in this analysis, we focused on only the upper part of ', 'Fig. 1 and did not include the effects of co-twins’ achievement. Gener- ', 'ally, we anticipated that we would find support for the I/E model in both ', 'the MZ and the DZ twins—basically a replication of prior research with a ', 'somewhat specific sample (twins). ', 'Second, we examined the mirror effect. More specifically, we ', 'assumed that a twin would use their co-twin’s achievement as a frame of ', 'reference for their own academic self-concept. On the basis of differ- ', 'ences in perceived similarity and differential socialization across MZ and ', 'DZ twins (Fraley & Tancredy, 2012), we expected that the mirror effect ', 'would only be found in MZ twins. Statistically, as illustrated in Fig. 1, we ', 'expected for MZ twins, but not for DZ twins, that an individual twin’s ', 'achievement and their co-twin’s achievement would show a parallel ', 'pattern of positive effects on their academic self-concept within domains ', 'and negative effects between domains, duplicating the I/E pattern. ', 'Third, on the basis of findings that the strengths of I/E effects might ', 'differ across different age groups (M¨oller et al., 2020), we finally tested ', '', '', '', 'our full model separately for the two age groups (i.e., 11-year-olds and ', '17-year-olds) of MZ and DZ twins. Although we expected to find mirror ', 'effects in both cohorts, we expected that these mirror effects would ', 'generally be stronger and more consistent in the older age group. Our ', 'expectation of stronger mirror effects for late secondary school students ', 'than early elementary school students is based on previous findings of a ', 'stronger attachment between twins in older than younger pairs (Fraley ', '& Tancredy, 2012) despite decreases in the twin pair’s resemblance with ', 'respect to cognitive abilities and personality (McCartney et al., 1990). ', '', '', '', 'Ethical Standards. The present study is based on data from the ', 'TwinLife study. The German Psychological Association confirmed ', '(protocol numbers: RR 11.2009 and RR 09.2013) that the TwinLife ', 'study was in line with the ethical standards for research with human ', 'participants (M¨onkediek et al., 2019). Active consent was obtained ', 'during the field phase (Hahn et al., 2016). ', 'Data Collection. TwinLife is based on a representative sample of ', 'families with MZ and DZ twins in Germany (Diewald et al., 2021; Hahn ', 'et al., 2016). The data from this study are made available by the Leibniz- ', 'Institute for the Social Sciences (GESIS). Data collection began in 2014 ', 'with a population-based sample of 4,097 twin families consisting of MZ ', 'and DZ twins, biological and or adoptive parents, stepparents (when ', 'applicable), and the twins’ siblings and partners (M¨onkediek et al., ', '2019). Twin families were drawn from local resident registers in com- ', 'munities with at least 5,000 inhabitants in Germany. If two same-sex ', 'people with the same date of birth lived in the same household, the ', 'TwinLife researchers checked whether the selected persons were twins. ', 'The study used a probability-based sampling design that was designed to ', 'counteract the overrepresentation of MZ twins that has often been the ', 'case in other twin samples that have been based on self-recruitment. ', 'The survey was administered in participants’ homes by applying ', 'face-to-face interviews (i.e., computer-assisted personal interviews), ', 'computer-assisted self-interviews, or paper-and-pencil interviews and/ ', 'or by administering online questionnaires (M¨onkediek et al., 2019). ', 'When the respondents were difficult to reach in person, interviewers ', 'conducted telephone interviews. In the case of a telephone interview, ', 'self-reported school grades were collected instead of the photographed ', 'school-grades. The survey participants who were over 10 years old were ', 'given a cash gift of 10 € after a successful interview. School report cards ', 'were photographed as part of the computer-assisted interviews. ', '', 'For our analyses, we used data collected in the first wave of the ', 'TwinLife longitudinal study which took place in 2014. The present study ', 'was not preregistered. We only examined school-aged twins from the ', 'two birth cohorts consisting of individual twins who were 11 (N = ', '2,086) or 17 (N = 2,122) years of age; the other two cohorts were not ', 'examined in our study as they were not school-aged (around 5 and 23 ', 'years of age, respectively). Among the 4,208 school-aged twins, six in- ', 'dividual twins did not have information about zygosity, and therefore, ', 'we did not include them in our study. After eliminating the twins with ', 'no information on zygosity, our sample consisted of 842 MZ twins (49.8 ', '% male) and 1,240 DZ twins (49.8 % male) who were 11 years old and ', '996 MZ twins (43.8 % male) and 1,124 DZ twins (41.8 % male) who ', 'were 17 years old. As TwinLife only included data from same-sex DZ ', 'twins, our analysis was restricted to same-sex DZ twin pairs. According ', 'to the parental responses on individual school-aged twins, and after ', 'eliminating nonresponses due to unclear classification or no participa- ', 'tion, 97 % of the 1,884 individuals twins had grown up together to the ', 'present day, 0.1 % had lived separately to the present day, and 2.9 % had ', 'sometimes lived separately to the present day. Overall, in comparison ', 'with 11-year-old twins, who were contacted through their parents, 17- ', 'year-old twins were harder to reach in person as a reason of their ', 'refusal to participate in the interview. The reasons for this refusal ', 'included their unwillingness to participate as a matter of principle, ', 'having no time, lack of interest, and no response. ', '', 'Zygosity was determined by questionnaires administered to the ', 'parents of twins who were between 4 and 12 years of age or by self- ', 'report questionnaires administered to twins who were older than 12 ', '(Lenau et al., 2017). The questionnaires consisted of three sections that ', 'tapped into physical similarity, confusion from close resemblance (i.e., ', 'being confused for the other twin), and zygosity. To validate these ', 'questions, the results of an analysis of genetic material (i.e., the ', 'collection of DNA using buccal swaps) from a subsample of 328 twins ', 'were compared with either parent reports (n = 212) for twins between 4 ', 'and 11 years of age or self-reports (n = 116) for twins between 12 and ', '16 years of age. The classification of zygosity on the basis of the ques- ', 'tionnaire was confirmed for 97 % of the parent reports and 96 % of the ', 'self-reports and was thus successfully cross-validated (Lenau et al., ', '2017). The rate of agreement between questionnaires and genotyping to ', 'determine zygosity was on a par with or better than in other twin studies ', '(Rietveld et al., 2000; Song et al., 2010). ', 'Academic self-concept was assessed with three items in each domain ', 'of mathematics and German adapted from a standardized German self- ', 'concept inventory (Dickh¨auser et al., 2002). The students were asked ', 'to rate the extent to which each statement applied to them on a 5-point ', 'rating scale, with higher values indicating higher self-concept (Hahn ', 'et al., 2016). The items were, “I am … in math/German? (1 = not ', 'talented, 5 = very talented),” “I know … in mathematics/German? (1 = a ', 'little, 5 = a lot),” and “In mathematics/German, many exercises are … (1 ', '= easy, 5 = difficult; reverse coded).” The internal consistency of the ', 'scales ranged from α = .86 to α = .93 for mathematics self-concept and ', 'from α = .81 to α = .87 for German self-concept across the older and ', 'younger cohorts and in the MZ and DZ twin groups. The rate of missing ', 'data ranged from approximately 0.7 % to 18 % for the mathematics and ', 'German self-concept data for the MZ and DZ twins in each age group ', '(Table 1). ', 'Information about school grades was retrieved from photos that ', 'students had taken of their latest school report cards. Accordingly, ', 'school grades reflected achievement before academic self-concept had ', 'been assessed in the survey. However, these photos were missing for ', 'approximately 42 % of 4,202 twins. When students did not submit the ', 'photo of their school grades, self-reported school grades were collected ', '(Hahn et al., 2016). We created a new school grade variable by ', 'combining the photographed school grades and self-reported school ', 'grades, which were substituted for the missing values. Hence, in total, ', 'we had information about grades for 83.9 % of the 4,202 students. There ', 'were 10 students who submitted both photographed school grades and ', 'self-reported grades, and all of them reported identical school grades, ', 'except for one student who reported higher self-reported grades than the ', 'photographed school grades. For this one student, we used the photo- ', 'graphed school grades instead of the self-reported grades. Consequently, ', 'the missing rate ranged from 14.5 % to 18.2 % for mathematics grades ', 'and from 14.8 % to 17 % for German grades (for a detailed description, ', 'see Table 1). With regard to the validity of the self-reported grades, ', 'previous research showed a strong association between reported and ', 'actual grades for German students in different domains and grade levels ', '(Dickh¨auser & Plenter, 2005). In Germany, school grades are assigned ', 'on the scale ranging from 1 (very good) to 6 (insufficient). For ease of ', 'interpretation, we recoded the school grades so that higher values ', 'indicated higher achievement. Descriptive statistics and proportions of ', 'missing data for academic self-concept and achievement in the different ', 'groups are reported in Table 1. More detailed information about missing ', 'data in photographed and self-reported school grades and the reasons ', '', '', '', 'Table 1 ', 'Descriptive Statistics and Correlation Matrix. ', '', '', '', '', '', '', '', '', '', '', '', '', '', '', '11-year-old MZ ', '1.Mathematics grade ', '2.German grade ', '3.Mathematics grade: co-twin ', '4.German grade: co-twin ', '5.Mathematics self-concept ', '6.German self-concept ', '7.Mathematics self-concept: co-twin ', '8.German self-concept: co-twin ', '11-year-old DZ ', '1.Mathematics grade ', '2.German grade ', '3.Mathematics grade: co-twin ', '4.German grade: co-twin ', '5.Mathematics self-concept ', '6.German self-concept ', '7.Mathematics self-concept: co-twin ', '8.German self-concept: co-twin ', '17-year-old MZ ', '1.Mathematics grade ', '2.German grade ', '3.Mathematics grade: co-twin ', '4.German grade: co-twin ', '5.Mathematics self-concept ', '6.German self-concept ', '7.Mathematics self-concept: co-twin ', '8.German self-concept: co-twin ', '17-year-old DZ ', '1.Mathematics grade ', '2.German grade ', '3.Mathematics grade: co-twin ', '4.German grade: co-twin ', '5.Mathematics self-concept ', '6.German self-concept ', '7.Mathematics self-concept: co-twin ', '8.German self-concept: co-twin ', '720 ', '717 ', '– ', '– ', '837 ', '837 ', '– ', '– ', '1046 ', '1043 ', '– ', '– ', '1232 ', '1233 ', '– ', '– ', '815 ', '827 ', '– ', '– ', '834 ', '834 ', '– ', '– ', '955 ', '952 ', '– ', '– ', '927 ', '927 ', '– ', '– ', '4.4 ', '3.4 ', '– ', '– ', '3.8 ', '3.7 ', '– ', '– ', '4.5 ', '3.5 ', '– ', '– ', '3.8 ', '3.8 ', '– ', '– ', '4.3 ', '3.3 ', '– ', '– ', '3.5 ', '3.6 ', '– ', '– ', '4.2 ', '3.3 ', '– ', '– ', '3.4 ', '3.6 ', '– ', '– ', '0.91 ', '0.94 ', '– ', '– ', '0.82 ', '0.84 ', '– ', '– ', '0.92 ', '0.96 ', '– ', '– ', '0.81 ', '0.86 ', '– ', '– ', '1.07 ', '1.02 ', '– ', '– ', '0.99 ', '0.91 ', '– ', '– ', '1.06 ', '1.04 ', '– ', '– ', '0.99 ', '0.89 ', '– ', '– ', '122 ', '125 ', '– ', '– ', '6 ', '6 ', '– ', '– ', '194 ', '197 ', '– ', '– ', '9 ', '11 ', '– ', '– ', '181 ', '169 ', '– ', '– ', '162 ', '162 ', '– ', '– ', '169 ', '172 ', '– ', '– ', '197 ', '198 ', '– ', '– ', '15 ', '15 ', '– ', '– ', '0.7 ', '0.7 ', '– ', '– ', '16 ', '16 ', '– ', '– ', '0.7 ', '0.9 ', '– ', '– ', '18 ', '17 ', '– ', '– ', '16 ', '16 ', '– ', '– ', '15 ', '15 ', '– ', '– ', '18 ', '18 ', '– ', '– ', '.66 ', '.71 ', '– ', '– ', '.48 ', '.41 ', '– ', '– ', '.47 ', '.48 ', '– ', '– ', '.24 ', '.21 ', '– ', '– ', '.60 ', '.57 ', '– ', '– ', '.51 ', '.56 ', '– ', '– ', '.28 ', '.40 ', '– ', '– ', '.22 ', '.24 ', '– ', '– ', '1 ', '.57 ', '.64 ', '.48 ', '.41 ', '.10 ', '.30 ', '.10 ', '1 ', '.56 ', '.45 ', '.31 ', '.49 ', '.04 ', '.19 ', '.01 ', '1 ', '.43 ', '.59 ', '.36 ', '.59 ', '-.07 ', '.39 ', '-.01 ', '1 ', '.42 ', '.28 ', '.21 ', '.59 ', '-.04 ', '.16 ', '.03 ', '1 ', '.48 ', '.70 ', '.10 ', '.36 ', '.12 ', '.30 ', '1 ', '.31 ', '.47 ', '.12 ', '.32 ', '.05 ', '.14 ', '1 ', '.36 ', '.57 ', '.06 ', '.45 ', '.05 ', '.36 ', '1 ', '.21 ', '.40 ', '.05 ', '.46 ', '.00 ', '.16 ', '1 ', '.57 ', '.30 ', '.10 ', '.41 ', '.10 ', '1 ', '.56 ', '.19 ', '.01 ', '.49 ', '.04 ', '1 ', '.43 ', '.39 ', '-.01 ', '.59 ', '-.07 ', '1 ', '.42 ', '.16 ', '.03 ', '.59 ', '-.04 ', '', '1 ', '.12 ', '.30 ', '.10 ', '.36 ', '1 ', '.05 ', '.14 ', '.12 ', '.32 ', '1 ', '.05 ', '.36 ', '.06 ', '.45 ', '1 ', '.00 ', '.16 ', '.05 ', '.46 ', '1 ', '.10 ', '.50 ', '.10 ', '1 ', '.04 ', '.20 ', '.05 ', '1 ', '-.25 ', '.48 ', '-.16 ', '1 ', '-.25 ', '.24 ', '-.02 ', '1 ', '.10 ', '.45 ', '1 ', '.10 ', '1 ', '.05 ', '.20 ', '1 ', '.04 ', '1 ', '-.16 ', '.54 ', '1 ', '-.25 ', '1 ', '-.02 ', '.20 ', '1 ', '-.25 ', '', '', 'We used structural equation modeling in Mplus (Muth´en & Muth´en, ', '2017). We used the robust maximum likelihood estimator (MLR) and the ', 'design-based correction of standard errors and model fit statistics in ', 'Mplus to account for the non-normality of the indicator variables and ', 'the nonindependence of observations that resulted from the nesting of ', 'twins within twin pairs. We structured our data so that every individual ', 'was included as a single case, and each individual’s co-twin’s values ', 'were included as additional variables. Accordingly, we defined a twin ', 'pair as a nesting/stratification variable in the models because our data ', 'Table 2 ', 'Description of Valid and Missing Data of School Grade. ', 'included the same values in the data twice. To be specific, we controlled ', 'for the dependency of observations at the twin-pair level using a design- ', 'based data correction of standard errors and fit statistics (implemented ', 'with the Mplus command TYPE = COMPLEX; (Stapleton et al., 2016). ', 'To address our first research question, we replicated the I/E model ', 'for the full sample of twins by regressing a twin’s mathematics and ', 'German self-concept on the twin’s own mathematics and German ', 'achievement within and across domains. We used the latent variable ', 'modeling approach for academic self-concept measures. In addition, we ', 'performed a multiple-group analysis using the two groups of twins (i.e., ', 'MZ vs DZ). Specifically, we replicated the I/E model in each group and ', 'compared the difference between the MZ and DZ twins. In doing so, we ', 'used the likelihood ratio test of nested models using the scaled chi- ', '', '', '', '', 'Valid ', 'Missing ', '(cid:0) 96 ', '(cid:0) 95 ', '(cid:0) 94 ', '(cid:0) 92 ', '(cid:0) 89 ', '(cid:0) 88 ', '(cid:0) 86 ', '', '2438 ', '1770 ', '234 ', '1355 ', '106 ', '46 ', '29 ', '', '57.9 ', '42.1 ', '5.6 ', '32.2 ', '2.5 ', '1.1 ', '0.7 ', '', '2445 ', '1763 ', '234 ', '1355 ', '103 ', '40 ', '31 ', '', '58.1 ', '41.9 ', '', '', '2.4 ', '1.0 ', '0.7 ', '', '1113 ', '3905 ', '89 ', '2988 ', '', '', '26.4 ', '73.6 ', '2.1 ', '71.0 ', '', '', '1109 ', '3099 ', '93 ', '2988 ', '', '', '26.4 ', '73.6 ', '2.2 ', '71.0 ', '', 'Note. (cid:0) 96 = I can’t remember, (cid:0) 95 = doesn’t apply, (cid:0) 94 = technical error (i.e., faulty insertion), (cid:0) 92 = no participation in survey mode, (cid:0) 89 = unreadable, (cid:0) 88 = ', 'subject legible but grade illegible, (cid:0) 86 = not available/empty/not codable. ', '', '', '', 'square (Satorra & Bentler, 2010) to investigate the group differences in ', 'the regression analysis of the I/E model. In doing so, we compared the ', 'model fit of an unconstrained model with the fit of a model in which the ', 'regression paths were constrained to be the same across groups. In ', 'addition, we used the model constraint option in Mplus to test whether ', 'the regression coefficients of specific regression paths in the I/E model ', 'differed between the MZ and DZ twins. ', 'In the next step, we extended this model to include the effects of the ', 'co-twins’ achievement on the twins’ academic self-concept (see Fig. 1). ', 'To address the second research question, we additionally regressed ', 'mathematics and German self-concept on the co-twins’ mathematics and ', 'German achievements to test effects on the twins’ both matching and ', 'nonmatching self-concepts, controlling for the effects of their own ', 'achievement. We performed a multiple-group analysis in the two groups ', 'of twins (i.e., MZ and DZ). Applying the likelihood ratio test of nested ', 'models using the scaled chi-square (Satorra & Bentler, 2010) and the ', 'model constraint option, we tested for whether the regression co- ', 'efficients for the paths from the co-twin’s achievement to the twins’ ', 'academic self-concept within and across domains were stronger for MZ ', 'than DZ twin pairs in order to test whether the mirror effect differed ', 'between the MZ and DZ twins. ', 'To address our third research question, which referred to potential ', 'differences between the older and younger cohorts of students in the MZ ', 'and DZ twins, we performed a multiple-group analysis in four groups of ', '11-year-old MZ, 17-year-old MZ, 11-year-old DZ, and 17-year-old DZ ', 'twins in the regression analysis involving the I/E model that included ', 'the co-twin’s achievement as an additional predictor. To test for age ', 'differences, we applied the scaled likelihood ratio test to the regression ', 'analysis for different age groups in each pair of MZ and DZ twins. We ', 'also examined whether the regression coefficient for the paths from the ', 'twins’ and the co-twins’ achievement to the twins’ academic self- ', 'concept within and across the domains were stronger for the 17-year- ', 'old than for the 11-year-old twins in each MZ and DZ group. To ', 'obtain standardized results for the regression paths in the structural ', 'equation model and their differences, we manually standardized the ', 'individual item indicators and fixed the first factor loading to 1 for all ', 'model constraint tests of MZ and DZ twins in each age group. ', 'Beyond the chi-square statistic, we evaluated the fit of our models by ', 'computing the following fit indices and using the following values as ', 'cutoffs for acceptable fit: comparative fit index (CFI) > .95, TLI > .95, ', 'RMSEA < .06, and SRMR < .08 (Hu & Bentler, 1999). ', 'As we studied cross-group comparisons between MZ and DZ twins as ', 'well as between the two age groups, measurement invariance tests were ', 'crucial to ensure that the items measured academic self-concept simi- ', 'larly between the groups (Vandenberg & Lance, 2000). We conducted a ', 'series of confirmatory factor analyses with two latent variables for ', 'mathematics and German academic self-concepts with increasing levels ', 'of invariance across the four groups of 11-year-old MZ, 11-year-old DZ, ', '17-year-old MZ, and 17-year-old DZ twins. Following Meredith (1993), ', 'we compared a sequence of increasingly more restrictive models: Model ', '1 hypothesized configural invariance by modeling identical loading ', 'patterns between groups but no restrictions on any parameters in the ', 'measurement model. Model 2 hypothesized weak measurement invari- ', 'ance by constraining the factor loadings to be equal across groups. ', 'Model 3 hypothesized strong measurement invariance by constraining ', 'the factor loadings and item intercepts to be invariant across groups. We ', 'found support for configural invariance, χ2(32) = 159.895, CFI = .985, ', 'TLI = .971, RMSEA = .065, SRMR = .028, weak measurement invari- ', 'ance, χ2(44) = 184.395, CFI = .983, TLI = .977, RMSEA = .065, SRMR ', '= .028, and strong measurement invariance, χ2(56) = 192.035, CFI = ', '.984, TLI = .982, RMSEA = .050, SRMR = .032, as the decreases in ', 'model fit were in an acceptable range according to the criteria suggested ', 'by Cheung and Rensvold (2002). We found support for strong mea- ', 'surement invariance across the groups. Accordingly, we applied strong ', 'measurement invariance across the four groups in the structural equa- ', 'tion models to address our research questions. ', 'Missing data (see Table 1 for the proportions of missing data) were ', 'handled with full information maximum likelihood estimation in Mplus ', '(Muth´en & Muth´en, 2017). This approach uses all available information ', 'and is based on the missing-at-random (MAR) assumption (Graham, ', '2009). ', 'To make the MAR assumption more plausible, we included auxiliary ', 'variables as the saturated correlates (Graham et al., 2003). To avoid ', 'bias, our selection of the auxiliary variables was theoretically and ', 'empirically driven (Thoemmes & Rose, 2014). For the theoretically ', 'driven choice of auxiliary variables, we studied a meta-analysis of aca- ', 'demic achievement, which was found to be related to the parental in- ', 'fluences of parents’ socioeconomic status (SES) (Sirin, 2005), parental ', 'involvement (Castro et al., 2015; Jeynes, 2003), and parents’ social ', 'capital (Parcel et al., 2010) and the child’s personality, and intrinsic ', 'motivation (Higgins et al., 2007; Komarraju et al., 2009; Osenk et al., ', '2020). In the next step, we selected either (a) the variables that were ', 'correlated with the variables that had missing data (r > .10; van Buuren ', 'et al., 1999) or (b) the variables that were related to the number of ', 'missing items for each of the variables according to a multivariate ', 'analysis of the predictors of missingness (Thoemmes & Rose, 2014). ', 'Consequently, we included parents’ SES, parental support, parental ', 'control and individual twins’ personality (i.e., conscientiousness, ', 'neuroticism, openness, neuroticism, and extraversion) as auxiliary var- ', 'iables in our analyses (Thoemmes & Rose, 2014) in Mplus (Muth´en & ', 'Muth´en, 2017). ', '', '', 'As a preliminary analysis, we investigated the correlations among all ', 'variables separately for the MZ and DZ twins and within the two age ', 'groups. Prior twin research has sometimes shown relatively high simi- ', 'larity in educational achievement and motivation in twin pairs (Plomin ', 'et al., 2001). Such high similarity can make parameter estimates un- ', 'trustworthy due to multicollinearity. However, as shown in Table 1, the ', 'correlations were not too high in any of the four subsamples and showed ', 'no signs of multicollinearity between variables as r < .85 according to ', 'the general threshold value (Bohrnstedt & Carter, 1971). The highest ', 'correlation in MZ twins was r = .70, and the highest correlation in DZ ', 'twins was r = .56. The correlations between the twins’ and co-twins’ ', 'school grades ranged from r = .36 to r = .70 for MZ twins and from r = ', '.21 to r = .47 for DZ twins. ', 'Focusing on the individual twins in each of the four groups, mathe- ', 'matics and German self-concepts were weakly correlated for 11-year-old ', 'MZ twins (r = .10) and for 11-year-old DZ twins (r = .04). Mathematics ', 'and German self-concepts were negatively correlated for 17-year-old MZ ', '(r = -.25) and DZ twins (r = -.25). As is typically found in research on the ', 'I/E model (M¨oller et al., 2020), there were only weak correlations be- ', 'tween the mathematics and German academic self-concepts despite the ', 'rather substantial correlations in achievement, and the correlation be- ', 'tween mathematics and German academic self-concept was even nega- ', 'tive in older students. The correlations were in line with the literature ', '(M¨oller et al., 2020), thus providing additional evidence for the validity ', 'of our measures. ', '', 'In general, the intraclass correlation coefficient (ICC) for school ', 'grades ranged from .57 to .71 for MZ twin pairs and from .28 to .48 for ', 'DZ twin pairs (Table 1). Likewise, the ICCs for academic self-concepts ', 'ranged from .41 to .56 for MZ twins and from .21 to .24 for DZ twins. ', 'The results are in line with prior research results concerning similar ', 'variables (Tucker-Drob et al., 2016). ', '', '', '', '', 'With respect to the first research question, our findings showed that ', 'the I/E model (Marsh, 1986) could be replicated in the full sample of ', 'twins (see the upper part of Table 3). Model fit criteria indicated a good ', 'fit in the full twin sample, χ 2(16) = 157.308, p <.001, CFI = .990, TLI = ', '.929, RMSEA = .046, SRMR = .010. With respect to the external com- ', 'parison, the regression paths from the individual twins’ mathematics/ ', 'German achievement to the corresponding academic self-concept were ', 'positive and significant in the full sample of twins. For the internal or ', 'dimensional comparisons (M¨oller & Marsh, 2013), the paths from the ', 'individual twins’ mathematics/German achievement to the non- ', 'corresponding academic self-concept were negative and significant in ', 'the full sample of twins. ', 'Next, we tested whether the model also held in the two groups of ', 'twins in our analysis (i.e., MZ and DZ). Our findings showed that the I/E ', 'model (Marsh, 1986) could be consistently replicated for both the MZ ', 'and DZ twins (see Table 3). The fit indices indicated good fit for a ', 'multiple-group model of MZ and DZ twins with no further constraints ', 'beyond measurement invariance, χ 2 (40) = 204.471, p <.001, CFI = ', '.989, TLI = .934, RMSEA = .044, SRMR = .012. For the external com- ', 'parison, the regression paths from the individual twins’ mathematics/ ', 'German achievement to the corresponding academic self-concept were ', 'positive and significant for all MZ and DZ twins. For the internal or ', 'dimensional comparisons (M¨oller & Marsh, 2013), the paths from the ', 'individual twins’ mathematics/German achievement to the non- ', 'corresponding academic self-concept were negative and significant for ', 'all MZ and DZ twins. To test whether there were differences in the ', 'regression patterns between the MZ and DZ twins, we compared the fit ', 'of an unconstrained model with the fit of a model with regression paths ', 'that were constrained to be the same across groups. The effects in the I/E ', 'model did not differ between the MZ and DZ twins, χ 2(4) = 2.54, p ', '=.638. No differences between the MZ and DZ twins in the four paths are ', 'reported in Table 4. ', '', 'To test the mirror effects hypothesis, we added the co-twins’ ', 'achievement as a predictor to the structural equation model, and we ', 'performed a multiple-group analysis in the two groups of twins (i.e., MZ ', 'and DZ). The fit indices indicated a good fit for a multiple-group model ', 'with no further constraints beyond measurement invariance, χ 2(56) = ', '231.178, p <.001, CFI = .989, TLI = .941, RMSEA = .039, SRMR = .012. ', 'Adding the co-twins’ achievement did not substantially alter the ', 'regression paths from the individual twins’ achievement to their aca- ', 'demic self-concept. Evidence for the mirror effect was only found in the ', 'sample of MZ twins: Independent of the individual twins’ achievement ', 'effects, there were statistically significant effects of the co-twins’ ', 'achievement on MZ twins’ academic self-concept within as well as ', 'Table 3 ', 'Result of the Replication of the I/E Model for the Full Samples of Twins and for ', 'MZ and DZ Twins. ', '', '', '', '', '', '', '', '', 'Full sample ', 'Mathematics grade ', 'German grade ', 'MZ ', 'Mathematics grade ', 'German grade ', 'DZ ', 'Mathematics grade ', 'German grade ', '0.63 ', '(cid:0) 0.22 ', '0.02 ', '0.02 ', '0.63 ', '(cid:0) 0.22 ', '0.02 ', '0.02 ', '0.62 ', '(cid:0) 0.22 ', '0.02 ', '0.02 ', '<.001 ', '<.001 ', '<.001 ', '<.001 ', '<.001 ', '<.001 ', '(cid:0) 0.23 ', '0.48 ', '(cid:0) 0.23 ', '0.48 ', '(cid:0) 0.23 ', '0.47 ', '0.02 ', '0.02 ', '0.02 ', '0.02 ', '0.02 ', '0.02 ', '<.001 ', '< .001 ', '<.001 ', '<.001 ', '<.001 ', '<.001 ', 'Table 4 ', 'Regression Path Difference in Between MZ- and DZ Twins in Classical I/E Model. ', '', '', '', '', '', 'MZ vs DZ ', 'Mathematics grade – mathematics self-concept ', 'German grade – mathematics self-concept ', 'Mathematics grade – German self-concept ', 'German grade – German self-concept ', '(cid:0) 0.01 ', '(cid:0) 0.03 ', '(cid:0) 0.02 ', '0.03 ', '0.04 ', '0.04 ', '0.03 ', '0.03 ', '.698 ', '.409 ', '.573 ', '.312 ', 'Note. MZ = monozygotic twins, DZ = dizygotic twins. p = Two-tailed p-value. ', 'β = Standardized parameter estimates. ', 'across domains. Specifically, independent of the individual twins’ own ', 'achievements, the paths from the co-twins’ achievement to MZ twins’ ', 'matching self-concept were both positive and statistically significant ', '(mathematics: β = 0.12, SE = 0.03, p <.001; German: β = 0.16, SE = ', '0.03, p <.001). On the other hand, the paths from the co-twins’ ', 'achievement self-concept in contrasting domains were both negative ', 'and statistically significant (mathematics self-concept: β = -0.12, SE = ', '0.03, p <.001; German self-concept: β = -0.09, SE = 0.03, p =.001) for ', 'MZ twins. This indicated that the co-twins’ achievement and the indi- ', 'vidual MZ twins’ achievement showed a parallel pattern of positive ef- ', 'fects on academic self-concept within each domain (i.e., mathematics ', 'and German) and negative effects on academic self-concept between ', 'domains (see Table 5). In contrast to the MZ twin pairs, none of these ', 'coefficients from the co-twins’ achievement in either mathematics or ', 'German to academic self-concept in either domain were statistically ', 'significant for the DZ twins. ', 'To test whether the mirror effect existed exclusively in MZ twins, we ', 'formally tested for whether the mirror effect differed between the MZ ', 'and DZ twins. The mirror effect differed for MZ- than DZ twins: The ', 'scaled chi-square test comparing a fully constrained model with a model ', 'in which we did not constrain the four regression paths that indicated ', 'mirror effects (i.e., effects of the co-twins’ achievement) showed that ', 'these paths differed between the MZ and DZ twins, χ 2(4) = 24.45, p ', '<.001. When we explicitly compared the four coefficients between the ', 'MZ and DZ twins using model constraints (see Table 6), the requisite ', 'model constraints showed that the regression paths of the co-twins’ ', 'achievement on the individual twins’ academic self-concept differed ', 'between MZ and DZ twins within domains (mathematics self-concept: β ', '= 0.10, SE = 0.04, p =.004, German self-concept: β = 0.17, SE = 0.04, p ', '<.001) and across domains (mathematics self-concept: β = -0.08, SE = ', '0.04, p =.019, German self-concept: β = -0.10, SE = 0.04, p =.006). In ', 'line with our expectations, the effects of the co-twins’ achievement on ', 'academic self-concept within and across the domains were stronger for ', 'MZ than DZ twins. ', 'Table 5 ', 'Result of the Twin Mirror Effect in MZ and DZ Twins. ', 'Mathematics self- ', 'concept ', '', '', '', '', '', '', '', '0.56 ', '(cid:0) 0.19 ', '0.12 ', '0.03 <.001 ', '0.03 <.001 ', '0.03 <.001 ', '(cid:0) 0.21 ', '0.42 ', '(cid:0) 0.09 ', '0.03 <.001 ', '0.03 <.001 ', '.001 ', '0.03 ', '', '', '', '', '0.62 ', '(cid:0) 0.20 ', '0.02 ', '0.02 <.001 ', '0.02 <.001 ', '.284 ', '0.02 ', '(cid:0) 0.22 ', '0.47 ', '0.01 ', '0.02 <.001 ', '0.02 <.001 ', '.769 ', '0.02 ', 'MZ ', 'Mathematics grade ', 'German grade ', 'Co-twin’s mathematics ', '', 'Co-twin’s German grade ', 'DZ ', 'Mathematics grade ', 'German grade ', 'Co-twin’s mathematics ', '', '', '', '', '', '', '', '', 'Note. MZ = monozygotic twins, DZ = dizygotic twins. p = two-tailed p-value. ', 'β = Standardized parameter estimates. ', 'Note. MZ = monozygotic twins, DZ = dizygotic twins. p = two-tailed p-value. ', 'β = Standardized parameter estimates. ', '', '', '', 'Table 6 ', 'Regression Path Difference in Between MZ- and DZ Twins in Mirror Effect ', 'Model. ', '', '', '', '', '', 'MZ vs DZ ', 'Mathematics grade – mathematics self-concept ', 'German grade – mathematics self-concept ', 'Co-twin’s mathematics grade – mathematics self-concept ', 'Co-twin’s German grade – mathematics self-concept ', 'Mathematics grade – German self-concept ', 'German grade – German self-concept ', 'Co twin’s mathematics grade – German self-concept ', 'Co-twin’s German grade – German self-concept ', '(cid:0) 0.06 ', '0.01 ', '0.10 ', '(cid:0) 0.08 ', '0.01 ', '(cid:0) 0.05 ', '(cid:0) 0.10 ', '0.17 ', '.080 ', '0.04 ', '.881 ', '0.04 ', '.004 ', '0.04 ', '.019 ', '0.04 ', '.786 ', '0.04 ', '.157 ', '0.04 ', '0.04 ', '.006 ', '0.04 <.001 ', 'Note. MZ = monozygotic twins, DZ = dizygotic twins. p = Two-tailed p-value. ', 'β = Standardized parameter estimates. ', '', 'With respect to the third research question about age differences, we ', 'performed a multiple-group analysis in the four groups of twins (i.e., 11- ', 'year-old MZ, 17-year-old MZ, 11-year-old DZ, and 17-year-old DZ twins) ', 'in the regression analysis of the I/E model with the co-twins’ achieve- ', 'ment as an additional predictor. The fit indices indicated a good fit for a ', 'multiple-group model with no further constraints beyond measurement ', 'invariance, χ 2(120) = 335.654, p <.001, CFI = .986, TLI = .932, ', 'RMSEA = .041, SRMR = .015. Evidence for the mirror effect was found ', 'in the samples of different age groups in MZ twins (Table 7): For the 11- ', 'year-old MZ twins, a mirror effect on academic self-concept was found ', 'within a domain. Specifically, a path from the co-twins’ mathematics ', 'grade to mathematics self-concept (β = 0.11, SE = 0.04, p =.013) was ', 'statistically significant, independent of the individual twins’ achieve- ', 'ment effects. This indicated that the co-twins’ achievement and the in- ', 'dividual twins’ achievement showed a parallel pattern of positive effects ', 'on the twins’ academic self-concept within a domain at the age of 11. ', 'Table 7 ', 'Results for the Twin Mirror Effect in the Different Age Groups Within MZ and DZ ', 'Twins. ', 'Mathematics self- ', 'concept ', '', '', '', '', '', '', '', 'For the 17-year-old MZ twins, a mirror effect on academic self-concept ', 'was found within as well as across domains. Specifically, independent ', 'of the individual twins’ own achievements, the paths from the co-twins’ ', 'achievement to 17-year-old MZ twins’ matching self-concept were both ', 'positive and statistically significant (mathematics: β = 0.13, SE = 0.03, ', 'p <.001, German: β = 0.20, SE = 0.04, p <.001). In addition, the paths ', 'from the co-twins’ achievement to the twins’ self-concept in contrasting ', 'domains were both negative and statistically significant (mathematics ', 'self-concept: β = -0.15, SE = 0.03, p <.001; German self-concept: β = ', '-0.10, SE = 0.04, p =.004) for 17-year-old MZ twins. This indicated that ', 'mirror effects were observed in both age groups in MZ twins, yet older ', 'MZ twins also showed mirror effects across domains. In contrast to the ', 'MZ twin pairs, none of these coefficients from co-twins’ achievement in ', 'either mathematics or German to the twins’ academic self-concept in ', 'either domain were statistically significant in either age group in DZ ', 'twins. ', 'To test for differences in the regression patterns between the 11-year- ', 'old and 17-year-old twins in each sample of MZ and DZ twins, we ', 'compared the fit of the unconstrained regression paths from the co- ', 'twins’ achievement to the twins’ academic self-concept with the fit of ', 'the model in which the regression paths were constrained to be the same ', 'across groups. The different age groups of MZ twins differed in the ', 'mirror effect: The scaled chi-square test showed that the 11-year-old and ', '17-year-old groups of MZ twins differed with respect to the effect of the ', 'co-twins’ achievement in the regression analysis of the I/E model with ', 'the co-twins’ achievement as an additional predictor, χ 2(4) = 11.38, p ', '=.023. However, the requisite model constraint tests showed that the ', '11-year-old and 17-year-old MZ twins did not differ in any regression ', 'paths representing the effect of the co-twins’ achievement on the twins’ ', 'academic self-concept in mathematics and German (see the upper part of ', 'Table 8). In other words: There was a (small) overall difference, but none ', 'of the differences in the single regression coefficients were large enough ', 'to be significant. ', 'For the 11-year-old and 17-year-old DZ twins, the scaled chi-square ', 'test showed that they did not differ with respect to the regression ', 'analysis of the I/E model that included the co-twins’ achievement as an ', 'additional predictor, χ 2(4) = 3.53, p =.473. The requisite model ', 'constraint tests also showed that the 11-year-old and 17-year-old DZ ', 'twins did not differ with respect to any regression paths the referred to ', 'the effects of the co-twins’ achievement on the twins’ academic self- ', 'concept (see the lower part of Table 8). Taken together, our tests ', 'showed that the mirror effect differed slightly for MZ twins from ', 'MZ ', '11-year-olds ', 'Mathematics grade ', 'German grade ', 'Co-twin’s mathematics ', '', 'Co-twin’s German grade ', '17-year-olds ', 'Mathematics grade ', 'German grade ', 'Co-twin’s mathematics ', '', 'Co-twin’s German grade ', 'DZ ', '11-year-olds ', 'Mathematics grade ', 'German grade ', 'Co-twin’s mathematics ', '', 'Co-twin’s German grade ', '17-year-olds ', 'Mathematics grade ', 'German grade ', 'Co-twin’s mathematics ', '', '0.45 ', '(cid:0) 0.18 ', '0.11 ', '', '0.05 <.001 ', '.001 ', '0.05 ', '.013 ', '0.04 ', '(cid:0) 0.15 ', '0.37 ', '(cid:0) 0.08 ', '0.05 ', '.002 ', '0.05 <.001 ', '.078 ', '0.05 ', 'Table 8 ', 'Regression Path Difference in Between Twins of Different Ages in Mirror Effect ', 'Model. ', '', '', '', '', '', '', '0.62 ', '(cid:0) 0.20 ', '0.13 ', '0.03 <.001 ', '0.03 <.001 ', '0.03 <.001 ', '(cid:0) 0.26 ', '0.45 ', '(cid:0) 0.10 ', '0.03 <.001 ', '0.04 <.001 ', '.004 ', '0.04 ', '', '', '', '', '0.56 ', '(cid:0) 0.19 ', '0.00 ', '', '0.04 <.001 ', '0.03 <.001 ', '.988 ', '0.03 ', '(cid:0) 0.20 ', '0.41 ', '(cid:0) 0.02 ', '0.04 <.001 ', '0.03 <.001 ', '.603 ', '0.04 ', '', '', '', '', '', '0.66 ', '(cid:0) 0.21 ', '0.03 ', '0.03 <.001 ', '0.03 <.001 ', '.305 ', '0.03 ', '(cid:0) 0.25 ', '0.53 ', '0.01 ', '0.03 <.001 ', '0.03 <.001 ', '.702 ', '0.03 ', 'MZ (17- vs 11 years) ', 'Mathematics grade – mathematics self-concept ', 'German grade – mathematics self-concept ', 'Co-twin’s mathematics grade – mathematics self-concept ', 'Co-twin’s German grade – mathematics self-concept ', 'Mathematics grade – German self-concept ', 'German grade – German self-concept ', 'Co twin’s mathematics grade – German self-concept ', 'Co-twin’s German grade – German self-concept ', 'DZ (17- vs 11 years) ', 'Mathematics grade – mathematics self-concept ', 'German grade – mathematics self-concept ', 'Co-twin’s mathematics grade – mathematics self-concept ', 'Co-twin’s German grade – mathematics self-concept ', 'Mathematics grade – German self-concept ', 'German grade – German self-concept ', 'Co twin’s mathematics grade – German self-concept ', 'Co-twin’s German grade – German self-concept ', '', '', '', '', '0.17 ', '(cid:0) 0.03 ', '0.02 ', '(cid:0) 0.09 ', '(cid:0) 0.11 ', '0.08 ', '(cid:0) 0.02 ', '0.09 ', '0.11 ', '(cid:0) 0.03 ', '0.03 ', '(cid:0) 0.01 ', '(cid:0) 0.05 ', '0.12 ', '0.03 ', '(cid:0) 0.03 ', '0.06 ', '0.06 ', '0.05 ', '0.05 ', '0.06 ', '0.06 ', '0.06 ', '0.07 ', '0.05 ', '0.04 ', '0.05 ', '0.04 ', '0.05 ', '0.05 ', '0.05 ', '0.05 ', '.002 ', '.679 ', '.702 ', '.093 ', '.053 ', '.185 ', '.727 ', '.154 ', '.022 ', '.562 ', '.479 ', '.899 ', '.261 ', '.007 ', '.520 ', '.490 ', '', '', '', '', '', '', '', 'Note. MZ = monozygotic twins, DZ = dizygotic twins. p = two-tailed p-value. ', 'β = Standardized parameter estimates. ', 'Note. MZ = monozygotic twins, DZ = dizygotic twins. p = Two-tailed p-value. ', 'β = Standardized parameter estimates. ', '', '', '', 'different age groups, but the difference between the different age groups ', 'was not found for DZ twins. ', '', 'As a robustness check, we conducted analyses in which we controlled ', 'for parent’s SES, each individual child’s perception of parental support ', 'and control, and each individual child’s personality traits (i.e., Big Five ', 'personality). The fit indices indicated a good fit for a multiple-group ', 'model with no further constraints beyond measurement invariance, χ ', '2(296) = 610.584, p <.001, CFI = .976, TLI = .972, RMSEA = .032, ', 'SRMR = .024. Although these control variables were significantly ', 'associated with twin’s self-concept except for parent’s SES and each ', 'child’s personality trait of agreeableness, the results showed the very ', 'similar pattern of significance as mirror effects in MZ twins when we ', 'accounted for parent’s SES, parental support and control, and each ', 'child’s personality (see the Online Supplemental Materials for the ', 'detailed results). Specifically, co-twin’s achievement had a positive in- ', 'fluence on individual MZ twin’s academic self-concept within domains ', 'and a negative influence on individual MZ twin’s academic self-concept ', 'across domains, similar to the pattern in the I/E model for a child’s own ', 'achievement (see Table S1.). The only difference in the pattern of sig- ', 'nificance was that the regression path between the co-twin’s German ', 'achievement and the 17-year-old MZ twin’s German self-concept ', 'became significant when we controlled for the covariates. The effect ', 'of co-twin’s achievement on academic self-concept differed significantly ', 'between 17-year-old MZ and DZ twins (see Table S3.). Similar to the ', 'prior results without control variables, the mirror effects tended to be ', 'found more consistently for 17-year-old MZ twins than 11-year-old MZ ', 'twins when we controlled for the family-level and individual-level traits. ', '', 'In this article, we introduced the mirror effect hypothesis, which ', 'proposes that, rather than serving as a contrast, the effect of the ', 'achievement of a co-twin from an MZ twin pair parallels the effect of the ', 'twin’s own achievement. We used a large sample of MZ and DZ twins to ', 'test the mirror effect by adding it/incorporating it into to the well- ', 'known I/E model (Marsh, 1986). In line with our expectations, the ', 'present finding showed that the co-twins’ effect duplicated the indi- ', 'vidual MZ twins’ own achievement effect on the twins’ academic self- ', 'concept, as if looking in the mirror. The co-twins’ achievement and ', 'the individual MZ twins’ achievement showed a parallel pattern of a ', 'positive effect on the twins’ academic self-concept within domains and a ', 'negative effect across domains when they were considered together in ', 'an extended I/E model. Conversely, no such effects were found for DZ ', 'twins. This finding suggests that only a moderate amount of similarity is ', 'not enough for the mirror effect to occur, but rather, the degree of ', 'similarity between the comparison targets must be quite extraordinary. ', 'The mirror effect was shown in both age groups for MZ twins, but the ', 'effects tended to be somewhat more pronounced in the older students ', 'and were consistently found within and across domains. ', '7.1. The Mirror Effect: Duplicating Internal and External Comparison ', 'Effects in MZ Twins ', 'Our analysis began by replicating the well-known I/E model (Marsh, ', '1986) effects that have been reported many times (M¨oller et al., 2020). ', 'Our results are consistent with the assumption that academic self- ', 'concept in MZ and DZ twins is associated with their achievement in ', 'both mathematics and German, with positive predictive effects of ', 'achievement in the corresponding domain and negative predictive ef- ', 'fects of achievement in the noncorresponding domain on academic self- ', 'concept. The regression weights of these effects were statistically the ', 'same between MZ and DZ twins. The successful replication of the I/E ', 'model in our twin sample substantiated the idea that twins use multiple ', 'frames of reference to make internal comparisons of their own ', 'achievement across domains and external comparisons with others (e.g., ', 'their classmates) to evaluate their own achievements for their academic ', 'self-concept. ', 'The robust evidence for the I/E model (M¨oller et al., 2020) in our ', 'sample confirmed that the perceived contrast with high-achieving ', 'others typically has a negative effect on a student’s academic self- ', 'concept as implied in the observed positive effect of individual twins’ ', 'own achievement on their academic self-concept within domains. ', 'However, we postulated that such a contrast effect might be offset or ', 'even reversed if a student compared themself with an “other” who was ', 'perceived to be very similar, as in the case of MZ twins. More precisely, ', 'we postulated that the effect of the achievement of co-twins would ', 'parallel the effects of twins’ own achievement on academic self-con- ', 'cept—an effect that we labeled the mirror effect. In the present inves- ', 'tigation, mirror effects were indeed found for MZ twins but not for DZ ', 'twins. It is important to note that these effects of co-twins’ achievement ', 'were found while controlling for twins’ own achievement such that the ', 'mirror effects cannot be explained by the high correlation between the ', 'two twins’ achievements. Rather, the MZ twins used their co-twins’ ', 'achievement as a frame of reference for their own academic self- ', 'concept. Such mirror effects were observed for younger MZ twins for ', 'the comparison within an academic domain and for older MZ twins ', 'within and between domains. Hence, just like their image in a mirror, ', 'MZ students looked at very similar co-twins’ achievement to define ', 'themselves, offsetting typical contrast effects. ', '', 'The finding that the mirror effect was only found for MZ but not for ', 'DZ twins is of high theoretical importance in a long-standing debate ', 'about so-called assimilation effects in the development of self-concept. ', 'Going back to Festinger (1954), research on social comparison has ', 'highlighted potential assimilation effects that are believed to be ', 'amplified when the target and receiver are similar. Such assimilation ', 'effects have been confirmed in highly controlled lab experiments (e.g., ', 'Mussweiler et al., 2004), whereas there has been less conclusive evi- ', 'dence for them in natural learning environments, if they were found at ', 'all (see Trautwein, Lüdtke, Marsh et al., 2009). Our finding indicates ', 'that the assumed “assimilation” takes place only when students look at ', 'the achievement of a very similar comparison target. On the basis of this ', 'exceptionally close similarity, we refer to the observed pattern of results ', 'as a mirror effect to differentiate it from an assimilation effect ', 'because—by all standards of similarity established in prior lab research ', 'on assimilation—assimilation should have taken place in DZ twins as ', 'well. The current finding of academic social comparisons in twins may ', 'be seen as a further corroboration of previous theories and findings of ', 'MZ twins’ very special relationship with their co-twin (Fraley & ', 'Tancredy, 2012). ', 'The absence of mirror effects in DZ twins is also very interesting. ', 'Although DZ twins are often very close to each other, their closeness or ', 'similarity was apparently not strong enough to lead to mirror effects. ', 'Indeed, some levels of competitiveness are often found in DZ twin re- ', 'lationships (see Segal & Knafo-Noam, 2018; Segal & Hershberger, ', '1999), and this competitiveness may have counteracted any mirror ef- ', 'fects. As with the MZ twin effects, the DZ twin effects are of high ', 'theoretical interest as they can inform research on so-called local ', 'dominance effects in self-concept development. In general, research on ', 'social comparison effects has found that the achievement of the most ', 'proximal learning environment (e.g., the course or class rather than the ', 'school or a specific type of school in tracked school systems) provide the ', 'most important frame of reference for social comparisons (Marsh et al., ', '2014; Zell & Alicke, 2010). However, in a recent study (Koivuhovi et al., ', '2020), the immediate peer group within a classroom seemed to have a ', 'less important effect on academic self-concept than the overall ', 'class-average achievement, although contrast effects were found for ', '', '', '', 'both peer group achievement and class achievement when they were ', 'investigated separately. Unfortunately, there were no nontwin peers in ', 'our sample, so we cannot add any such comparisons to our results. ', 'Therefore, one can only speculate about whether the lack of support for ', 'any mirror effects in DZ twins signals an additional lack of support for ', 'local dominance effects. Alternatively, contrast and assimilation effects ', 'may have simply cancelled each other out in this group of students. ', 'Drawing from social identity theory perspectives (Turner et al., ', '1987), mirror effects in our study offer insights into students’ group ', 'identity in academic self-concept formation. The mirror effect found in ', 'monozygotic twins may exemplify the depersonalized social self (i.e., ', 'group identity) shared with their co-twins (Hogg & Reid, 2006) to view ', 'both the successes and failures of very similar others as their own ', '(Abrams et al., 1990). By contrast, DZ twins showed an individualized ', 'self-concept of their academic ability that was independent of the aca- ', 'demic performance of their co-twin. The differences in the I/E processes ', 'exhibited by MZ and DZ twins guide our attention to the dynamics of ', 'intragroup relationships among the students in an educational setting. ', 'As social categorization theory (Turner et al., 1987) argued, it could be ', 'suggested that individual students construct their academic self-concept ', 'on the basis of their individual identity but also their group identity of ', 'being twins. ', 'Although our research does not lead directly to practical recom- ', 'mendations, future research might build on the mirror effect to inves- ', 'tigate whether similar comparison processes can affect the development ', 'of all students. A potential educational implication would be that strong ', 'affiliation with the reference target may enable reciprocal and ', 'noncompetitive comparisons among the students in the educational ', 'setting. Given that the enhanced identification with the in-group leads ', 'individuals to depersonalize their self-perception and behaviors to fit the ', 'in-group prototype (Hogg & Reid, 2006; Turner et al., 1987), it would be ', 'important to consider how to improve group-level academic self- ', 'concepts, along with individual-level academic self-concepts, to ', 'encourage a learning environment in which the successes of one person ', 'can also be experienced as “group success” by fellow students. ', 'In our study, we examined “real” twins. Of course, the question arises ', 'as to whether there could be mirror effects as well in “virtual” or ', '“emotional” twins in real-world educational settings (i.e., dyads of stu- ', 'dents who are highly attached to each other despite a lack of family ', 'relationship, rendering them essentially more strongly attached than DZ ', 'twins). This is an intriguing question, but it is one that obviously cannot ', 'be answered on the basis of the current sample. In fact, large samples of ', 'students would have to be obtained along with detailed information ', 'about their emotional bonds to test such effects. ', '', 'From a developmental perspective, comparison processes might be ', 'more pronounced in later school years when students have the cognitive ', 'capacities needed to consider all of the social and dimensional com- ', 'parisons together (Harter, 2003; Wigfield & Karpathian, 1991). Given ', 'that internal and external comparison effects are generally stronger for ', 'older rather than younger students (M¨oller et al., 2020), we had ex- ', 'pected that the mirror effect would be stronger for 17-year-old than for ', '11-year-old twins. In fact, some mirror effects were found in both age ', 'groups in MZ twins, but the effects tended to be more pronounced and ', 'consistent for older twins. The effect was found both within and across ', 'domains for older twins, whereas younger twins showed the effect only ', 'within a domain. ', 'Although the two age groups of MZ twins did not differ in the single ', 'regression paths from co-twin’s mathematics and German achievements ', 'to individual twin’s academic self-concepts within and across the do- ', 'mains, there was a (small) overall difference between the 11-year-old ', 'and 17-year-old twins according to the chi-square test. In general, ', 'there was tentative evidence supporting the proposed developmental ', 'process, but the differences were not expressed as strongly as we had ', 'expected. Nevertheless, the finding is interesting as the 17-year-old MZ ', 'twins showed a slightly stronger or at least more consistent mirror ef- ', 'fects on their academic self-concept within and across domains despite ', 'the larger difference between their achievements and their co-twin’s ', 'achievements than 11-year-old MZ twins did. This could mean the ', 'mirror effects in 17-year-old MZ twin pairs buffered the possible contrast ', 'effects of comparing ', 'increasingly different achievements ', 'throughout the school years. ', '', 'Given that twins’ differentiated individual identity develops more ', 'actively in late adolescence (Amani & Shariatipour, 2021), 17-year-old ', 'MZ twins’ manifestation of the consistent and slightly stronger mirror ', 'effects on their academic self-concept compared with 11-year-old MZ ', 'twins is noteworthy from a developmental perspective. The finding of a ', '(small) overall stronger mirror effect found for older twins is in line with ', 'and may contribute to the additional evidence of the increased attach- ', 'ments within MZ twin pairs for older compared with younger twin ', 'groups (Fraley & Tancredy, 2012). Taken together, our findings suggest ', 'that the mirror effect develops only moderately with age—in line with ', 'what has been documented for internal and external comparison effects ', '(M¨oller et al., 2020) and the stronger attachment between twins for ', 'older versus younger twin pairs (Fraley & Tancredy, 2012). ', '', 'The present study found support for the mirror effect in a nationally ', 'representative sample of MZ and DZ twins that was uniquely well-suited ', 'to test this effect. Nevertheless, as in all studies, there are some limita- ', 'tions that should be noted. First, although the present study drew on ', 'social comparisons within twin pairs, we did not directly measure social ', 'comparison processes between twins. Rather, we measured them only ', 'indirectly by assessing the effect of the co-twins’ achievement on aca- ', 'demic self-concept. This is the standard procedure in research on social ', 'comparison effects in real-world learning environments, and given the ', 'large samples needed for this kind of research, practical issues do not ', 'typically allow researchers to study social comparison processes in the ', 'learning situation. Nevertheless, researchers should use any opportu- ', 'nities they can find to focus more on processes. ', 'Second, we used school grades as a proxy for achievement, rather ', 'than standardized achievement tests. Grades are sometimes criticized ', 'for their assumed lack of validity (e.g., Mattern et al., 2011). However, ', 'using grades is the standard procedure in research on the I/E model for ', 'good reasons: Grades are very important for placement decisions, and ', 'they are more visible and salient to students. Not surprisingly, more ', 'pronounced patterns in line with the I/E model tend to be found for ', 'grades than for tests (M¨oller et al., 2020). ', 'Third, our study is based on an analysis of secondary data. Despite ', 'the high overall quality of the data we used in our analyses, there were ', 'missing data on some variables, specifically for the photographed school ', 'grades. To deal with missing data on school grades, we substituted self- ', 'reported grades for the missing data on the photographed school grades. ', 'Such a practice may raise concerns about self-report biases(Cole & ', 'Gonyea, 2010) that, of course, we cannot fully rule out. However, prior ', 'research on German students has shown a very strong, nearly perfect ', 'association between reported and actual grades (Dickh¨auser & Plenter, ', '2005; Sticca et al., 2017) in a similar setting (a research study with no ', 'personal stakes for the participants), indicating that self-reported grades ', 'most likely do not pose a great threat to validity in our study. Further- ', 'more, in our analyses, we dealt with missing data by including a set of ', 'auxiliary variables to make the MAR assumption for missing data as ', 'plausible as possible (Graham, 2009; Thoemmes & Rose, 2014). ', 'Fourth, as the Twinlife study sampled only same-sex DZ twins, data ', 'from mixed-sex DZ twins could not be included in the analyses. On the ', 'basis of the present findings, one could expect more contrast effects for ', 'mixed-sex DZ twin pairs, as they are less similar to one another. How- ', 'ever, the analysis of data from non-twin siblings would make it difficult ', 'to isolate social comparison effects, as factors such as age and learning ', '', '', '', 'context could not be controlled as they can be in twin studies. Never- ', 'theless, we encourage a replication study of mixed-sex DZ twins along ', 'with non-twin peers to compare the results with the current findings. ', '', 'Drawing on a large sample of twins, we introduced the mirror effect ', 'and thereby made a pivotal contribution to the academic self-concept ', 'research field. The mirror effect was found exclusively in MZ twins: ', 'The co-twins’ achievement had an impact on twins’ academic self- ', 'concepts, resembling the I/E pattern of individual twins’ comparisons ', 'of their own achievement within and across domains. The difference ', 'between MZ and DZ twins further highlights the substantial difference ', 'between very similar and less similar comparison targets. Furthermore, ', 'the mirror effect tended to be more pronounced for older MZ twins, thus ', 'providing further evidence that comparison processes become more ', 'important toward the end of students’ school years. We look forward to ', 'further tests of this effect in additional data sets and across different ', 'settings in the future. ', 'Author Note ', 'The article is based on data collected in the first wave of the TwinLife ', 'study data set version 3.0.0. (Diewald et al., 2021; Hahn et al., 2016). ', 'The TwinLife data are available for scientists in a Scientific Use File ', '(SUF) in the GESIS data catalogue. The present study was not prereg- ', 'istered. The code of the main analyses reported in this article is available ', 'at the Open Science Framework (OSF) https://osf.io/cvmtx/?vie ', 'w_only=cdeb443f237a40c9bd0ef08f56ec1046. ', '', 'The authors declare that they have no known competing financial ', 'interests or personal relationships that could have appeared to influence ', 'the work reported in this paper. ', '', '', '', '', '', '', 'Abrams, D., Wetherell, M., Cochrane, S., Hogg, M. A., & Turner, J. C. (1990). Knowing ', 'what to think by knowing who you are: Self-categorization and the nature of norm ', 'formation, conformity and group polarization. British Journal of Social Psychology, 29 ', '(2), 97–119. https://doi.org/10.1111/j.2044-8309.1990.tb00892.x ', '', 'effect. Psychological Science, 21(2), 174–177. https://doi.org/10.1177/ ', '0956797609357718 ', '', 'statuses in twins and nontwins. Twin Research and Human Genetics., 1–8. https://doi. ', 'org/10.1017/thg.2021.28 ', '', '', 'Castro, M., Exp´osito-Casas, E., L´opez-Martín, E., Lizasoain, L., Navarro-Asencio, E., & ', 'Gaviria, J. L. (2015). Parental involvement on student academic achievement: A ', 'meta-analysis. Educational Research Review, 14, 33–46. https://doi.org/10.1016/j. ', 'edurev.2015.01.002 ', 'Cheung, G. W., & Rensvold, R. B. (2002). Evaluating goodness-of-fit indexes for testing ', 'measurement invariance. Structural Equation Modeling: A Multidisciplinary Journal, 9 ', '(2), 233–255. https://doi.org/10.1207/S15328007SEM0902_5 ', 'Cole, J. S., & Gonyea, R. M. (2010). Accuracy of self-reported SAT and ACT test scores: ', 'Implications for research. Research in Higher Education, 51(4), 305–319. https://doi. ', 'org/10.1007/s11162-009-9160-9 ', 'Denissen, J. J. A., Zarrett, N. R., & Eccles, J. S. (2007). I like to do it, I’m able, and I know ', 'I am: Longitudinal couplings between domain-specific achievement, self-concept, ', 'and interest. Child Development, 78(2), 430–447. https://doi.org/10.1111/j.1467- ', '8624.2007.01007.x ', 'Dickh¨auser, O., & Plenter, I. (2005). “Letztes Halbjahr stand ich zwei”: Zur Akkuratheit ', 'selbstberichteter Noten [“Last semester I was two”: On the accuracy of self-reported ', 'marks]. Zeitschrift für P¨adagogische Psychologie, 19(4), 219–224. https://doi.org/ ', '10.1024/1010-0652.19.4.219 ', 'Dickh¨auser, O., Sch¨one, C., Spinath, B., & Stiensmeier-Pelster, J. (2002). Die Skalen zum ', 'akademischen Selbstkonzept [The scales for academic self-concept]. Zeitschrift für ', 'Differentielle und Diagnostische Psychologie, 23(4), 393–405. https://doi.org/ ', '10.1024//0170-1789.23.4.393 ', 'Diewald, M., Riemann, R., Spinath, F. M., Gottschling, J., Hahn, E., Kornadt, A. E., … ', 'Weigel, L. (2021). TwinLife. GESIS data archive, Cologne. ZA6701 data file version ', '4.1.0. https://doi.org/10.4232/1.13658 ', '', 'Social comparison in the classroom: A review. Review of Educational Research, 78(4), ', '828–879. https://doi.org/10.3102/0034654308321210 ', '', 'differences in children’s self- and task perceptions during elementary school. Child ', 'Development, 64(3), 830–847. https://doi.org/10.1111/j.1467-8624.1993.tb02946.x ', '', '', 'Fraley, R. C., & Tancredy, C. M. (2012). Twin and sibling attachment in a nationally ', 'representative sample. Personality and Social Psychology Bulletin, 38(3), 308–316. ', 'https://doi.org/10.1177/0146167211432936 ', 'Gjicali, K., & Lipnevich, A. A. (2021). Got math attitude? (In)direct effects of student ', 'mathematics attitudes on intentions, behavioral engagement, and mathematics ', 'performance in the U.S. PISA. Contemporary Educational Psychology, 67, Article ', '102019. https://doi.org/10.1016/j.cedpsych.2021.102019 ', 'Goetz, T., Cronjaeger, H., Frenzel, A. C., Lüdtke, O., & Hall, N. C. (2010). Academic self- ', 'concept and emotion relations: Domain specificity and age effects. Contemporary ', 'Educational Psychology, 35(1), 44–58. https://doi.org/10.1016/j. ', 'cedpsych.2009.10.001 ', '', 'school achievement from a behavior genetic perspective: Results from the German ', 'twin study on cognitive ability, self-reported motivation, and school achievement ', '(CoSMoS). Personality and Individual Differences, 53(4), 381–386. https://doi.org/ ', '10.1016/j.paid.2012.01.020 ', '', 'Review of Psychology, 60(1), 549–576. https://doi.org/10.1146/annurev. ', 'psych.58.110405.085530 ', '', 'data. In J. A. Schinka, W. F. Velicer, & I. B. Weiner (Eds.), Handbook of Psychology: ', 'Research Methods in Psychology (pp. 87–114). John Wiley & Sons Inc. ', '', 'Spinath, F. M. (2016). What drives the development of social inequality over the life ', 'course? The German TwinLife study. Twin Research and Human Genetics, 19(6), ', '659–672. https://doi.org/10.1017/thg.2016.76 ', '', 'adolescence. In M. R. Leary, & J. P. Tangney (Eds.), Handbook of Self and Identity (pp. ', '610–642). The Guilford Press. ', '', 'M. R. Leary, & J. P. Tangney (Eds.), Handbook of Self and Identity (pp. 680–715). The ', 'Guilford Press. ', 'Higgins, D. M., Peterson, J. B., Pihl, R. O., & Lee, A. G. M. (2007). Prefrontal cognitive ', 'ability, intelligence, Big Five personality, and the prediction of advanced academic ', 'and workplace performance. Journal of Personality and Social Psychology, 93(2), ', '298–319. https://doi.org/10.1037/0022-3514.93.2.298 ', '', 'communication of group norms. Communication Theory, 16(1), 7–30. https://doi. ', 'org/10.1111/j.1468-2885.2006.00003.x ', 'Hornsey, M. J. (2008). Social identity theory and self-categorization theory: A historical ', 'review. Social and Personality Psychology Compass, 2(1), 204–222. https://doi.org/ ', '10.1111/j.1751-9004.2007.00066.x ', '', 'analysis: Conventional criteria versus new alternatives. Structural Equation Modeling: ', 'A Multidisciplinary Journal, 6(1), 1–55. https://doi.org/10.1080/ ', '10705519909540118 ', '', 'longitudinal relations. Journal of School Psychology, 49(5), 505–528. https://doi.org/ ', '10.1016/j.jsp.2011.07.001 ', 'Jeynes, W. H. (2003). A meta-analysis: The effects of parental involvement on minority ', 'children’s academic achievement. Education and Urban Society, 35(2), 202–218. ', 'https://doi.org/10.1177/0013124502239392 ', 'Kim, M. H., Anderson, R. C., DeRosia, N., Madison, E., & Husman, J. (2021). There are ', 'two I’s in motivation: Interpersonal dimensions of science self-efficacy among ', 'racially diverse adolescent youth. Contemporary Educational Psychology, 66, Article ', '101989. https://doi.org/10.1016/j.cedpsych.2021.101989 ', '', 'Vainikainen, M.-P. (2020). Academic self-concept formation and peer-group ', 'contagion: Development of the big-fish-little-pond effect in primary-school ', 'classrooms and peer groups. Journal of Educational Psychology. Advance online ', 'publication.. https://doi.org/10.1037/edu0000554 ', 'Komarraju, M., Karau, S. J., & Schmeck, R. R. (2009). Role of the Big Five personality ', 'traits in predicting college students’ academic motivation and achievement. Learning ', 'and Individual Differences, 19(1), 47–52. https://doi.org/10.1016/j. ', 'lindif.2008.07.001 ', 'Kovas, Y., Garon-Carrier, G., Boivin, M., Petrill, S. A., Plomin, R., Malykh, S. B., … ', 'Vitaro, F. (2015). Why children differ in motivation to learn: Insights from over ', '', '', '', '13,000 twins from 6 countries. Personality and Individual Differences, 80, 51–63. ', 'https://doi.org/10.1016/j.paid.2015.02.006 ', '', 'Zygosity determination in twin Studies: A validation of zygosity questionnaires using ', 'DNA in the German twinLife study. TwinLife Working Paper Series, 01. Project ', 'TwinLife: Genetic and social causes of life chances. ', 'Plomin, R., Asbury, K., & Dunn, J. (2001). Why are children in the same family so ', 'different? nonshared environment a decade Later. The Canadian Journal of ', 'Psychiatry, 46(3), 225–233. https://doi.org/10.1177/070674370104600302 ', 'Richardson, K., & Norgate, S. (2005). The equal environments assumption of classical ', 'twin studies may not hold. British Journal of Educational Psychology, 75(3), 339–350. ', 'https://doi.org/10.1348/000709904X24690 ', '', '', 'reference model. American Educational Research Journal, 23(1), 129–149. https://doi. ', 'org/10.3102/00028312023001129 ', '', 'Educational Psychology, 79(3), 280–295. https://doi.org/10.1037/0022- ', '0663.79.3.280 ', '', 'achievement: A multiwave, longitudinal panel analysis. Journal of Educational ', 'Psychology, 82(4), 646–656. https://doi.org/10.1037/0022-0663.82.4.646 ', 'Marsh, H. W., Byrne, B. M., & Shavelson, R. J. (1988). A multifaceted academic self- ', 'concept: Its hierarchical structure and its relation to academic achievement. Journal ', 'of Educational Psychology, 80(3), 366–380. https://doi.org/10.1037/0022- ', '0663.80.3.366 ', 'Marsh, H. W., & Craven, R. G. (2006). Reciprocal effects of self-concept and performance ', 'from a multidimensional perspective: Beyond seductive pleasure and unidimensional ', 'perspectives. Perspectives on Psychological Science, 1(2), 133–163. https://doi.org/ ', '10.1111/j.1745-6916.2006.00010.x ', 'Marsh, H. W., Kuyper, H., Morin, A. J. S., Parker, P. D., & Seaton, M. (2014). Big-fish- ', 'little-pond social comparison and local dominance effects: Integrating new statistical ', 'models, methodology, design, theory and substantive implications. Learning and ', 'Instruction, 33, 50–66. https://doi.org/10.1016/j.learninstruc.2014.04.002 ', 'Marsh, H. W., & Shavelson, R. (1985). Self-concept: Its multifaceted, hierarchical ', 'structure. Educational Psychologist, 20(3), 107–123. https://doi.org/10.1207/ ', 's15326985ep2003_1 ', 'Marsh, H. W., Trautwein, U., Lüdtke, O., Baumert, J., & K¨oller, O. (2007). The big-fish- ', 'little-pond effect: Persistent negative effects of selective high schools on self-concept ', 'after graduation. American Educational Research Journal, 44(3), 631–669. https:// ', 'doi.org/10.3102/0002831207306728 ', 'Marsh, H. W., Trautwein, U., Lüdtke, O., & K¨oller, O. (2008). Social comparison and big- ', 'fish-little-pond effects on self-concept and other self-belief constructs: Role of ', 'generalized and specific others. Journal of Educational Psychology, 100(3), 510–524. ', 'https://doi.org/10.1037/0022-0663.100.3.510 ', '', 'incremental validity: Discrepant SAT and HSGPA performance. Educational and ', 'Psychological Measurement, 71(4), 638–662. https://doi.org/10.1177/ ', '0013164410383563 ', 'Boomsma, D. I. (2000). Zygosity diagnosis in young twins by parental report. Twin ', 'Research, 3(3), 134–141. https://doi.org/10.1375/twin.3.3.134 ', 'Satorra, A., & Bentler, P. M. (2010). Ensuring positiveness of the scaled difference chi- ', 'square test statistic. Psychometrika, 75(2), 243–248. https://doi.org/10.1007/ ', 's11336-009-9135-y ', 'Schachter, F. F., Shore, E., Feldman-Rotman, S., Marquis, R. E., & Campbell, S. (1976). ', 'Sibling deidentification. Developmental Psychology, 12(5), 418–427. https://doi.org/ ', '10.1037/0012-1649.12.5.418 ', '', 'N. A. Jones (Eds.), The Psychology of Rivalry (pp. 111–129). Nova Science Publishers. ', 'Segal, N. L., & Hershberger, S. L. (1999). Cooperation and competition between twins: ', 'Findings from a prisoner’s dilemma game. Evolution and Human Behavior, 20(1), ', '29–51. https://doi.org/10.1016/S1090-5138(98)00039-7 ', '', 'construct interpretations. Review of Educational Research, 46(3), 407–441. https:// ', 'doi.org/10.3102/00346543046003407 ', '', 'review of research. Review of Educational Research, 75(3), 417–453. https://doi.org/ ', '10.3102/00346543075003417 ', 'Skaalvik, E. M., & Skaalvik, S. (2002). Internal and external frames of reference for ', 'academic self-concept. Educational Psychologist, 37(4), 233–244. https://doi.org/ ', '10.1207/S15326985EP3704_3 ', 'Song, Y.-M., Lee, D.-H., Lee, M. K., Lee, K., Lee, H. J., Hong, E. J., … Sung, J. (2010). ', 'Validity of the zygosity questionnaire and characteristics of zygosity-misdiagnosed ', 'twin pairs in the healthy twin study of Korea. Twin Research and Human Genetics, 13 ', '(3), 223–230. https://doi.org/10.1375/twin.13.3.223 ', 'Stapleton, L. M., McNeish, D. M., & Yang, J. S. (2016). Multilevel and single-level models ', 'for measured and latent variables when data are clustered. Educational Psychologist, ', '51(3–4), 317–330. https://doi.org/10.1080/00461520.2016.1207178 ', 'Stewart, E. A. (2000). Towards the social analysis of twinship. The British Journal of ', 'Sociology, 51(4), 719–737. https://doi.org/10.1080/00071310020015343 ', 'Sticca, F., Goetz, T., Bieg, M., Hall, N. C., Eberle, F., & Haag, L. (2017). Examining the ', 'accuracy of students’ self-reported academic grades from a correlational and a ', 'discrepancy perspective: Evidence from a longitudinal study. PLoS One, 12(11), ', 'e0187367. ', '', '', 'developmental meta-analysis of twin studies. Psychological Bulletin, 107(2), 226–237. ', 'https://doi.org/10.1037/0033-2909.107.2.226 ', 'Differentiation Between Social Groups: Studies in the Social Psychology of Intergroup ', 'Relations (pp. 77–100). Academic Press. ', '', '', '', '', '', '', 'relations between achievement and self-concept. Review of Educational Research, 90 ', '(3), 376–419. https://doi.org/10.3102/0034654320919354 ', 'M¨onkediek, B., Lang, V., Weigel, L., Baum, M. A., Eifler, E. F., Hahn, E., … Spinath, F. M. ', '(2019). The German twin family panel (TwinLife). Twin Research and Human ', 'Genetics, 22(6), 540–547. https://doi.org/10.1017/thg.2019.63 ', 'Muenks, K., Wigfield, A., & Eccles, J. S. (2018). I can do this! The development and ', 'calibration of children’s expectations for success and competence beliefs. ', 'Developmental Review, 48, 24–39. https://doi.org/10.1016/j.dr.2018.04.001 ', 'Mussweiler, T., Rüter, K., & Epstude, K. (2004). The ups and downs of social comparison: ', 'Mechanisms of assimilation and contrast. Journal of Personality and Social Psychology, ', '87(6), 832–844. https://doi.org/10.1037/0022-3514.87.6.832 ', '', '', '', 'cross-cultural generalizability of school-average ability effects on self-concept and ', 'career aspirations in science. Journal of Educational Psychology, 104(4), 1033–1053. ', 'https://doi.org/10.1037/a0027697 ', 'Noller, P., Conway, S., & Blakeley-Smith, A. (2008). Sibling relationships in adolescent ', 'and young adult twin and nontwin siblings: Managing competition and comparison. ', 'In J. P. Forgas, & J. Fitness (Eds.), Social Relationships: Cognitive, Affective and ', 'Motivational Processes (pp. 235–252). Psychology Press. https://doi.org/10.4324/ ', '9780203888124. ', '', 'W. G. Austin, & S. Worchel (Eds.), The Social Psychology of Intergroup Relations (pp. ', '33–47). Brooks/Cole. ', '', 'Journal of Psychology, 54(2), 101–114. https://doi.org/10.1111/j.2044-8295.1963. ', 'tb00865.x ', 'Tesser, A. (1980). Self-esteem maintenance in family dynamics. Journal of Personality and ', 'Social Psychology, 39(1), 77–91. https://doi.org/10.1037/0022-3514.39.1.77 ', 'Tesser, A., & Schwartz, N. (2001). Blackwell Handbook of Social Psychology: Intraindividual ', '', 'Thoemmes, F., & Rose, N. (2014). A cautious note on auxiliary variables that can increase ', 'bias in missing data problems. Multivariate Behavioral Research, 49(5), 443–459. ', 'https://doi.org/10.1080/00273171.2014.931799 ', '', 'comparison: How students perceive the standing of their class predicts academic self- ', 'concept. Journal of Educational Psychology, 101(4), 853–866. https://doi.org/ ', '10.1037/a0016306 ', '', 'forces, same consequence: Conscientiousness and competence beliefs are ', 'independent predictors of academic effort and achievement. Journal of Personality ', 'and Social Psychology, 97(6), 1115–1128. https://doi.org/10.1037/a0017048 ', 'Tucker-Drob, E. M., Briley, D. A., Engelhardt, L. E., Mann, F. D., & Harden, K. P. (2016). ', 'Genetically-mediated associations between measures of childhood character and ', 'academic achievement. Journal of Personality and Social Psychology, 111(5), ', '790–815. https://doi.org/10.1037/pspp0000098 ', 'Turner, J. C., Brown, R. J., & Tajfel, H. (1979). Social comparison and group interest in ', 'ingroup favouritism. European Journal of Social Psychology, 9(2), 187–204. https:// ', 'doi.org/10.1002/ejsp.2420090207 ', 'excellence contribute to successful learning? A meta-analytic review. Psychological ', 'Assessment, 32(10), 972–983. https://doi.org/10.1037/pas0000942 ', 'Turner, J. C., Hogg, M. A., Oakes, P. J., Reicher, S. D., & Wetherell, M. S. (1987). ', 'Rediscovering the social group: A self-categorization theory. Basil Blackwell. ', 'Parcel, T. L., Dufur, M. J., & Cornell Zito, R. (2010). Capital at home and at school: A ', 'review and synthesis. Journal of Marriage and Family, 72(4), 828–846. https://doi. ', 'org/10.1111/j.1741-3737.2010.00733.x ', 'Pelham, B. W., & Wachsmuth, J. O. (1995). The waxing and waning of the social self: ', 'Assimilation and contrast in social comparison. Journal of Personality and Social ', 'Psychology, 69(5), 825–838. https://doi.org/10.1037/0022-3514.69.5.825 ', 'Penninkilampi-Kerola, V., Moilanen, I., & Kaprio, J. (2005). Co-twin dependence, social ', 'interactions, and academic achievement: A population-based study. Journal of Social ', 'and Personal Relationships, 22(4), 519–541. https://doi.org/10.1177/ ', '0265407505054521 ', 'van Buuren, S., Boshuizen, H. C., & Knook, D. L. (1999). Multiple imputation of missing ', 'blood pressure covariates in survival analysis. Statistics in Medicine, 18(6), 681–694. ', 'https://doi.org/10.1002/(SICI)1097-0258(19990330)18:6<681::AID-SIM71>3.0. ', 'CO;2-R ', '', 'invariance literature: Suggestions, practices, and recommendations for ', 'organizational research. Organizational Research Methods, 3(1), 4–70. https://doi. ', 'org/10.1177/109442810031002 ', 'Watzlawik, M. (2009). The perception of similarities and differences among adolescent ', 'siblings: Identification and deidentification of twins and nontwins. Journal of ', 'Adolescent Research, 24(5), 561–578. https://doi.org/10.1177/0743558409338301 ', '', '', '', '', 'elementary school: No dimensional comparison effects across time. Developmental ', 'Psychology, 55(5), 1005–1018. https://doi.org/10.1037/dev0000695 ', 'Wigfield, A., & Karpathian, M. (1991). Who am I and what can I do? Children’s self- ', 'concepts and motivation in achievement situations. Educational Psychologist, 26 ', '(3–4), 233–261. https://doi.org/10.1080/00461520.1991.9653134 ', 'Whiteman, S. D., McHale, S. M., & Crouter, A. C. (2007). Competing processes of sibling ', 'influence: Observational learning and sibling deidentification. Social Development, 16 ', '(4), 642–661. https://doi.org/10.1111/j.1467-9507.2007.00409.x ', 'Zell, E., & Alicke, M. D. (2010). The local dominance effect in self-evaluation: Evidence ', 'and explanations. Personality and Social Psychology Review, 14(4), 368–384. https:// ', 'doi.org/10.1177/1088868310366144 ', 'Whiteman, S. D., McHale, S. M., & Soli, A. (2011). Theoretical perspectives on sibling ', 'relationships. Journal of Family Theory & Review, 3(2), 124–139. https://doi.org/ ', '10.1111/j.1756-2589.2011.00087.x ', '', '']\n"
          ]
        }
      ]
    },
    {
      "cell_type": "markdown",
      "metadata": {
        "id": "NNqkh2nb8qpe"
      },
      "source": [
        "## Basic Text Pre-processing\n",
        "\n",
        "I perform some basic text wrangling / preprocessing."
      ]
    },
    {
      "cell_type": "code",
      "metadata": {
        "colab": {
          "base_uri": "https://localhost:8080/"
        },
        "id": "Jhsbee7g8lwa",
        "outputId": "1743b985-43b4-4a97-e078-613cdb4d3a13"
      },
      "source": [
        "%%time\n",
        "import nltk\n",
        "import tqdm\n",
        "\n",
        "stop_words = nltk.corpus.stopwords.words('english')\n",
        "wtk = nltk.tokenize.RegexpTokenizer(r'\\w+') # can also use nltk.word_tokenize to get word tokens for each paper\n",
        "wnl = nltk.stem.wordnet.WordNetLemmatizer()\n",
        "\n",
        "def normalize_corpus(papers):\n",
        "    norm_papers = []\n",
        "    for paper in tqdm.tqdm(papers):\n",
        "        paper = paper.lower()\n",
        "        paper_tokens = [token.strip() for token in wtk.tokenize(paper)]\n",
        "        paper_tokens = [wnl.lemmatize(token) for token in paper_tokens if not token.isnumeric()]\n",
        "        paper_tokens = [token for token in paper_tokens if len(token) > 1] # removing any single character words \\ numbers \\ symbols \n",
        "        paper_tokens = [token for token in paper_tokens if token not in stop_words]\n",
        "        paper_tokens = list(filter(None, paper_tokens))\n",
        "        if paper_tokens:\n",
        "            norm_papers.append(paper_tokens)\n",
        "            \n",
        "    return norm_papers\n",
        "    \n",
        "norm_papers = normalize_corpus(papers)\n",
        "print(len(norm_papers))"
      ],
      "execution_count": 10,
      "outputs": [
        {
          "output_type": "stream",
          "name": "stderr",
          "text": [
            "100%|██████████| 2288/2288 [00:00<00:00, 31397.24it/s]"
          ]
        },
        {
          "output_type": "stream",
          "name": "stdout",
          "text": [
            "1498\n",
            "CPU times: user 75.7 ms, sys: 0 ns, total: 75.7 ms\n",
            "Wall time: 77.9 ms\n"
          ]
        },
        {
          "output_type": "stream",
          "name": "stderr",
          "text": [
            "\n"
          ]
        }
      ]
    },
    {
      "cell_type": "code",
      "metadata": {
        "colab": {
          "base_uri": "https://localhost:8080/"
        },
        "id": "Cq4EhTwP-I_U",
        "outputId": "f825f252-9921-4201-e88c-4a79abdc6e82"
      },
      "source": [
        "print(norm_papers[0][:50])"
      ],
      "execution_count": 15,
      "outputs": [
        {
          "output_type": "stream",
          "name": "stdout",
          "text": [
            "['happens', 'comparison', 'process']\n"
          ]
        }
      ]
    },
    {
      "cell_type": "markdown",
      "metadata": {
        "id": "wFubckun_IYp"
      },
      "source": [
        "## Build a Bi-gram Phrase Model\n",
        "\n",
        "In this section, I extract some useful bi-gram\n",
        "based phrases from our research paper and remove some unnecessary terms. I\n",
        "leverage the very useful gensim.models.Phrases class for this. This technique\n",
        "automatically detect common phrases from a stream of sentences, which are typically multi-word expressions/word n-grams. \n",
        "\n",
        "First, I start by extracting and generating words and bi-grams as phrases for\n",
        "each tokenized research paper. \n",
        "\n",
        "The `min_count` parameter refers to ignore all words and bi-grams with total\n",
        "collected count lower than 20 across the corpus (of the input paper as a list of tokenized\n",
        "sentences). \n",
        "\n",
        "The `threshold` parameter of 20, refers to that the model accepts specific\n",
        "phrases based on this threshold value so that a phrase of words a followed by b is accepted if the score of the phrase is greater than the threshold of 20. This threshold depends on the scoring parameter, which helps us understand how these phrases are scored to understand their influence.\n",
        "\n",
        "Typically the default scorer is used and it’s pretty straightforward to understand."
      ]
    },
    {
      "cell_type": "code",
      "source": [
        "!pip install gensim==3.6.0"
      ],
      "metadata": {
        "id": "jYobNgUBJvaA",
        "colab": {
          "base_uri": "https://localhost:8080/"
        },
        "outputId": "e32193b6-8994-46f4-ac83-b9dfbf649ae2"
      },
      "execution_count": 16,
      "outputs": [
        {
          "output_type": "stream",
          "name": "stdout",
          "text": [
            "Looking in indexes: https://pypi.org/simple, https://us-python.pkg.dev/colab-wheels/public/simple/\n",
            "Collecting gensim==3.6.0\n",
            "  Downloading gensim-3.6.0.tar.gz (23.1 MB)\n",
            "\u001b[2K     \u001b[90m━━━━━━━━━━━━━━━━━━━━━━━━━━━━━━━━━━━━━━━━\u001b[0m \u001b[32m23.1/23.1 MB\u001b[0m \u001b[31m58.3 MB/s\u001b[0m eta \u001b[36m0:00:00\u001b[0m\n",
            "\u001b[?25h  Preparing metadata (setup.py) ... \u001b[?25l\u001b[?25hdone\n",
            "Requirement already satisfied: numpy>=1.11.3 in /usr/local/lib/python3.9/dist-packages (from gensim==3.6.0) (1.22.4)\n",
            "Requirement already satisfied: scipy>=0.18.1 in /usr/local/lib/python3.9/dist-packages (from gensim==3.6.0) (1.10.1)\n",
            "Requirement already satisfied: six>=1.5.0 in /usr/local/lib/python3.9/dist-packages (from gensim==3.6.0) (1.16.0)\n",
            "Requirement already satisfied: smart_open>=1.2.1 in /usr/local/lib/python3.9/dist-packages (from gensim==3.6.0) (6.3.0)\n",
            "Building wheels for collected packages: gensim\n",
            "  Building wheel for gensim (setup.py) ... \u001b[?25l\u001b[?25hdone\n",
            "  Created wheel for gensim: filename=gensim-3.6.0-cp39-cp39-linux_x86_64.whl size=23915434 sha256=3dbf1218a7ede67d05135a8334bfd4b02f9bea7dadc91b5c77b2c11a0d4bfc96\n",
            "  Stored in directory: /root/.cache/pip/wheels/61/12/f2/84de20fba5e870553796b0834d11109992f06ddc20aaead086\n",
            "Successfully built gensim\n",
            "Installing collected packages: gensim\n",
            "  Attempting uninstall: gensim\n",
            "    Found existing installation: gensim 4.3.1\n",
            "    Uninstalling gensim-4.3.1:\n",
            "      Successfully uninstalled gensim-4.3.1\n",
            "Successfully installed gensim-3.6.0\n"
          ]
        }
      ]
    },
    {
      "cell_type": "code",
      "metadata": {
        "colab": {
          "base_uri": "https://localhost:8080/",
          "height": 38
        },
        "id": "RWq3XtcEf21F",
        "outputId": "15059d8a-fac8-430b-c220-769fe1769d6a"
      },
      "source": [
        "import gensim\n",
        "gensim.__version__ # version 3.6 needed to run MALLET LDA models"
      ],
      "execution_count": 17,
      "outputs": [
        {
          "output_type": "execute_result",
          "data": {
            "text/plain": [
              "'3.6.0'"
            ],
            "application/vnd.google.colaboratory.intrinsic+json": {
              "type": "string"
            }
          },
          "metadata": {},
          "execution_count": 17
        }
      ]
    },
    {
      "cell_type": "code",
      "metadata": {
        "colab": {
          "base_uri": "https://localhost:8080/"
        },
        "id": "6IX3-ZbQ-fXp",
        "outputId": "447cdb22-163a-4e15-82c4-6f1c59b7b31b"
      },
      "source": [
        "import gensim\n",
        "\n",
        "bigram = gensim.models.Phrases(norm_papers, min_count=20, threshold=20, delimiter=b'_') # higher threshold fewer phrases.\n",
        "bigram_model = gensim.models.phrases.Phraser(bigram)\n",
        "\n",
        "print(bigram_model[norm_papers[0]][:50]) # very similar to using ngram_range=(1,2) in count vectorizer"
      ],
      "execution_count": 18,
      "outputs": [
        {
          "output_type": "stream",
          "name": "stdout",
          "text": [
            "['happens', 'comparison', 'process']\n"
          ]
        }
      ]
    },
    {
      "cell_type": "code",
      "metadata": {
        "colab": {
          "base_uri": "https://localhost:8080/"
        },
        "id": "KaGCzYSU-jx1",
        "outputId": "a4d60c2c-826c-4f89-a13d-b1f85a478645"
      },
      "source": [
        "norm_corpus_bigrams = [bigram_model[doc] for doc in norm_papers]\n",
        "\n",
        "# Create a dictionary representation of the documents.\n",
        "dictionary = gensim.corpora.Dictionary(norm_corpus_bigrams)   #every word is encoded with numbers. e.g., ability will be in the 7th columns. \n",
        "print('Sample word to number mappings:', list(dictionary.items())[:15])\n",
        "print('Total Vocabulary Size:', len(dictionary))"
      ],
      "execution_count": 19,
      "outputs": [
        {
          "output_type": "stream",
          "name": "stdout",
          "text": [
            "Sample word to number mappings: [(0, 'comparison'), (1, 'happens'), (2, 'process'), (3, 'academic'), (4, 'concept'), (5, 'formation'), (6, 'self'), (7, 'similar'), (8, 'twin'), (9, 'benjamin'), (10, 'fleischmann'), (11, 'gaspard'), (12, 'hanna'), (13, 'kim'), (14, 'moritz')]\n",
            "Total Vocabulary Size: 1706\n"
          ]
        }
      ]
    },
    {
      "cell_type": "markdown",
      "metadata": {
        "id": "x47ztNpD12bC"
      },
      "source": [
        "Looks like we have a lot of unique phrases in our research paper,\n",
        "based on the preceding output. Several of these terms are not very useful since they are\n",
        "too specific. Hence, it is time to prune\n",
        "our vocabulary and start removing terms. Leveraging document frequency is a great way\n",
        "to achieve this. "
      ]
    },
    {
      "cell_type": "code",
      "metadata": {
        "colab": {
          "base_uri": "https://localhost:8080/"
        },
        "id": "YTiZ2Bxe-tNK",
        "outputId": "6d7b2db6-ec51-45f5-fe92-915966253568"
      },
      "source": [
        "# Filter out words that occur less than 20 times, or more than 60% of the document.\n",
        "dictionary.filter_extremes(no_below=20, no_above=0.6) # similar to min_df and max_df in count vectorizer\n",
        "print('Total Vocabulary Size:', len(dictionary))"
      ],
      "execution_count": 20,
      "outputs": [
        {
          "output_type": "stream",
          "name": "stdout",
          "text": [
            "Total Vocabulary Size: 60\n"
          ]
        }
      ]
    },
    {
      "cell_type": "markdown",
      "metadata": {
        "id": "PKMDWQ6W12bF"
      },
      "source": [
        "I removed all terms that occur fewer than 20 times across our research paper and all\n",
        "terms that occur in more than 60% of all the documents. I am interested in finding\n",
        "different themes and topics and not recurring themes. Hence, this suits my intention\n",
        "perfectly."
      ]
    },
    {
      "cell_type": "markdown",
      "metadata": {
        "id": "kj2lB4_b_eFO"
      },
      "source": [
        "## Transforming corpus into bag of words vectors\n",
        "\n",
        "Now I perform feature engineering by leveraging a simple Bag of Words\n",
        "model."
      ]
    },
    {
      "cell_type": "code",
      "metadata": {
        "colab": {
          "base_uri": "https://localhost:8080/"
        },
        "id": "cp_fhm91-3R-",
        "outputId": "a6f17c8a-3bcf-4913-dfd5-a2bed4755a0a"
      },
      "source": [
        "# Transforming corpus into bag of words vectors\n",
        "bow_corpus = [dictionary.doc2bow(text) for text in norm_corpus_bigrams]\n",
        "print(bow_corpus[1][:50])"
      ],
      "execution_count": 21,
      "outputs": [
        {
          "output_type": "stream",
          "name": "stdout",
          "text": [
            "[(2, 1), (3, 1), (4, 1), (5, 1), (6, 1)]\n"
          ]
        }
      ]
    },
    {
      "cell_type": "code",
      "metadata": {
        "colab": {
          "base_uri": "https://localhost:8080/"
        },
        "id": "_oOA652d-6sI",
        "outputId": "efc59b43-4310-4106-a8de-61ac7f77d317"
      },
      "source": [
        "print([(dictionary[idx] , freq) for idx, freq in bow_corpus[1][:50]])"
      ],
      "execution_count": 22,
      "outputs": [
        {
          "output_type": "stream",
          "name": "stdout",
          "text": [
            "[('academic', 1), ('concept', 1), ('self', 1), ('similar', 1), ('twin', 1)]\n"
          ]
        }
      ]
    },
    {
      "cell_type": "code",
      "metadata": {
        "colab": {
          "base_uri": "https://localhost:8080/"
        },
        "id": "aAjuxxdH--fn",
        "outputId": "5af30b00-4f68-4c8b-cbad-64e1431e3985"
      },
      "source": [
        "print('Total number of papers:', len(bow_corpus))"
      ],
      "execution_count": 23,
      "outputs": [
        {
          "output_type": "stream",
          "name": "stdout",
          "text": [
            "Total number of papers: 1498\n"
          ]
        }
      ]
    },
    {
      "cell_type": "markdown",
      "metadata": {
        "id": "zUb8ZKJXJI-4"
      },
      "source": [
        "## Topic Models with Latent Dirichlet Allocation (LDA)\n",
        "\n",
        "The Latent Dirichlet Allocation (LDA) technique is a generative probabilistic model in\n",
        "which each document is assumed to have a combination of topics similar to a probabilistic\n",
        "Latent Semantic Indexing model. In this case, the latent topics contain a Dirichlet\n",
        "prior over them. The math behind in this technique is pretty involved, so we will try to\n",
        "summarize it since going it specific details is out of the current scope.\n",
        "\n",
        "![](https://i.imgur.com/l23JAvE.png)\n",
        "\n",
        "Simplyfying the LDA model process:\n",
        "\n",
        "![](https://i.imgur.com/0BXCaUi.png)\n",
        "\n",
        "![](https://i.imgur.com/ioiUAxX.png)"
      ]
    },
    {
      "cell_type": "code",
      "metadata": {
        "colab": {
          "base_uri": "https://localhost:8080/"
        },
        "id": "083_UQPlJZy_",
        "outputId": "ee02e3a1-1601-4830-d0c5-6f942bbe6ea1"
      },
      "source": [
        "%%time\n",
        "TOTAL_TOPICS = 10\n",
        "lda_model = gensim.models.LdaModel(corpus=bow_corpus, \n",
        "                                   id2word=dictionary, \n",
        "                                   chunksize=1740, \n",
        "                                   alpha='auto', \n",
        "                                   eta='auto', \n",
        "                                   random_state=42,\n",
        "                                   iterations=500, \n",
        "                                   num_topics=TOTAL_TOPICS, \n",
        "                                   passes=20, \n",
        "                                   eval_every=None)"
      ],
      "execution_count": 24,
      "outputs": [
        {
          "output_type": "stream",
          "name": "stdout",
          "text": [
            "CPU times: user 7.6 s, sys: 103 ms, total: 7.7 s\n",
            "Wall time: 7.59 s\n"
          ]
        }
      ]
    },
    {
      "cell_type": "code",
      "metadata": {
        "colab": {
          "base_uri": "https://localhost:8080/"
        },
        "id": "IF9KX9UARO1r",
        "outputId": "39c9cbbd-c572-45fd-8915-bb0ca3241684"
      },
      "source": [
        "for topic_id, topic in lda_model.print_topics(num_topics=10, num_words=20):  #10 most influential topics \n",
        "    print('Topic #'+str(topic_id+1)+':')\n",
        "    print(topic)\n",
        "    print()"
      ],
      "execution_count": 25,
      "outputs": [
        {
          "output_type": "stream",
          "name": "stdout",
          "text": [
            "Topic #1:\n",
            "0.241*\"self\" + 0.187*\"concept\" + 0.184*\"academic\" + 0.106*\"student\" + 0.062*\"process\" + 0.057*\"comparison\" + 0.044*\"similar\" + 0.034*\"mirror_effect\" + 0.022*\"marsh\" + 0.015*\"individual\" + 0.011*\"educational\" + 0.009*\"others\" + 0.008*\"contrast\" + 0.007*\"older\" + 0.002*\"achievement\" + 0.001*\"twin\" + 0.001*\"group\" + 0.000*\"effect\" + 0.000*\"wa\" + 0.000*\"test\"\n",
            "\n",
            "Topic #2:\n",
            "0.176*\"self\" + 0.176*\"concept\" + 0.173*\"german\" + 0.139*\"effect\" + 0.119*\"mathematics\" + 0.089*\"grade\" + 0.044*\"contrast\" + 0.036*\"table\" + 0.022*\"others\" + 0.011*\"academic\" + 0.001*\"older\" + 0.001*\"twin\" + 0.001*\"student\" + 0.001*\"wa\" + 0.000*\"test\" + 0.000*\"achievement\" + 0.000*\"comparison\" + 0.000*\"mirror_effect\" + 0.000*\"et_al\" + 0.000*\"year_old\"\n",
            "\n",
            "Topic #3:\n",
            "0.221*\"school\" + 0.209*\"grade\" + 0.145*\"data\" + 0.097*\"reported\" + 0.088*\"analysis\" + 0.054*\"mathematics\" + 0.054*\"self\" + 0.042*\"student\" + 0.028*\"variable\" + 0.019*\"two\" + 0.013*\"test\" + 0.003*\"wa\" + 0.002*\"twin\" + 0.001*\"difference\" + 0.001*\"concept\" + 0.001*\"social\" + 0.001*\"achievement\" + 0.001*\"effect\" + 0.001*\"academic\" + 0.001*\"comparison\"\n",
            "\n",
            "Topic #4:\n",
            "0.266*\"twin\" + 0.213*\"mz\" + 0.163*\"dz\" + 0.085*\"year_old\" + 0.065*\"mirror_effect\" + 0.039*\"sample\" + 0.036*\"fit\" + 0.022*\"pair\" + 0.019*\"older\" + 0.015*\"test\" + 0.012*\"showed\" + 0.011*\"two\" + 0.010*\"model\" + 0.009*\"table\" + 0.008*\"similar\" + 0.007*\"analysis\" + 0.005*\"group\" + 0.004*\"difference\" + 0.002*\"found\" + 0.001*\"wa\"\n",
            "\n",
            "Topic #5:\n",
            "0.229*\"social\" + 0.183*\"research\" + 0.168*\"comparison\" + 0.127*\"individual\" + 0.124*\"et_al\" + 0.092*\"twin\" + 0.043*\"variable\" + 0.003*\"german\" + 0.003*\"study\" + 0.002*\"self\" + 0.001*\"grade\" + 0.001*\"similar\" + 0.001*\"process\" + 0.001*\"concept\" + 0.001*\"effect\" + 0.001*\"others\" + 0.001*\"achievement\" + 0.001*\"academic\" + 0.001*\"test\" + 0.001*\"older\"\n",
            "\n",
            "Topic #6:\n",
            "0.245*\"org\" + 0.242*\"http_doi\" + 0.149*\"study\" + 0.118*\"psychology\" + 0.087*\"educational\" + 0.076*\"journal\" + 0.034*\"social\" + 0.015*\"data\" + 0.004*\"others\" + 0.003*\"research\" + 0.002*\"twin\" + 0.001*\"analysis\" + 0.001*\"self\" + 0.001*\"variable\" + 0.001*\"test\" + 0.001*\"concept\" + 0.001*\"personality\" + 0.001*\"achievement\" + 0.001*\"effect\" + 0.001*\"academic\"\n",
            "\n",
            "Topic #7:\n",
            "0.184*\"achievement\" + 0.170*\"et_al\" + 0.131*\"wa\" + 0.125*\"found\" + 0.069*\"personality\" + 0.062*\"oller\" + 0.048*\"marsh\" + 0.047*\"academic\" + 0.034*\"effect\" + 0.025*\"contrast\" + 0.025*\"student\" + 0.015*\"domain\" + 0.014*\"journal\" + 0.014*\"others\" + 0.013*\"older\" + 0.002*\"comparison\" + 0.002*\"social\" + 0.002*\"self\" + 0.002*\"twin\" + 0.002*\"concept\"\n",
            "\n",
            "Topic #8:\n",
            "0.441*\"twin\" + 0.206*\"co\" + 0.141*\"achievement\" + 0.049*\"mathematics\" + 0.046*\"effect\" + 0.026*\"german\" + 0.023*\"grade\" + 0.020*\"pair\" + 0.015*\"path\" + 0.006*\"self\" + 0.005*\"concept\" + 0.004*\"test\" + 0.003*\"older\" + 0.002*\"showed\" + 0.001*\"wa\" + 0.001*\"academic\" + 0.000*\"individual\" + 0.000*\"mz\" + 0.000*\"mirror_effect\" + 0.000*\"comparison\"\n",
            "\n",
            "Topic #9:\n",
            "0.241*\"group\" + 0.201*\"domain\" + 0.110*\"age\" + 0.104*\"within\" + 0.098*\"across\" + 0.039*\"two\" + 0.026*\"concept\" + 0.022*\"achievement\" + 0.020*\"self\" + 0.019*\"twin\" + 0.016*\"academic\" + 0.015*\"difference\" + 0.014*\"analysis\" + 0.014*\"older\" + 0.014*\"pattern\" + 0.013*\"mirror_effect\" + 0.006*\"variable\" + 0.005*\"others\" + 0.004*\"test\" + 0.002*\"mz\"\n",
            "\n",
            "Topic #10:\n",
            "0.235*\"model\" + 0.154*\"cid\" + 0.097*\"regression\" + 0.070*\"difference\" + 0.066*\"internal\" + 0.065*\"path\" + 0.050*\"pattern\" + 0.043*\"showed\" + 0.042*\"effect\" + 0.037*\"test\" + 0.033*\"marsh\" + 0.028*\"analysis\" + 0.023*\"comparison\" + 0.017*\"individual\" + 0.014*\"oller\" + 0.004*\"twin\" + 0.003*\"achievement\" + 0.001*\"self\" + 0.001*\"concept\" + 0.001*\"personality\"\n",
            "\n"
          ]
        }
      ]
    },
    {
      "cell_type": "code",
      "metadata": {
        "colab": {
          "base_uri": "https://localhost:8080/"
        },
        "id": "4jExj9SYRRyE",
        "outputId": "36cd1526-ccf0-4144-ff4e-dcdd7a37ff0f"
      },
      "source": [
        "topics_coherences = lda_model.top_topics(bow_corpus, topn=20)\n",
        "avg_coherence_score = np.mean([item[1] for item in topics_coherences])\n",
        "print('Avg. Coherence Score:', avg_coherence_score)"
      ],
      "execution_count": 29,
      "outputs": [
        {
          "output_type": "stream",
          "name": "stdout",
          "text": [
            "Avg. Coherence Score: -8.220130962732583\n"
          ]
        }
      ]
    },
    {
      "cell_type": "markdown",
      "metadata": {
        "id": "YtPTIGeQ12by"
      },
      "source": [
        "Topic coherence is used to measure the\n",
        "quality of topic models. Typically, a set of statements is said to be\n",
        "coherent if they support each other. Topic models are unsupervised learning based\n",
        "models that are trained on unstructured text data, making it difficult to measure the\n",
        "quality of outputs. \n"
      ]
    },
    {
      "cell_type": "code",
      "metadata": {
        "colab": {
          "base_uri": "https://localhost:8080/"
        },
        "id": "azEdB08qRX4z",
        "outputId": "ddd1ec04-f487-427b-ff5e-63a35702f11b"
      },
      "source": [
        "topics_with_wts = [item[0] for item in topics_coherences]\n",
        "print('LDA Topics with Weights')\n",
        "print('='*50)\n",
        "for idx, topic in enumerate(topics_with_wts):\n",
        "    print('Topic #'+str(idx+1)+':')\n",
        "    print([(term, round(wt, 3)) for wt, term in topic])\n",
        "    print()"
      ],
      "execution_count": 31,
      "outputs": [
        {
          "output_type": "stream",
          "name": "stdout",
          "text": [
            "LDA Topics with Weights\n",
            "==================================================\n",
            "Topic #1:\n",
            "[('achievement', 0.184), ('et_al', 0.17), ('wa', 0.131), ('found', 0.125), ('personality', 0.069), ('oller', 0.062), ('marsh', 0.048), ('academic', 0.047), ('effect', 0.034), ('contrast', 0.025), ('student', 0.025), ('domain', 0.015), ('journal', 0.014), ('others', 0.014), ('older', 0.013), ('comparison', 0.002), ('social', 0.002), ('self', 0.002), ('twin', 0.002), ('concept', 0.002)]\n",
            "\n",
            "Topic #2:\n",
            "[('twin', 0.441), ('co', 0.206), ('achievement', 0.141), ('mathematics', 0.049), ('effect', 0.046), ('german', 0.026), ('grade', 0.023), ('pair', 0.02), ('path', 0.015), ('self', 0.006), ('concept', 0.005), ('test', 0.004), ('older', 0.003), ('showed', 0.002), ('wa', 0.001), ('academic', 0.001), ('individual', 0.0), ('mz', 0.0), ('mirror_effect', 0.0), ('comparison', 0.0)]\n",
            "\n",
            "Topic #3:\n",
            "[('group', 0.241), ('domain', 0.201), ('age', 0.11), ('within', 0.104), ('across', 0.098), ('two', 0.039), ('concept', 0.026), ('achievement', 0.022), ('self', 0.02), ('twin', 0.019), ('academic', 0.016), ('difference', 0.015), ('analysis', 0.014), ('older', 0.014), ('pattern', 0.014), ('mirror_effect', 0.013), ('variable', 0.006), ('others', 0.005), ('test', 0.004), ('mz', 0.002)]\n",
            "\n",
            "Topic #4:\n",
            "[('self', 0.241), ('concept', 0.187), ('academic', 0.184), ('student', 0.106), ('process', 0.062), ('comparison', 0.057), ('similar', 0.044), ('mirror_effect', 0.034), ('marsh', 0.022), ('individual', 0.015), ('educational', 0.011), ('others', 0.009), ('contrast', 0.008), ('older', 0.007), ('achievement', 0.002), ('twin', 0.001), ('group', 0.001), ('effect', 0.0), ('wa', 0.0), ('test', 0.0)]\n",
            "\n",
            "Topic #5:\n",
            "[('self', 0.176), ('concept', 0.176), ('german', 0.173), ('effect', 0.139), ('mathematics', 0.119), ('grade', 0.089), ('contrast', 0.044), ('table', 0.036), ('others', 0.022), ('academic', 0.011), ('older', 0.001), ('twin', 0.001), ('student', 0.001), ('wa', 0.001), ('test', 0.0), ('achievement', 0.0), ('comparison', 0.0), ('mirror_effect', 0.0), ('et_al', 0.0), ('year_old', 0.0)]\n",
            "\n",
            "Topic #6:\n",
            "[('org', 0.245), ('http_doi', 0.242), ('study', 0.149), ('psychology', 0.118), ('educational', 0.087), ('journal', 0.076), ('social', 0.034), ('data', 0.015), ('others', 0.004), ('research', 0.003), ('twin', 0.002), ('analysis', 0.001), ('self', 0.001), ('variable', 0.001), ('test', 0.001), ('concept', 0.001), ('personality', 0.001), ('achievement', 0.001), ('effect', 0.001), ('academic', 0.001)]\n",
            "\n",
            "Topic #7:\n",
            "[('school', 0.221), ('grade', 0.209), ('data', 0.145), ('reported', 0.097), ('analysis', 0.088), ('mathematics', 0.054), ('self', 0.054), ('student', 0.042), ('variable', 0.028), ('two', 0.019), ('test', 0.013), ('wa', 0.003), ('twin', 0.002), ('difference', 0.001), ('concept', 0.001), ('social', 0.001), ('achievement', 0.001), ('effect', 0.001), ('academic', 0.001), ('comparison', 0.001)]\n",
            "\n",
            "Topic #8:\n",
            "[('social', 0.229), ('research', 0.183), ('comparison', 0.168), ('individual', 0.127), ('et_al', 0.124), ('twin', 0.092), ('variable', 0.043), ('german', 0.003), ('study', 0.003), ('self', 0.002), ('grade', 0.001), ('similar', 0.001), ('process', 0.001), ('concept', 0.001), ('effect', 0.001), ('others', 0.001), ('achievement', 0.001), ('academic', 0.001), ('test', 0.001), ('older', 0.001)]\n",
            "\n",
            "Topic #9:\n",
            "[('twin', 0.266), ('mz', 0.213), ('dz', 0.163), ('year_old', 0.085), ('mirror_effect', 0.065), ('sample', 0.039), ('fit', 0.036), ('pair', 0.022), ('older', 0.019), ('test', 0.015), ('showed', 0.012), ('two', 0.011), ('model', 0.01), ('table', 0.009), ('similar', 0.008), ('analysis', 0.007), ('group', 0.005), ('difference', 0.004), ('found', 0.002), ('wa', 0.001)]\n",
            "\n",
            "Topic #10:\n",
            "[('model', 0.235), ('cid', 0.154), ('regression', 0.097), ('difference', 0.07), ('internal', 0.066), ('path', 0.065), ('pattern', 0.05), ('showed', 0.043), ('effect', 0.042), ('test', 0.037), ('marsh', 0.033), ('analysis', 0.028), ('comparison', 0.023), ('individual', 0.017), ('oller', 0.014), ('twin', 0.004), ('achievement', 0.003), ('self', 0.001), ('concept', 0.001), ('personality', 0.001)]\n",
            "\n"
          ]
        }
      ]
    },
    {
      "cell_type": "code",
      "metadata": {
        "colab": {
          "base_uri": "https://localhost:8080/"
        },
        "id": "EAkgJa3XRZ3m",
        "outputId": "5403353b-333b-438a-e2be-58dc3491d6ee"
      },
      "source": [
        "print('LDA Topics without Weights')\n",
        "print('='*50)\n",
        "for idx, topic in enumerate(topics_with_wts):\n",
        "    print('Topic #'+str(idx+1)+':')\n",
        "    print([term for wt, term in topic])\n",
        "    print()"
      ],
      "execution_count": 32,
      "outputs": [
        {
          "output_type": "stream",
          "name": "stdout",
          "text": [
            "LDA Topics without Weights\n",
            "==================================================\n",
            "Topic #1:\n",
            "['achievement', 'et_al', 'wa', 'found', 'personality', 'oller', 'marsh', 'academic', 'effect', 'contrast', 'student', 'domain', 'journal', 'others', 'older', 'comparison', 'social', 'self', 'twin', 'concept']\n",
            "\n",
            "Topic #2:\n",
            "['twin', 'co', 'achievement', 'mathematics', 'effect', 'german', 'grade', 'pair', 'path', 'self', 'concept', 'test', 'older', 'showed', 'wa', 'academic', 'individual', 'mz', 'mirror_effect', 'comparison']\n",
            "\n",
            "Topic #3:\n",
            "['group', 'domain', 'age', 'within', 'across', 'two', 'concept', 'achievement', 'self', 'twin', 'academic', 'difference', 'analysis', 'older', 'pattern', 'mirror_effect', 'variable', 'others', 'test', 'mz']\n",
            "\n",
            "Topic #4:\n",
            "['self', 'concept', 'academic', 'student', 'process', 'comparison', 'similar', 'mirror_effect', 'marsh', 'individual', 'educational', 'others', 'contrast', 'older', 'achievement', 'twin', 'group', 'effect', 'wa', 'test']\n",
            "\n",
            "Topic #5:\n",
            "['self', 'concept', 'german', 'effect', 'mathematics', 'grade', 'contrast', 'table', 'others', 'academic', 'older', 'twin', 'student', 'wa', 'test', 'achievement', 'comparison', 'mirror_effect', 'et_al', 'year_old']\n",
            "\n",
            "Topic #6:\n",
            "['org', 'http_doi', 'study', 'psychology', 'educational', 'journal', 'social', 'data', 'others', 'research', 'twin', 'analysis', 'self', 'variable', 'test', 'concept', 'personality', 'achievement', 'effect', 'academic']\n",
            "\n",
            "Topic #7:\n",
            "['school', 'grade', 'data', 'reported', 'analysis', 'mathematics', 'self', 'student', 'variable', 'two', 'test', 'wa', 'twin', 'difference', 'concept', 'social', 'achievement', 'effect', 'academic', 'comparison']\n",
            "\n",
            "Topic #8:\n",
            "['social', 'research', 'comparison', 'individual', 'et_al', 'twin', 'variable', 'german', 'study', 'self', 'grade', 'similar', 'process', 'concept', 'effect', 'others', 'achievement', 'academic', 'test', 'older']\n",
            "\n",
            "Topic #9:\n",
            "['twin', 'mz', 'dz', 'year_old', 'mirror_effect', 'sample', 'fit', 'pair', 'older', 'test', 'showed', 'two', 'model', 'table', 'similar', 'analysis', 'group', 'difference', 'found', 'wa']\n",
            "\n",
            "Topic #10:\n",
            "['model', 'cid', 'regression', 'difference', 'internal', 'path', 'pattern', 'showed', 'effect', 'test', 'marsh', 'analysis', 'comparison', 'individual', 'oller', 'twin', 'achievement', 'self', 'concept', 'personality']\n",
            "\n"
          ]
        }
      ]
    },
    {
      "cell_type": "markdown",
      "metadata": {
        "id": "abiy8_Cg12b5"
      },
      "source": [
        "## Evaluating topic model quality\n",
        "\n",
        "Below, I show the perplexity and coherence scores as measures to evaluate the topic\n",
        "model. Typically, lower the perplexity, the better the model. Similarly, the lower the\n",
        "UMass score and the higher the Cv score in coherence, the better the model."
      ]
    },
    {
      "cell_type": "code",
      "metadata": {
        "colab": {
          "base_uri": "https://localhost:8080/"
        },
        "id": "WkOZQdZERbzG",
        "outputId": "422d082d-0824-4070-8e7d-62785e5951b2"
      },
      "source": [
        "cv_coherence_model_lda = gensim.models.CoherenceModel(model=lda_model, \n",
        "                                                      corpus=bow_corpus, \n",
        "                                                      texts=norm_corpus_bigrams,\n",
        "                                                      dictionary=dictionary, \n",
        "                                                      coherence='c_v')\n",
        "avg_coherence_cv = cv_coherence_model_lda.get_coherence()\n",
        "\n",
        "umass_coherence_model_lda = gensim.models.CoherenceModel(model=lda_model, \n",
        "                                                         corpus=bow_corpus, \n",
        "                                                         texts=norm_corpus_bigrams,\n",
        "                                                         dictionary=dictionary, \n",
        "                                                         coherence='u_mass')\n",
        "avg_coherence_umass = umass_coherence_model_lda.get_coherence()\n",
        "\n",
        "perplexity = lda_model.log_perplexity(bow_corpus)\n",
        "\n",
        "print('Avg. Coherence Score (Cv):', avg_coherence_cv)\n",
        "print('Avg. Coherence Score (UMass):', avg_coherence_umass)\n",
        "print('Model Perplexity:', perplexity)"
      ],
      "execution_count": 33,
      "outputs": [
        {
          "output_type": "stream",
          "name": "stdout",
          "text": [
            "Avg. Coherence Score (Cv): 0.366093940445557\n",
            "Avg. Coherence Score (UMass): -8.220130962732583\n",
            "Model Perplexity: -3.810052338402869\n"
          ]
        }
      ]
    },
    {
      "cell_type": "markdown",
      "metadata": {
        "id": "DmuExSjK12b6"
      },
      "source": [
        "## LDA Models with MALLET\n",
        "\n",
        "The MALLET framework is a Java-based package for statistical natural language\n",
        "processing, document classification, clustering, topic modeling, information extraction,\n",
        "and other machine learning applications to text. MALLET stands for MAchine Learning\n",
        "for LanguagE Toolkit. It was developed by Andrew McCallum along with several people\n",
        "at the University of Massachusetts Amherst. The MALLET topic modeling toolkit\n",
        "contains efficient, sampling-based implementations of Latent Dirichlet Allocation,\n",
        "Pachinko Allocation, and Hierarchical LDA. To use MALLET’s capabilities, we need to\n",
        "download the framework."
      ]
    },
    {
      "cell_type": "code",
      "metadata": {
        "colab": {
          "base_uri": "https://localhost:8080/"
        },
        "id": "NSRYjYP7VXPz",
        "outputId": "40548910-6938-4a98-8c7a-5d79042369df"
      },
      "source": [
        "!wget http://mallet.cs.umass.edu/dist/mallet-2.0.8.zip\n",
        "!unzip -q mallet-2.0.8.zip"
      ],
      "execution_count": 34,
      "outputs": [
        {
          "output_type": "stream",
          "name": "stdout",
          "text": [
            "--2023-04-02 10:36:54--  http://mallet.cs.umass.edu/dist/mallet-2.0.8.zip\n",
            "Resolving mallet.cs.umass.edu (mallet.cs.umass.edu)... 128.119.246.70\n",
            "Connecting to mallet.cs.umass.edu (mallet.cs.umass.edu)|128.119.246.70|:80... connected.\n",
            "HTTP request sent, awaiting response... 302 Found\n",
            "Location: https://mallet.cs.umass.edu/dist/mallet-2.0.8.zip [following]\n",
            "--2023-04-02 10:36:54--  https://mallet.cs.umass.edu/dist/mallet-2.0.8.zip\n",
            "Connecting to mallet.cs.umass.edu (mallet.cs.umass.edu)|128.119.246.70|:443... connected.\n",
            "HTTP request sent, awaiting response... 200 OK\n",
            "Length: 16184794 (15M) [application/zip]\n",
            "Saving to: ‘mallet-2.0.8.zip’\n",
            "\n",
            "mallet-2.0.8.zip    100%[===================>]  15.43M  63.0MB/s    in 0.2s    \n",
            "\n",
            "2023-04-02 10:36:55 (63.0 MB/s) - ‘mallet-2.0.8.zip’ saved [16184794/16184794]\n",
            "\n"
          ]
        }
      ]
    },
    {
      "cell_type": "code",
      "metadata": {
        "id": "s0J3x_IcVu8z"
      },
      "source": [
        "MALLET_PATH = 'mallet-2.0.8/bin/mallet'\n",
        "lda_mallet = gensim.models.wrappers.LdaMallet(mallet_path=MALLET_PATH, \n",
        "                                              corpus=bow_corpus, \n",
        "                                              num_topics=TOTAL_TOPICS, \n",
        "                                              id2word=dictionary,\n",
        "                                              iterations=500, \n",
        "                                              workers=4)"
      ],
      "execution_count": 35,
      "outputs": []
    },
    {
      "cell_type": "code",
      "metadata": {
        "colab": {
          "base_uri": "https://localhost:8080/"
        },
        "id": "HQcf70_0WHDc",
        "outputId": "01d8e4b1-c917-4245-d90f-07a99b9c0763"
      },
      "source": [
        "cv_coherence_model_lda_mallet = gensim.models.CoherenceModel(model=lda_mallet, \n",
        "                                                             corpus=bow_corpus, \n",
        "                                                             texts=norm_corpus_bigrams,\n",
        "                                                             dictionary=dictionary, \n",
        "                                                             coherence='c_v')\n",
        "avg_coherence_cv = cv_coherence_model_lda_mallet.get_coherence()\n",
        "\n",
        "umass_coherence_model_lda_mallet = gensim.models.CoherenceModel(model=lda_mallet, corpus=bow_corpus, \n",
        "                                                                texts=norm_corpus_bigrams,\n",
        "                                                                dictionary=dictionary,  \n",
        "                                                                coherence='u_mass')\n",
        "avg_coherence_umass = umass_coherence_model_lda_mallet.get_coherence()\n",
        "\n",
        "# from STDOUT: <500> LL/token: -8.52683\n",
        "perplexity = -8.52683\n",
        "print('Avg. Coherence Score (Cv):', avg_coherence_cv)\n",
        "print('Avg. Coherence Score (UMass):', avg_coherence_umass)\n",
        "print('Model Perplexity:', perplexity)"
      ],
      "execution_count": 36,
      "outputs": [
        {
          "output_type": "stream",
          "name": "stdout",
          "text": [
            "Avg. Coherence Score (Cv): 0.5312649567351002\n",
            "Avg. Coherence Score (UMass): -13.735411262857971\n",
            "Model Perplexity: -8.52683\n"
          ]
        }
      ]
    },
    {
      "cell_type": "markdown",
      "metadata": {
        "id": "FSL_0ICCMeYm"
      },
      "source": [
        "![](https://i.imgur.com/yAYrq59.png)"
      ]
    },
    {
      "cell_type": "markdown",
      "metadata": {
        "id": "wvn6Xx9N12cA"
      },
      "source": [
        "## LDA Tuning: Finding the optimal number of topics\n",
        "\n",
        "Finding the optimal number of topics in a topic model is tough, given that it is like a\n",
        "model hyperparameter that you always have to set before training the model. I\n",
        "use an iterative approach and build several models with differing numbers of topics and\n",
        "select the one that has the highest coherence score. "
      ]
    },
    {
      "cell_type": "code",
      "metadata": {
        "id": "OYeyeNmRWy4m"
      },
      "source": [
        "def topic_model_coherence_generator(corpus, texts, dictionary, \n",
        "                                    start_topic_count=2, end_topic_count=10, step=1,\n",
        "                                    cpus=1):\n",
        "    \n",
        "    models = []\n",
        "    coherence_scores = []\n",
        "    for topic_nums in tqdm.tqdm(range(start_topic_count, end_topic_count+1, step)):\n",
        "        mallet_lda_model = gensim.models.wrappers.LdaMallet(mallet_path=MALLET_PATH, \n",
        "                                                            corpus=corpus,\n",
        "                                                            num_topics=topic_nums, \n",
        "                                                            id2word=dictionary,\n",
        "                                                            iterations=500, \n",
        "                                                            workers=cpus)\n",
        "        cv_coherence_model_mallet_lda = gensim.models.CoherenceModel(model=mallet_lda_model, \n",
        "                                                                     corpus=corpus, \n",
        "                                                                     texts=texts, \n",
        "                                                                     dictionary=dictionary, \n",
        "                                                                     coherence='c_v')\n",
        "        coherence_score = cv_coherence_model_mallet_lda.get_coherence()\n",
        "        coherence_scores.append(coherence_score)\n",
        "        models.append(mallet_lda_model)\n",
        "    \n",
        "    return models, coherence_scores"
      ],
      "execution_count": 37,
      "outputs": []
    },
    {
      "cell_type": "code",
      "metadata": {
        "colab": {
          "base_uri": "https://localhost:8080/"
        },
        "id": "8vgKu5RCXHrv",
        "outputId": "f619ef35-259f-47e5-a460-44ca0c3b64da"
      },
      "source": [
        "lda_models, coherence_scores = topic_model_coherence_generator(corpus=bow_corpus, \n",
        "                                                               texts=norm_corpus_bigrams,\n",
        "                                                               dictionary=dictionary, \n",
        "                                                               start_topic_count=2,\n",
        "                                                               end_topic_count=30, \n",
        "                                                               step=1, \n",
        "                                                               cpus=4)"
      ],
      "execution_count": 38,
      "outputs": [
        {
          "output_type": "stream",
          "name": "stderr",
          "text": [
            "100%|██████████| 29/29 [08:15<00:00, 17.08s/it]\n"
          ]
        }
      ]
    },
    {
      "cell_type": "code",
      "metadata": {
        "colab": {
          "base_uri": "https://localhost:8080/",
          "height": 363
        },
        "id": "EeQIjHsOXPvY",
        "outputId": "433ac92f-1ebf-44e8-e441-1189371253ef"
      },
      "source": [
        "coherence_df = pd.DataFrame({'Number of Topics': range(2, 31, 1),\n",
        "                             'Coherence Score': np.round(coherence_scores, 4)})\n",
        "coherence_df.sort_values(by=['Coherence Score'], ascending=False).head(10)"
      ],
      "execution_count": 39,
      "outputs": [
        {
          "output_type": "execute_result",
          "data": {
            "text/plain": [
              "    Number of Topics  Coherence Score\n",
              "21                23           0.5682\n",
              "16                18           0.5557\n",
              "27                29           0.5551\n",
              "26                28           0.5545\n",
              "28                30           0.5534\n",
              "25                27           0.5519\n",
              "22                24           0.5513\n",
              "20                22           0.5493\n",
              "14                16           0.5466\n",
              "24                26           0.5457"
            ],
            "text/html": [
              "\n",
              "  <div id=\"df-fb53c34c-ab4a-44bc-adac-05765163a831\">\n",
              "    <div class=\"colab-df-container\">\n",
              "      <div>\n",
              "<style scoped>\n",
              "    .dataframe tbody tr th:only-of-type {\n",
              "        vertical-align: middle;\n",
              "    }\n",
              "\n",
              "    .dataframe tbody tr th {\n",
              "        vertical-align: top;\n",
              "    }\n",
              "\n",
              "    .dataframe thead th {\n",
              "        text-align: right;\n",
              "    }\n",
              "</style>\n",
              "<table border=\"1\" class=\"dataframe\">\n",
              "  <thead>\n",
              "    <tr style=\"text-align: right;\">\n",
              "      <th></th>\n",
              "      <th>Number of Topics</th>\n",
              "      <th>Coherence Score</th>\n",
              "    </tr>\n",
              "  </thead>\n",
              "  <tbody>\n",
              "    <tr>\n",
              "      <th>21</th>\n",
              "      <td>23</td>\n",
              "      <td>0.5682</td>\n",
              "    </tr>\n",
              "    <tr>\n",
              "      <th>16</th>\n",
              "      <td>18</td>\n",
              "      <td>0.5557</td>\n",
              "    </tr>\n",
              "    <tr>\n",
              "      <th>27</th>\n",
              "      <td>29</td>\n",
              "      <td>0.5551</td>\n",
              "    </tr>\n",
              "    <tr>\n",
              "      <th>26</th>\n",
              "      <td>28</td>\n",
              "      <td>0.5545</td>\n",
              "    </tr>\n",
              "    <tr>\n",
              "      <th>28</th>\n",
              "      <td>30</td>\n",
              "      <td>0.5534</td>\n",
              "    </tr>\n",
              "    <tr>\n",
              "      <th>25</th>\n",
              "      <td>27</td>\n",
              "      <td>0.5519</td>\n",
              "    </tr>\n",
              "    <tr>\n",
              "      <th>22</th>\n",
              "      <td>24</td>\n",
              "      <td>0.5513</td>\n",
              "    </tr>\n",
              "    <tr>\n",
              "      <th>20</th>\n",
              "      <td>22</td>\n",
              "      <td>0.5493</td>\n",
              "    </tr>\n",
              "    <tr>\n",
              "      <th>14</th>\n",
              "      <td>16</td>\n",
              "      <td>0.5466</td>\n",
              "    </tr>\n",
              "    <tr>\n",
              "      <th>24</th>\n",
              "      <td>26</td>\n",
              "      <td>0.5457</td>\n",
              "    </tr>\n",
              "  </tbody>\n",
              "</table>\n",
              "</div>\n",
              "      <button class=\"colab-df-convert\" onclick=\"convertToInteractive('df-fb53c34c-ab4a-44bc-adac-05765163a831')\"\n",
              "              title=\"Convert this dataframe to an interactive table.\"\n",
              "              style=\"display:none;\">\n",
              "        \n",
              "  <svg xmlns=\"http://www.w3.org/2000/svg\" height=\"24px\"viewBox=\"0 0 24 24\"\n",
              "       width=\"24px\">\n",
              "    <path d=\"M0 0h24v24H0V0z\" fill=\"none\"/>\n",
              "    <path d=\"M18.56 5.44l.94 2.06.94-2.06 2.06-.94-2.06-.94-.94-2.06-.94 2.06-2.06.94zm-11 1L8.5 8.5l.94-2.06 2.06-.94-2.06-.94L8.5 2.5l-.94 2.06-2.06.94zm10 10l.94 2.06.94-2.06 2.06-.94-2.06-.94-.94-2.06-.94 2.06-2.06.94z\"/><path d=\"M17.41 7.96l-1.37-1.37c-.4-.4-.92-.59-1.43-.59-.52 0-1.04.2-1.43.59L10.3 9.45l-7.72 7.72c-.78.78-.78 2.05 0 2.83L4 21.41c.39.39.9.59 1.41.59.51 0 1.02-.2 1.41-.59l7.78-7.78 2.81-2.81c.8-.78.8-2.07 0-2.86zM5.41 20L4 18.59l7.72-7.72 1.47 1.35L5.41 20z\"/>\n",
              "  </svg>\n",
              "      </button>\n",
              "      \n",
              "  <style>\n",
              "    .colab-df-container {\n",
              "      display:flex;\n",
              "      flex-wrap:wrap;\n",
              "      gap: 12px;\n",
              "    }\n",
              "\n",
              "    .colab-df-convert {\n",
              "      background-color: #E8F0FE;\n",
              "      border: none;\n",
              "      border-radius: 50%;\n",
              "      cursor: pointer;\n",
              "      display: none;\n",
              "      fill: #1967D2;\n",
              "      height: 32px;\n",
              "      padding: 0 0 0 0;\n",
              "      width: 32px;\n",
              "    }\n",
              "\n",
              "    .colab-df-convert:hover {\n",
              "      background-color: #E2EBFA;\n",
              "      box-shadow: 0px 1px 2px rgba(60, 64, 67, 0.3), 0px 1px 3px 1px rgba(60, 64, 67, 0.15);\n",
              "      fill: #174EA6;\n",
              "    }\n",
              "\n",
              "    [theme=dark] .colab-df-convert {\n",
              "      background-color: #3B4455;\n",
              "      fill: #D2E3FC;\n",
              "    }\n",
              "\n",
              "    [theme=dark] .colab-df-convert:hover {\n",
              "      background-color: #434B5C;\n",
              "      box-shadow: 0px 1px 3px 1px rgba(0, 0, 0, 0.15);\n",
              "      filter: drop-shadow(0px 1px 2px rgba(0, 0, 0, 0.3));\n",
              "      fill: #FFFFFF;\n",
              "    }\n",
              "  </style>\n",
              "\n",
              "      <script>\n",
              "        const buttonEl =\n",
              "          document.querySelector('#df-fb53c34c-ab4a-44bc-adac-05765163a831 button.colab-df-convert');\n",
              "        buttonEl.style.display =\n",
              "          google.colab.kernel.accessAllowed ? 'block' : 'none';\n",
              "\n",
              "        async function convertToInteractive(key) {\n",
              "          const element = document.querySelector('#df-fb53c34c-ab4a-44bc-adac-05765163a831');\n",
              "          const dataTable =\n",
              "            await google.colab.kernel.invokeFunction('convertToInteractive',\n",
              "                                                     [key], {});\n",
              "          if (!dataTable) return;\n",
              "\n",
              "          const docLinkHtml = 'Like what you see? Visit the ' +\n",
              "            '<a target=\"_blank\" href=https://colab.research.google.com/notebooks/data_table.ipynb>data table notebook</a>'\n",
              "            + ' to learn more about interactive tables.';\n",
              "          element.innerHTML = '';\n",
              "          dataTable['output_type'] = 'display_data';\n",
              "          await google.colab.output.renderOutput(dataTable, element);\n",
              "          const docLink = document.createElement('div');\n",
              "          docLink.innerHTML = docLinkHtml;\n",
              "          element.appendChild(docLink);\n",
              "        }\n",
              "      </script>\n",
              "    </div>\n",
              "  </div>\n",
              "  "
            ]
          },
          "metadata": {},
          "execution_count": 39
        }
      ]
    },
    {
      "cell_type": "code",
      "metadata": {
        "colab": {
          "base_uri": "https://localhost:8080/",
          "height": 575
        },
        "id": "UBSRO_VqYjif",
        "outputId": "22f783e1-419b-442f-d64b-1d260cd965a0"
      },
      "source": [
        "import matplotlib.pyplot as plt\n",
        "plt.style.use('fivethirtyeight')\n",
        "%matplotlib inline\n",
        "\n",
        "x_ax = range(2, 31, 1)\n",
        "y_ax = coherence_scores\n",
        "plt.figure(figsize=(12, 6))\n",
        "plt.plot(x_ax, y_ax, c='r')\n",
        "plt.axhline(y=0.5600, c='k', linestyle='--', linewidth=2)\n",
        "plt.rcParams['figure.facecolor'] = 'white'\n",
        "xl = plt.xlabel('Number of Topics')\n",
        "yl = plt.ylabel('Coherence Score')"
      ],
      "execution_count": 40,
      "outputs": [
        {
          "output_type": "display_data",
          "data": {
            "text/plain": [
              "<Figure size 1200x600 with 1 Axes>"
            ],
            "image/png": "[encoded data removed]"
          },
          "metadata": {}
        }
      ]
    },
    {
      "cell_type": "markdown",
      "metadata": {
        "id": "N7PlAhgx12cI"
      },
      "source": [
        "The above graph shows that the optical number of topics ranges in between 23 and 24 based on the coherence scoare. I choose the optimal number of topics as 23, accordingly. I can retrieve the best model as follow: "
      ]
    },
    {
      "cell_type": "code",
      "metadata": {
        "colab": {
          "base_uri": "https://localhost:8080/"
        },
        "id": "YtPwVFdrYlxO",
        "outputId": "34251425-3bb4-44da-a0f0-7b0bed217729"
      },
      "source": [
        "best_model_idx = coherence_df[coherence_df['Number of Topics'] == 23].index[0]\n",
        "best_lda_model = lda_models[best_model_idx]\n",
        "best_lda_model.num_topics"
      ],
      "execution_count": 41,
      "outputs": [
        {
          "output_type": "execute_result",
          "data": {
            "text/plain": [
              "23"
            ]
          },
          "metadata": {},
          "execution_count": 41
        }
      ]
    },
    {
      "cell_type": "code",
      "metadata": {
        "id": "krcnLTbWNCBY"
      },
      "source": [
        "best_lda_model = gensim.models.wrappers.LdaMallet(mallet_path=MALLET_PATH, \n",
        "                                                  corpus=bow_corpus, \n",
        "                                                  num_topics=23, \n",
        "                                                  id2word=dictionary,\n",
        "                                                  iterations=500, \n",
        "                                                  workers=4)"
      ],
      "execution_count": 43,
      "outputs": []
    },
    {
      "cell_type": "code",
      "metadata": {
        "colab": {
          "base_uri": "https://localhost:8080/"
        },
        "id": "F2O-Uyy5NsLW",
        "outputId": "191a41de-552c-4a58-d251-a5da2473bd6c"
      },
      "source": [
        "best_lda_model.num_topics"
      ],
      "execution_count": 44,
      "outputs": [
        {
          "output_type": "execute_result",
          "data": {
            "text/plain": [
              "23"
            ]
          },
          "metadata": {},
          "execution_count": 44
        }
      ]
    },
    {
      "cell_type": "code",
      "metadata": {
        "colab": {
          "base_uri": "https://localhost:8080/"
        },
        "id": "AKh2vVkMNvwT",
        "outputId": "390b0089-d39e-4975-d493-cff3e53db8bd"
      },
      "source": [
        "topics = [[(term, round(wt, 3)) \n",
        "               for term, wt in best_lda_model.show_topic(n, topn=23)] \n",
        "                   for n in range(0, best_lda_model.num_topics)]\n",
        "\n",
        "for idx, topic in enumerate(topics):\n",
        "    print('Topic #'+str(idx+1)+':')\n",
        "    print([term for term, wt in topic])\n",
        "    print()"
      ],
      "execution_count": 45,
      "outputs": [
        {
          "output_type": "stream",
          "name": "stdout",
          "text": [
            "Topic #1:\n",
            "['achievement', 'concept', 'academic', 'variable', 'pair', 'journal', 'cid', 'test', 'across', 'org', 'oller', 'analysis', 'educational', 'path', 'et_al', 'older', 'within', 'showed', 'pattern', 'wa', 'mz', 'study', 'fit']\n",
            "\n",
            "Topic #2:\n",
            "['twin', 'mirror_effect', 'pair', 'older', 'test', 'path', 'journal', 'fit', 'table', 'across', 'org', 'oller', 'analysis', 'study', 'educational', 'et_al', 'within', 'showed', 'pattern', 'wa', 'grade', 'cid', 'variable']\n",
            "\n",
            "Topic #3:\n",
            "['student', 'similar', 'comparison', 'table', 'internal', 'personality', 'oller', 'journal', 'path', 'org', 'across', 'analysis', 'study', 'et_al', 'variable', 'older', 'within', 'showed', 'pattern', 'wa', 'dz', 'educational', 'fit']\n",
            "\n",
            "Topic #4:\n",
            "['twin', 'mz', 'domain', 'test', 'cid', 'path', 'journal', 'fit', 'table', 'across', 'org', 'oller', 'analysis', 'study', 'educational', 'et_al', 'older', 'within', 'showed', 'pattern', 'wa', 'variable', 'dz']\n",
            "\n",
            "Topic #5:\n",
            "['et_al', 'variable', 'found', 'effect', 'individual', 'wa', 'path', 'journal', 'personality', 'pair', 'test', 'across', 'oller', 'org', 'study', 'cid', 'educational', 'older', 'within', 'showed', 'pattern', 'analysis', 'table']\n",
            "\n",
            "Topic #6:\n",
            "['twin', 'data', 'analysis', 'school', 'org', 'test', 'path', 'journal', 'fit', 'table', 'across', 'oller', 'educational', 'cid', 'et_al', 'older', 'within', 'showed', 'pattern', 'wa', 'mz', 'study', 'variable']\n",
            "\n",
            "Topic #7:\n",
            "['domain', 'data', 'contrast', 'mirror_effect', 'internal', 'dz', 'social', 'journal', 'cid', 'test', 'wa', 'org', 'oller', 'analysis', 'study', 'educational', 'et_al', 'older', 'within', 'showed', 'mz', 'table', 'path']\n",
            "\n",
            "Topic #8:\n",
            "['cid', 'wa', 'academic', 'found', 'individual', 'journal', 'org', 'fit', 'path', 'table', 'test', 'across', 'oller', 'analysis', 'educational', 'variable', 'et_al', 'older', 'within', 'showed', 'pattern', 'study', 'personality']\n",
            "\n",
            "Topic #9:\n",
            "['concept', 'academic', 'model', 'analysis', 'table', 'journal', 'cid', 'dz', 'across', 'org', 'oller', 'study', 'test', 'educational', 'et_al', 'older', 'within', 'showed', 'pattern', 'wa', 'grade', 'path', 'pair']\n",
            "\n",
            "Topic #10:\n",
            "['analysis', 'regression', 'difference', 'path', 'fit', 'dz', 'table', 'oller', 'journal', 'reported', 'pair', 'mathematics', 'study', 'older', 'et_al', 'cid', 'within', 'showed', 'pattern', 'wa', 'group', 'educational', 'variable']\n",
            "\n",
            "Topic #11:\n",
            "['model', 'sample', 'showed', 'pattern', 'student', 'path', 'journal', 'fit', 'table', 'test', 'across', 'oller', 'analysis', 'org', 'cid', 'educational', 'et_al', 'older', 'within', 'wa', 'dz', 'study', 'variable']\n",
            "\n",
            "Topic #12:\n",
            "['group', 'age', 'test', 'concept', 'path', 'journal', 'pair', 'table', 'dz', 'across', 'org', 'oller', 'analysis', 'study', 'educational', 'et_al', 'older', 'within', 'showed', 'pattern', 'wa', 'cid', 'variable']\n",
            "\n",
            "Topic #13:\n",
            "['comparison', 'process', 'oller', 'older', 'educational', 'org', 'cid', 'path', 'journal', 'fit', 'table', 'mathematics', 'study', 'variable', 'et_al', 'within', 'showed', 'pattern', 'wa', 'group', 'across', 'analysis', 'test']\n",
            "\n",
            "Topic #14:\n",
            "['mz', 'dz', 'mirror_effect', 'found', 'path', 'journal', 'pair', 'table', 'test', 'across', 'org', 'oller', 'analysis', 'study', 'educational', 'et_al', 'older', 'within', 'showed', 'pattern', 'wa', 'cid', 'variable']\n",
            "\n",
            "Topic #15:\n",
            "['german', 'grade', 'mathematics', 'similar', 'personality', 'variable', 'pair', 'path', 'analysis', 'study', 'educational', 'et_al', 'within', 'table', 'showed', 'pattern', 'wa', 'group', 'across', 'test', 'oller', 'older', 'regression']\n",
            "\n",
            "Topic #16:\n",
            "['mathematics', 'concept', 'academic', 'journal', 'effect', 'org', 'pair', 'path', 'variable', 'test', 'mz', 'oller', 'analysis', 'educational', 'cid', 'et_al', 'older', 'within', 'showed', 'pattern', 'wa', 'study', 'fit']\n",
            "\n",
            "Topic #17:\n",
            "['social', 'journal', 'study', 'personality', 'pattern', 'group', 'sample', 'org', 'cid', 'path', 'fit', 'pair', 'across', 'oller', 'et_al', 'educational', 'variable', 'older', 'within', 'showed', 'wa', 'analysis', 'table']\n",
            "\n",
            "Topic #18:\n",
            "['effect', 'individual', 'mirror_effect', 'fit', 'path', 'journal', 'personality', 'table', 'across', 'org', 'oller', 'analysis', 'test', 'study', 'educational', 'et_al', 'older', 'within', 'showed', 'pattern', 'wa', 'cid', 'variable']\n",
            "\n",
            "Topic #19:\n",
            "['dz', 'year_old', 'mz', 'sample', 'oller', 'path', 'journal', 'pair', 'table', 'org', 'mathematics', 'analysis', 'study', 'educational', 'et_al', 'older', 'within', 'showed', 'pattern', 'wa', 'group', 'cid', 'variable']\n",
            "\n",
            "Topic #20:\n",
            "['twin', 'achievement', 'effect', 'grade', 'org', 'within', 'path', 'journal', 'fit', 'table', 'across', 'dz', 'oller', 'wa', 'analysis', 'cid', 'study', 'educational', 'et_al', 'older', 'pattern', 'showed', 'variable']\n",
            "\n",
            "Topic #21:\n",
            "['grade', 'school', 'reported', 'comparison', 'process', 'student', 'psychology', 'oller', 'journal', 'path', 'org', 'group', 'analysis', 'educational', 'variable', 'et_al', 'older', 'within', 'showed', 'pattern', 'mz', 'study', 'pair']\n",
            "\n",
            "Topic #22:\n",
            "['research', 'marsh', 'study', 'educational', 'internal', 'twin', 'table', 'journal', 'cid', 'group', 'dz', 'test', 'org', 'analysis', 'path', 'et_al', 'older', 'within', 'showed', 'pattern', 'mz', 'oller', 'pair']\n",
            "\n",
            "Topic #23:\n",
            "['http_doi', 'org', 'psychology', 'similar', 'test', 'path', 'journal', 'pair', 'table', 'across', 'oller', 'analysis', 'study', 'educational', 'et_al', 'older', 'within', 'showed', 'pattern', 'wa', 'grade', 'cid', 'variable']\n",
            "\n"
          ]
        }
      ]
    },
    {
      "cell_type": "markdown",
      "metadata": {
        "id": "Mxtpl5Co12cL"
      },
      "source": [
        "## Viewing LDA Model topics"
      ]
    },
    {
      "cell_type": "code",
      "metadata": {
        "colab": {
          "base_uri": "https://localhost:8080/",
          "height": 864
        },
        "id": "K3yf_xhqN0tH",
        "outputId": "6741ad2a-54f3-4242-9495-51e4729fe823"
      },
      "source": [
        "topics_df = pd.DataFrame([[term for term, wt in topic] \n",
        "                              for topic in topics], \n",
        "                         columns = ['Term'+str(i) for i in range(1, 24)],\n",
        "                         index=['Topic '+str(t) for t in range(1, best_lda_model.num_topics+1)]).T\n",
        "topics_df"
      ],
      "execution_count": 47,
      "outputs": [
        {
          "output_type": "execute_result",
          "data": {
            "text/plain": [
              "            Topic 1        Topic 2      Topic 3      Topic 4      Topic 5  \\\n",
              "Term1   achievement           twin      student         twin        et_al   \n",
              "Term2       concept  mirror_effect      similar           mz     variable   \n",
              "Term3      academic           pair   comparison       domain        found   \n",
              "Term4      variable          older        table         test       effect   \n",
              "Term5          pair           test     internal          cid   individual   \n",
              "Term6       journal           path  personality         path           wa   \n",
              "Term7           cid        journal        oller      journal         path   \n",
              "Term8          test            fit      journal          fit      journal   \n",
              "Term9        across          table         path        table  personality   \n",
              "Term10          org         across          org       across         pair   \n",
              "Term11        oller            org       across          org         test   \n",
              "Term12     analysis          oller     analysis        oller       across   \n",
              "Term13  educational       analysis        study     analysis        oller   \n",
              "Term14         path          study        et_al        study          org   \n",
              "Term15        et_al    educational     variable  educational        study   \n",
              "Term16        older          et_al        older        et_al          cid   \n",
              "Term17       within         within       within        older  educational   \n",
              "Term18       showed         showed       showed       within        older   \n",
              "Term19      pattern        pattern      pattern       showed       within   \n",
              "Term20           wa             wa           wa      pattern       showed   \n",
              "Term21           mz          grade           dz           wa      pattern   \n",
              "Term22        study            cid  educational     variable     analysis   \n",
              "Term23          fit       variable          fit           dz        table   \n",
              "\n",
              "            Topic 6        Topic 7      Topic 8      Topic 9     Topic 10  \\\n",
              "Term1          twin         domain          cid      concept     analysis   \n",
              "Term2          data           data           wa     academic   regression   \n",
              "Term3      analysis       contrast     academic        model   difference   \n",
              "Term4        school  mirror_effect        found     analysis         path   \n",
              "Term5           org       internal   individual        table          fit   \n",
              "Term6          test             dz      journal      journal           dz   \n",
              "Term7          path         social          org          cid        table   \n",
              "Term8       journal        journal          fit           dz        oller   \n",
              "Term9           fit            cid         path       across      journal   \n",
              "Term10        table           test        table          org     reported   \n",
              "Term11       across             wa         test        oller         pair   \n",
              "Term12        oller            org       across        study  mathematics   \n",
              "Term13  educational          oller        oller         test        study   \n",
              "Term14          cid       analysis     analysis  educational        older   \n",
              "Term15        et_al          study  educational        et_al        et_al   \n",
              "Term16        older    educational     variable        older          cid   \n",
              "Term17       within          et_al        et_al       within       within   \n",
              "Term18       showed          older        older       showed       showed   \n",
              "Term19      pattern         within       within      pattern      pattern   \n",
              "Term20           wa         showed       showed           wa           wa   \n",
              "Term21           mz             mz      pattern        grade        group   \n",
              "Term22        study          table        study         path  educational   \n",
              "Term23     variable           path  personality         pair     variable   \n",
              "\n",
              "        ...       Topic 14     Topic 15     Topic 16     Topic 17  \\\n",
              "Term1   ...             mz       german  mathematics       social   \n",
              "Term2   ...             dz        grade      concept      journal   \n",
              "Term3   ...  mirror_effect  mathematics     academic        study   \n",
              "Term4   ...          found      similar      journal  personality   \n",
              "Term5   ...           path  personality       effect      pattern   \n",
              "Term6   ...        journal     variable          org        group   \n",
              "Term7   ...           pair         pair         pair       sample   \n",
              "Term8   ...          table         path         path          org   \n",
              "Term9   ...           test     analysis     variable          cid   \n",
              "Term10  ...         across        study         test         path   \n",
              "Term11  ...            org  educational           mz          fit   \n",
              "Term12  ...          oller        et_al        oller         pair   \n",
              "Term13  ...       analysis       within     analysis       across   \n",
              "Term14  ...          study        table  educational        oller   \n",
              "Term15  ...    educational       showed          cid        et_al   \n",
              "Term16  ...          et_al      pattern        et_al  educational   \n",
              "Term17  ...          older           wa        older     variable   \n",
              "Term18  ...         within        group       within        older   \n",
              "Term19  ...         showed       across       showed       within   \n",
              "Term20  ...        pattern         test      pattern       showed   \n",
              "Term21  ...             wa        oller           wa           wa   \n",
              "Term22  ...            cid        older        study     analysis   \n",
              "Term23  ...       variable   regression          fit        table   \n",
              "\n",
              "             Topic 18     Topic 19     Topic 20     Topic 21     Topic 22  \\\n",
              "Term1          effect           dz         twin        grade     research   \n",
              "Term2      individual     year_old  achievement       school        marsh   \n",
              "Term3   mirror_effect           mz       effect     reported        study   \n",
              "Term4             fit       sample        grade   comparison  educational   \n",
              "Term5            path        oller          org      process     internal   \n",
              "Term6         journal         path       within      student         twin   \n",
              "Term7     personality      journal         path   psychology        table   \n",
              "Term8           table         pair      journal        oller      journal   \n",
              "Term9          across        table          fit      journal          cid   \n",
              "Term10            org          org        table         path        group   \n",
              "Term11          oller  mathematics       across          org           dz   \n",
              "Term12       analysis     analysis           dz        group         test   \n",
              "Term13           test        study        oller     analysis          org   \n",
              "Term14          study  educational           wa  educational     analysis   \n",
              "Term15    educational        et_al     analysis     variable         path   \n",
              "Term16          et_al        older          cid        et_al        et_al   \n",
              "Term17          older       within        study        older        older   \n",
              "Term18         within       showed  educational       within       within   \n",
              "Term19         showed      pattern        et_al       showed       showed   \n",
              "Term20        pattern           wa        older      pattern      pattern   \n",
              "Term21             wa        group      pattern           mz           mz   \n",
              "Term22            cid          cid       showed        study        oller   \n",
              "Term23       variable     variable     variable         pair         pair   \n",
              "\n",
              "           Topic 23  \n",
              "Term1      http_doi  \n",
              "Term2           org  \n",
              "Term3    psychology  \n",
              "Term4       similar  \n",
              "Term5          test  \n",
              "Term6          path  \n",
              "Term7       journal  \n",
              "Term8          pair  \n",
              "Term9         table  \n",
              "Term10       across  \n",
              "Term11        oller  \n",
              "Term12     analysis  \n",
              "Term13        study  \n",
              "Term14  educational  \n",
              "Term15        et_al  \n",
              "Term16        older  \n",
              "Term17       within  \n",
              "Term18       showed  \n",
              "Term19      pattern  \n",
              "Term20           wa  \n",
              "Term21        grade  \n",
              "Term22          cid  \n",
              "Term23     variable  \n",
              "\n",
              "[23 rows x 23 columns]"
            ],
            "text/html": [
              "\n",
              "  <div id=\"df-f9cb91f4-87c7-4543-ad01-3eb731e66038\">\n",
              "    <div class=\"colab-df-container\">\n",
              "      <div>\n",
              "<style scoped>\n",
              "    .dataframe tbody tr th:only-of-type {\n",
              "        vertical-align: middle;\n",
              "    }\n",
              "\n",
              "    .dataframe tbody tr th {\n",
              "        vertical-align: top;\n",
              "    }\n",
              "\n",
              "    .dataframe thead th {\n",
              "        text-align: right;\n",
              "    }\n",
              "</style>\n",
              "<table border=\"1\" class=\"dataframe\">\n",
              "  <thead>\n",
              "    <tr style=\"text-align: right;\">\n",
              "      <th></th>\n",
              "      <th>Topic 1</th>\n",
              "      <th>Topic 2</th>\n",
              "      <th>Topic 3</th>\n",
              "      <th>Topic 4</th>\n",
              "      <th>Topic 5</th>\n",
              "      <th>Topic 6</th>\n",
              "      <th>Topic 7</th>\n",
              "      <th>Topic 8</th>\n",
              "      <th>Topic 9</th>\n",
              "      <th>Topic 10</th>\n",
              "      <th>...</th>\n",
              "      <th>Topic 14</th>\n",
              "      <th>Topic 15</th>\n",
              "      <th>Topic 16</th>\n",
              "      <th>Topic 17</th>\n",
              "      <th>Topic 18</th>\n",
              "      <th>Topic 19</th>\n",
              "      <th>Topic 20</th>\n",
              "      <th>Topic 21</th>\n",
              "      <th>Topic 22</th>\n",
              "      <th>Topic 23</th>\n",
              "    </tr>\n",
              "  </thead>\n",
              "  <tbody>\n",
              "    <tr>\n",
              "      <th>Term1</th>\n",
              "      <td>achievement</td>\n",
              "      <td>twin</td>\n",
              "      <td>student</td>\n",
              "      <td>twin</td>\n",
              "      <td>et_al</td>\n",
              "      <td>twin</td>\n",
              "      <td>domain</td>\n",
              "      <td>cid</td>\n",
              "      <td>concept</td>\n",
              "      <td>analysis</td>\n",
              "      <td>...</td>\n",
              "      <td>mz</td>\n",
              "      <td>german</td>\n",
              "      <td>mathematics</td>\n",
              "      <td>social</td>\n",
              "      <td>effect</td>\n",
              "      <td>dz</td>\n",
              "      <td>twin</td>\n",
              "      <td>grade</td>\n",
              "      <td>research</td>\n",
              "      <td>http_doi</td>\n",
              "    </tr>\n",
              "    <tr>\n",
              "      <th>Term2</th>\n",
              "      <td>concept</td>\n",
              "      <td>mirror_effect</td>\n",
              "      <td>similar</td>\n",
              "      <td>mz</td>\n",
              "      <td>variable</td>\n",
              "      <td>data</td>\n",
              "      <td>data</td>\n",
              "      <td>wa</td>\n",
              "      <td>academic</td>\n",
              "      <td>regression</td>\n",
              "      <td>...</td>\n",
              "      <td>dz</td>\n",
              "      <td>grade</td>\n",
              "      <td>concept</td>\n",
              "      <td>journal</td>\n",
              "      <td>individual</td>\n",
              "      <td>year_old</td>\n",
              "      <td>achievement</td>\n",
              "      <td>school</td>\n",
              "      <td>marsh</td>\n",
              "      <td>org</td>\n",
              "    </tr>\n",
              "    <tr>\n",
              "      <th>Term3</th>\n",
              "      <td>academic</td>\n",
              "      <td>pair</td>\n",
              "      <td>comparison</td>\n",
              "      <td>domain</td>\n",
              "      <td>found</td>\n",
              "      <td>analysis</td>\n",
              "      <td>contrast</td>\n",
              "      <td>academic</td>\n",
              "      <td>model</td>\n",
              "      <td>difference</td>\n",
              "      <td>...</td>\n",
              "      <td>mirror_effect</td>\n",
              "      <td>mathematics</td>\n",
              "      <td>academic</td>\n",
              "      <td>study</td>\n",
              "      <td>mirror_effect</td>\n",
              "      <td>mz</td>\n",
              "      <td>effect</td>\n",
              "      <td>reported</td>\n",
              "      <td>study</td>\n",
              "      <td>psychology</td>\n",
              "    </tr>\n",
              "    <tr>\n",
              "      <th>Term4</th>\n",
              "      <td>variable</td>\n",
              "      <td>older</td>\n",
              "      <td>table</td>\n",
              "      <td>test</td>\n",
              "      <td>effect</td>\n",
              "      <td>school</td>\n",
              "      <td>mirror_effect</td>\n",
              "      <td>found</td>\n",
              "      <td>analysis</td>\n",
              "      <td>path</td>\n",
              "      <td>...</td>\n",
              "      <td>found</td>\n",
              "      <td>similar</td>\n",
              "      <td>journal</td>\n",
              "      <td>personality</td>\n",
              "      <td>fit</td>\n",
              "      <td>sample</td>\n",
              "      <td>grade</td>\n",
              "      <td>comparison</td>\n",
              "      <td>educational</td>\n",
              "      <td>similar</td>\n",
              "    </tr>\n",
              "    <tr>\n",
              "      <th>Term5</th>\n",
              "      <td>pair</td>\n",
              "      <td>test</td>\n",
              "      <td>internal</td>\n",
              "      <td>cid</td>\n",
              "      <td>individual</td>\n",
              "      <td>org</td>\n",
              "      <td>internal</td>\n",
              "      <td>individual</td>\n",
              "      <td>table</td>\n",
              "      <td>fit</td>\n",
              "      <td>...</td>\n",
              "      <td>path</td>\n",
              "      <td>personality</td>\n",
              "      <td>effect</td>\n",
              "      <td>pattern</td>\n",
              "      <td>path</td>\n",
              "      <td>oller</td>\n",
              "      <td>org</td>\n",
              "      <td>process</td>\n",
              "      <td>internal</td>\n",
              "      <td>test</td>\n",
              "    </tr>\n",
              "    <tr>\n",
              "      <th>Term6</th>\n",
              "      <td>journal</td>\n",
              "      <td>path</td>\n",
              "      <td>personality</td>\n",
              "      <td>path</td>\n",
              "      <td>wa</td>\n",
              "      <td>test</td>\n",
              "      <td>dz</td>\n",
              "      <td>journal</td>\n",
              "      <td>journal</td>\n",
              "      <td>dz</td>\n",
              "      <td>...</td>\n",
              "      <td>journal</td>\n",
              "      <td>variable</td>\n",
              "      <td>org</td>\n",
              "      <td>group</td>\n",
              "      <td>journal</td>\n",
              "      <td>path</td>\n",
              "      <td>within</td>\n",
              "      <td>student</td>\n",
              "      <td>twin</td>\n",
              "      <td>path</td>\n",
              "    </tr>\n",
              "    <tr>\n",
              "      <th>Term7</th>\n",
              "      <td>cid</td>\n",
              "      <td>journal</td>\n",
              "      <td>oller</td>\n",
              "      <td>journal</td>\n",
              "      <td>path</td>\n",
              "      <td>path</td>\n",
              "      <td>social</td>\n",
              "      <td>org</td>\n",
              "      <td>cid</td>\n",
              "      <td>table</td>\n",
              "      <td>...</td>\n",
              "      <td>pair</td>\n",
              "      <td>pair</td>\n",
              "      <td>pair</td>\n",
              "      <td>sample</td>\n",
              "      <td>personality</td>\n",
              "      <td>journal</td>\n",
              "      <td>path</td>\n",
              "      <td>psychology</td>\n",
              "      <td>table</td>\n",
              "      <td>journal</td>\n",
              "    </tr>\n",
              "    <tr>\n",
              "      <th>Term8</th>\n",
              "      <td>test</td>\n",
              "      <td>fit</td>\n",
              "      <td>journal</td>\n",
              "      <td>fit</td>\n",
              "      <td>journal</td>\n",
              "      <td>journal</td>\n",
              "      <td>journal</td>\n",
              "      <td>fit</td>\n",
              "      <td>dz</td>\n",
              "      <td>oller</td>\n",
              "      <td>...</td>\n",
              "      <td>table</td>\n",
              "      <td>path</td>\n",
              "      <td>path</td>\n",
              "      <td>org</td>\n",
              "      <td>table</td>\n",
              "      <td>pair</td>\n",
              "      <td>journal</td>\n",
              "      <td>oller</td>\n",
              "      <td>journal</td>\n",
              "      <td>pair</td>\n",
              "    </tr>\n",
              "    <tr>\n",
              "      <th>Term9</th>\n",
              "      <td>across</td>\n",
              "      <td>table</td>\n",
              "      <td>path</td>\n",
              "      <td>table</td>\n",
              "      <td>personality</td>\n",
              "      <td>fit</td>\n",
              "      <td>cid</td>\n",
              "      <td>path</td>\n",
              "      <td>across</td>\n",
              "      <td>journal</td>\n",
              "      <td>...</td>\n",
              "      <td>test</td>\n",
              "      <td>analysis</td>\n",
              "      <td>variable</td>\n",
              "      <td>cid</td>\n",
              "      <td>across</td>\n",
              "      <td>table</td>\n",
              "      <td>fit</td>\n",
              "      <td>journal</td>\n",
              "      <td>cid</td>\n",
              "      <td>table</td>\n",
              "    </tr>\n",
              "    <tr>\n",
              "      <th>Term10</th>\n",
              "      <td>org</td>\n",
              "      <td>across</td>\n",
              "      <td>org</td>\n",
              "      <td>across</td>\n",
              "      <td>pair</td>\n",
              "      <td>table</td>\n",
              "      <td>test</td>\n",
              "      <td>table</td>\n",
              "      <td>org</td>\n",
              "      <td>reported</td>\n",
              "      <td>...</td>\n",
              "      <td>across</td>\n",
              "      <td>study</td>\n",
              "      <td>test</td>\n",
              "      <td>path</td>\n",
              "      <td>org</td>\n",
              "      <td>org</td>\n",
              "      <td>table</td>\n",
              "      <td>path</td>\n",
              "      <td>group</td>\n",
              "      <td>across</td>\n",
              "    </tr>\n",
              "    <tr>\n",
              "      <th>Term11</th>\n",
              "      <td>oller</td>\n",
              "      <td>org</td>\n",
              "      <td>across</td>\n",
              "      <td>org</td>\n",
              "      <td>test</td>\n",
              "      <td>across</td>\n",
              "      <td>wa</td>\n",
              "      <td>test</td>\n",
              "      <td>oller</td>\n",
              "      <td>pair</td>\n",
              "      <td>...</td>\n",
              "      <td>org</td>\n",
              "      <td>educational</td>\n",
              "      <td>mz</td>\n",
              "      <td>fit</td>\n",
              "      <td>oller</td>\n",
              "      <td>mathematics</td>\n",
              "      <td>across</td>\n",
              "      <td>org</td>\n",
              "      <td>dz</td>\n",
              "      <td>oller</td>\n",
              "    </tr>\n",
              "    <tr>\n",
              "      <th>Term12</th>\n",
              "      <td>analysis</td>\n",
              "      <td>oller</td>\n",
              "      <td>analysis</td>\n",
              "      <td>oller</td>\n",
              "      <td>across</td>\n",
              "      <td>oller</td>\n",
              "      <td>org</td>\n",
              "      <td>across</td>\n",
              "      <td>study</td>\n",
              "      <td>mathematics</td>\n",
              "      <td>...</td>\n",
              "      <td>oller</td>\n",
              "      <td>et_al</td>\n",
              "      <td>oller</td>\n",
              "      <td>pair</td>\n",
              "      <td>analysis</td>\n",
              "      <td>analysis</td>\n",
              "      <td>dz</td>\n",
              "      <td>group</td>\n",
              "      <td>test</td>\n",
              "      <td>analysis</td>\n",
              "    </tr>\n",
              "    <tr>\n",
              "      <th>Term13</th>\n",
              "      <td>educational</td>\n",
              "      <td>analysis</td>\n",
              "      <td>study</td>\n",
              "      <td>analysis</td>\n",
              "      <td>oller</td>\n",
              "      <td>educational</td>\n",
              "      <td>oller</td>\n",
              "      <td>oller</td>\n",
              "      <td>test</td>\n",
              "      <td>study</td>\n",
              "      <td>...</td>\n",
              "      <td>analysis</td>\n",
              "      <td>within</td>\n",
              "      <td>analysis</td>\n",
              "      <td>across</td>\n",
              "      <td>test</td>\n",
              "      <td>study</td>\n",
              "      <td>oller</td>\n",
              "      <td>analysis</td>\n",
              "      <td>org</td>\n",
              "      <td>study</td>\n",
              "    </tr>\n",
              "    <tr>\n",
              "      <th>Term14</th>\n",
              "      <td>path</td>\n",
              "      <td>study</td>\n",
              "      <td>et_al</td>\n",
              "      <td>study</td>\n",
              "      <td>org</td>\n",
              "      <td>cid</td>\n",
              "      <td>analysis</td>\n",
              "      <td>analysis</td>\n",
              "      <td>educational</td>\n",
              "      <td>older</td>\n",
              "      <td>...</td>\n",
              "      <td>study</td>\n",
              "      <td>table</td>\n",
              "      <td>educational</td>\n",
              "      <td>oller</td>\n",
              "      <td>study</td>\n",
              "      <td>educational</td>\n",
              "      <td>wa</td>\n",
              "      <td>educational</td>\n",
              "      <td>analysis</td>\n",
              "      <td>educational</td>\n",
              "    </tr>\n",
              "    <tr>\n",
              "      <th>Term15</th>\n",
              "      <td>et_al</td>\n",
              "      <td>educational</td>\n",
              "      <td>variable</td>\n",
              "      <td>educational</td>\n",
              "      <td>study</td>\n",
              "      <td>et_al</td>\n",
              "      <td>study</td>\n",
              "      <td>educational</td>\n",
              "      <td>et_al</td>\n",
              "      <td>et_al</td>\n",
              "      <td>...</td>\n",
              "      <td>educational</td>\n",
              "      <td>showed</td>\n",
              "      <td>cid</td>\n",
              "      <td>et_al</td>\n",
              "      <td>educational</td>\n",
              "      <td>et_al</td>\n",
              "      <td>analysis</td>\n",
              "      <td>variable</td>\n",
              "      <td>path</td>\n",
              "      <td>et_al</td>\n",
              "    </tr>\n",
              "    <tr>\n",
              "      <th>Term16</th>\n",
              "      <td>older</td>\n",
              "      <td>et_al</td>\n",
              "      <td>older</td>\n",
              "      <td>et_al</td>\n",
              "      <td>cid</td>\n",
              "      <td>older</td>\n",
              "      <td>educational</td>\n",
              "      <td>variable</td>\n",
              "      <td>older</td>\n",
              "      <td>cid</td>\n",
              "      <td>...</td>\n",
              "      <td>et_al</td>\n",
              "      <td>pattern</td>\n",
              "      <td>et_al</td>\n",
              "      <td>educational</td>\n",
              "      <td>et_al</td>\n",
              "      <td>older</td>\n",
              "      <td>cid</td>\n",
              "      <td>et_al</td>\n",
              "      <td>et_al</td>\n",
              "      <td>older</td>\n",
              "    </tr>\n",
              "    <tr>\n",
              "      <th>Term17</th>\n",
              "      <td>within</td>\n",
              "      <td>within</td>\n",
              "      <td>within</td>\n",
              "      <td>older</td>\n",
              "      <td>educational</td>\n",
              "      <td>within</td>\n",
              "      <td>et_al</td>\n",
              "      <td>et_al</td>\n",
              "      <td>within</td>\n",
              "      <td>within</td>\n",
              "      <td>...</td>\n",
              "      <td>older</td>\n",
              "      <td>wa</td>\n",
              "      <td>older</td>\n",
              "      <td>variable</td>\n",
              "      <td>older</td>\n",
              "      <td>within</td>\n",
              "      <td>study</td>\n",
              "      <td>older</td>\n",
              "      <td>older</td>\n",
              "      <td>within</td>\n",
              "    </tr>\n",
              "    <tr>\n",
              "      <th>Term18</th>\n",
              "      <td>showed</td>\n",
              "      <td>showed</td>\n",
              "      <td>showed</td>\n",
              "      <td>within</td>\n",
              "      <td>older</td>\n",
              "      <td>showed</td>\n",
              "      <td>older</td>\n",
              "      <td>older</td>\n",
              "      <td>showed</td>\n",
              "      <td>showed</td>\n",
              "      <td>...</td>\n",
              "      <td>within</td>\n",
              "      <td>group</td>\n",
              "      <td>within</td>\n",
              "      <td>older</td>\n",
              "      <td>within</td>\n",
              "      <td>showed</td>\n",
              "      <td>educational</td>\n",
              "      <td>within</td>\n",
              "      <td>within</td>\n",
              "      <td>showed</td>\n",
              "    </tr>\n",
              "    <tr>\n",
              "      <th>Term19</th>\n",
              "      <td>pattern</td>\n",
              "      <td>pattern</td>\n",
              "      <td>pattern</td>\n",
              "      <td>showed</td>\n",
              "      <td>within</td>\n",
              "      <td>pattern</td>\n",
              "      <td>within</td>\n",
              "      <td>within</td>\n",
              "      <td>pattern</td>\n",
              "      <td>pattern</td>\n",
              "      <td>...</td>\n",
              "      <td>showed</td>\n",
              "      <td>across</td>\n",
              "      <td>showed</td>\n",
              "      <td>within</td>\n",
              "      <td>showed</td>\n",
              "      <td>pattern</td>\n",
              "      <td>et_al</td>\n",
              "      <td>showed</td>\n",
              "      <td>showed</td>\n",
              "      <td>pattern</td>\n",
              "    </tr>\n",
              "    <tr>\n",
              "      <th>Term20</th>\n",
              "      <td>wa</td>\n",
              "      <td>wa</td>\n",
              "      <td>wa</td>\n",
              "      <td>pattern</td>\n",
              "      <td>showed</td>\n",
              "      <td>wa</td>\n",
              "      <td>showed</td>\n",
              "      <td>showed</td>\n",
              "      <td>wa</td>\n",
              "      <td>wa</td>\n",
              "      <td>...</td>\n",
              "      <td>pattern</td>\n",
              "      <td>test</td>\n",
              "      <td>pattern</td>\n",
              "      <td>showed</td>\n",
              "      <td>pattern</td>\n",
              "      <td>wa</td>\n",
              "      <td>older</td>\n",
              "      <td>pattern</td>\n",
              "      <td>pattern</td>\n",
              "      <td>wa</td>\n",
              "    </tr>\n",
              "    <tr>\n",
              "      <th>Term21</th>\n",
              "      <td>mz</td>\n",
              "      <td>grade</td>\n",
              "      <td>dz</td>\n",
              "      <td>wa</td>\n",
              "      <td>pattern</td>\n",
              "      <td>mz</td>\n",
              "      <td>mz</td>\n",
              "      <td>pattern</td>\n",
              "      <td>grade</td>\n",
              "      <td>group</td>\n",
              "      <td>...</td>\n",
              "      <td>wa</td>\n",
              "      <td>oller</td>\n",
              "      <td>wa</td>\n",
              "      <td>wa</td>\n",
              "      <td>wa</td>\n",
              "      <td>group</td>\n",
              "      <td>pattern</td>\n",
              "      <td>mz</td>\n",
              "      <td>mz</td>\n",
              "      <td>grade</td>\n",
              "    </tr>\n",
              "    <tr>\n",
              "      <th>Term22</th>\n",
              "      <td>study</td>\n",
              "      <td>cid</td>\n",
              "      <td>educational</td>\n",
              "      <td>variable</td>\n",
              "      <td>analysis</td>\n",
              "      <td>study</td>\n",
              "      <td>table</td>\n",
              "      <td>study</td>\n",
              "      <td>path</td>\n",
              "      <td>educational</td>\n",
              "      <td>...</td>\n",
              "      <td>cid</td>\n",
              "      <td>older</td>\n",
              "      <td>study</td>\n",
              "      <td>analysis</td>\n",
              "      <td>cid</td>\n",
              "      <td>cid</td>\n",
              "      <td>showed</td>\n",
              "      <td>study</td>\n",
              "      <td>oller</td>\n",
              "      <td>cid</td>\n",
              "    </tr>\n",
              "    <tr>\n",
              "      <th>Term23</th>\n",
              "      <td>fit</td>\n",
              "      <td>variable</td>\n",
              "      <td>fit</td>\n",
              "      <td>dz</td>\n",
              "      <td>table</td>\n",
              "      <td>variable</td>\n",
              "      <td>path</td>\n",
              "      <td>personality</td>\n",
              "      <td>pair</td>\n",
              "      <td>variable</td>\n",
              "      <td>...</td>\n",
              "      <td>variable</td>\n",
              "      <td>regression</td>\n",
              "      <td>fit</td>\n",
              "      <td>table</td>\n",
              "      <td>variable</td>\n",
              "      <td>variable</td>\n",
              "      <td>variable</td>\n",
              "      <td>pair</td>\n",
              "      <td>pair</td>\n",
              "      <td>variable</td>\n",
              "    </tr>\n",
              "  </tbody>\n",
              "</table>\n",
              "<p>23 rows × 23 columns</p>\n",
              "</div>\n",
              "      <button class=\"colab-df-convert\" onclick=\"convertToInteractive('df-f9cb91f4-87c7-4543-ad01-3eb731e66038')\"\n",
              "              title=\"Convert this dataframe to an interactive table.\"\n",
              "              style=\"display:none;\">\n",
              "        \n",
              "  <svg xmlns=\"http://www.w3.org/2000/svg\" height=\"24px\"viewBox=\"0 0 24 24\"\n",
              "       width=\"24px\">\n",
              "    <path d=\"M0 0h24v24H0V0z\" fill=\"none\"/>\n",
              "    <path d=\"M18.56 5.44l.94 2.06.94-2.06 2.06-.94-2.06-.94-.94-2.06-.94 2.06-2.06.94zm-11 1L8.5 8.5l.94-2.06 2.06-.94-2.06-.94L8.5 2.5l-.94 2.06-2.06.94zm10 10l.94 2.06.94-2.06 2.06-.94-2.06-.94-.94-2.06-.94 2.06-2.06.94z\"/><path d=\"M17.41 7.96l-1.37-1.37c-.4-.4-.92-.59-1.43-.59-.52 0-1.04.2-1.43.59L10.3 9.45l-7.72 7.72c-.78.78-.78 2.05 0 2.83L4 21.41c.39.39.9.59 1.41.59.51 0 1.02-.2 1.41-.59l7.78-7.78 2.81-2.81c.8-.78.8-2.07 0-2.86zM5.41 20L4 18.59l7.72-7.72 1.47 1.35L5.41 20z\"/>\n",
              "  </svg>\n",
              "      </button>\n",
              "      \n",
              "  <style>\n",
              "    .colab-df-container {\n",
              "      display:flex;\n",
              "      flex-wrap:wrap;\n",
              "      gap: 12px;\n",
              "    }\n",
              "\n",
              "    .colab-df-convert {\n",
              "      background-color: #E8F0FE;\n",
              "      border: none;\n",
              "      border-radius: 50%;\n",
              "      cursor: pointer;\n",
              "      display: none;\n",
              "      fill: #1967D2;\n",
              "      height: 32px;\n",
              "      padding: 0 0 0 0;\n",
              "      width: 32px;\n",
              "    }\n",
              "\n",
              "    .colab-df-convert:hover {\n",
              "      background-color: #E2EBFA;\n",
              "      box-shadow: 0px 1px 2px rgba(60, 64, 67, 0.3), 0px 1px 3px 1px rgba(60, 64, 67, 0.15);\n",
              "      fill: #174EA6;\n",
              "    }\n",
              "\n",
              "    [theme=dark] .colab-df-convert {\n",
              "      background-color: #3B4455;\n",
              "      fill: #D2E3FC;\n",
              "    }\n",
              "\n",
              "    [theme=dark] .colab-df-convert:hover {\n",
              "      background-color: #434B5C;\n",
              "      box-shadow: 0px 1px 3px 1px rgba(0, 0, 0, 0.15);\n",
              "      filter: drop-shadow(0px 1px 2px rgba(0, 0, 0, 0.3));\n",
              "      fill: #FFFFFF;\n",
              "    }\n",
              "  </style>\n",
              "\n",
              "      <script>\n",
              "        const buttonEl =\n",
              "          document.querySelector('#df-f9cb91f4-87c7-4543-ad01-3eb731e66038 button.colab-df-convert');\n",
              "        buttonEl.style.display =\n",
              "          google.colab.kernel.accessAllowed ? 'block' : 'none';\n",
              "\n",
              "        async function convertToInteractive(key) {\n",
              "          const element = document.querySelector('#df-f9cb91f4-87c7-4543-ad01-3eb731e66038');\n",
              "          const dataTable =\n",
              "            await google.colab.kernel.invokeFunction('convertToInteractive',\n",
              "                                                     [key], {});\n",
              "          if (!dataTable) return;\n",
              "\n",
              "          const docLinkHtml = 'Like what you see? Visit the ' +\n",
              "            '<a target=\"_blank\" href=https://colab.research.google.com/notebooks/data_table.ipynb>data table notebook</a>'\n",
              "            + ' to learn more about interactive tables.';\n",
              "          element.innerHTML = '';\n",
              "          dataTable['output_type'] = 'display_data';\n",
              "          await google.colab.output.renderOutput(dataTable, element);\n",
              "          const docLink = document.createElement('div');\n",
              "          docLink.innerHTML = docLinkHtml;\n",
              "          element.appendChild(docLink);\n",
              "        }\n",
              "      </script>\n",
              "    </div>\n",
              "  </div>\n",
              "  "
            ]
          },
          "metadata": {},
          "execution_count": 47
        }
      ]
    },
    {
      "cell_type": "code",
      "metadata": {
        "colab": {
          "base_uri": "https://localhost:8080/",
          "height": 825
        },
        "id": "MvyOKlu4p7UG",
        "outputId": "3b2d5d4f-3059-46d5-b377-d95dfc39b2df"
      },
      "source": [
        "pd.set_option('display.max_colwidth', -1)\n",
        "topics_df = pd.DataFrame([', '.join([term for term, wt in topic])  \n",
        "                              for topic in topics],\n",
        "                         columns = ['Terms per Topic'],\n",
        "                         index=['Topic'+str(t) for t in range(1, best_lda_model.num_topics+1)]\n",
        "                         )\n",
        "topics_df"
      ],
      "execution_count": 48,
      "outputs": [
        {
          "output_type": "stream",
          "name": "stderr",
          "text": [
            "<ipython-input-48-8a50780ba5c5>:1: FutureWarning: Passing a negative integer is deprecated in version 1.0 and will not be supported in future version. Instead, use None to not limit the column width.\n",
            "  pd.set_option('display.max_colwidth', -1)\n"
          ]
        },
        {
          "output_type": "execute_result",
          "data": {
            "text/plain": [
              "                                                                                                                                                                                        Terms per Topic\n",
              "Topic1   achievement, concept, academic, variable, pair, journal, cid, test, across, org, oller, analysis, educational, path, et_al, older, within, showed, pattern, wa, mz, study, fit                \n",
              "Topic2   twin, mirror_effect, pair, older, test, path, journal, fit, table, across, org, oller, analysis, study, educational, et_al, within, showed, pattern, wa, grade, cid, variable                 \n",
              "Topic3   student, similar, comparison, table, internal, personality, oller, journal, path, org, across, analysis, study, et_al, variable, older, within, showed, pattern, wa, dz, educational, fit     \n",
              "Topic4   twin, mz, domain, test, cid, path, journal, fit, table, across, org, oller, analysis, study, educational, et_al, older, within, showed, pattern, wa, variable, dz                             \n",
              "Topic5   et_al, variable, found, effect, individual, wa, path, journal, personality, pair, test, across, oller, org, study, cid, educational, older, within, showed, pattern, analysis, table          \n",
              "Topic6   twin, data, analysis, school, org, test, path, journal, fit, table, across, oller, educational, cid, et_al, older, within, showed, pattern, wa, mz, study, variable                           \n",
              "Topic7   domain, data, contrast, mirror_effect, internal, dz, social, journal, cid, test, wa, org, oller, analysis, study, educational, et_al, older, within, showed, mz, table, path                  \n",
              "Topic8   cid, wa, academic, found, individual, journal, org, fit, path, table, test, across, oller, analysis, educational, variable, et_al, older, within, showed, pattern, study, personality         \n",
              "Topic9   concept, academic, model, analysis, table, journal, cid, dz, across, org, oller, study, test, educational, et_al, older, within, showed, pattern, wa, grade, path, pair                       \n",
              "Topic10  analysis, regression, difference, path, fit, dz, table, oller, journal, reported, pair, mathematics, study, older, et_al, cid, within, showed, pattern, wa, group, educational, variable      \n",
              "Topic11  model, sample, showed, pattern, student, path, journal, fit, table, test, across, oller, analysis, org, cid, educational, et_al, older, within, wa, dz, study, variable                       \n",
              "Topic12  group, age, test, concept, path, journal, pair, table, dz, across, org, oller, analysis, study, educational, et_al, older, within, showed, pattern, wa, cid, variable                         \n",
              "Topic13  comparison, process, oller, older, educational, org, cid, path, journal, fit, table, mathematics, study, variable, et_al, within, showed, pattern, wa, group, across, analysis, test          \n",
              "Topic14  mz, dz, mirror_effect, found, path, journal, pair, table, test, across, org, oller, analysis, study, educational, et_al, older, within, showed, pattern, wa, cid, variable                    \n",
              "Topic15  german, grade, mathematics, similar, personality, variable, pair, path, analysis, study, educational, et_al, within, table, showed, pattern, wa, group, across, test, oller, older, regression\n",
              "Topic16  mathematics, concept, academic, journal, effect, org, pair, path, variable, test, mz, oller, analysis, educational, cid, et_al, older, within, showed, pattern, wa, study, fit                \n",
              "Topic17  social, journal, study, personality, pattern, group, sample, org, cid, path, fit, pair, across, oller, et_al, educational, variable, older, within, showed, wa, analysis, table               \n",
              "Topic18  effect, individual, mirror_effect, fit, path, journal, personality, table, across, org, oller, analysis, test, study, educational, et_al, older, within, showed, pattern, wa, cid, variable   \n",
              "Topic19  dz, year_old, mz, sample, oller, path, journal, pair, table, org, mathematics, analysis, study, educational, et_al, older, within, showed, pattern, wa, group, cid, variable                  \n",
              "Topic20  twin, achievement, effect, grade, org, within, path, journal, fit, table, across, dz, oller, wa, analysis, cid, study, educational, et_al, older, pattern, showed, variable                   \n",
              "Topic21  grade, school, reported, comparison, process, student, psychology, oller, journal, path, org, group, analysis, educational, variable, et_al, older, within, showed, pattern, mz, study, pair  \n",
              "Topic22  research, marsh, study, educational, internal, twin, table, journal, cid, group, dz, test, org, analysis, path, et_al, older, within, showed, pattern, mz, oller, pair                        \n",
              "Topic23  http_doi, org, psychology, similar, test, path, journal, pair, table, across, oller, analysis, study, educational, et_al, older, within, showed, pattern, wa, grade, cid, variable            "
            ],
            "text/html": [
              "\n",
              "  <div id=\"df-ca8f1745-4d26-4830-85cf-0afc38c8db2c\">\n",
              "    <div class=\"colab-df-container\">\n",
              "      <div>\n",
              "<style scoped>\n",
              "    .dataframe tbody tr th:only-of-type {\n",
              "        vertical-align: middle;\n",
              "    }\n",
              "\n",
              "    .dataframe tbody tr th {\n",
              "        vertical-align: top;\n",
              "    }\n",
              "\n",
              "    .dataframe thead th {\n",
              "        text-align: right;\n",
              "    }\n",
              "</style>\n",
              "<table border=\"1\" class=\"dataframe\">\n",
              "  <thead>\n",
              "    <tr style=\"text-align: right;\">\n",
              "      <th></th>\n",
              "      <th>Terms per Topic</th>\n",
              "    </tr>\n",
              "  </thead>\n",
              "  <tbody>\n",
              "    <tr>\n",
              "      <th>Topic1</th>\n",
              "      <td>achievement, concept, academic, variable, pair, journal, cid, test, across, org, oller, analysis, educational, path, et_al, older, within, showed, pattern, wa, mz, study, fit</td>\n",
              "    </tr>\n",
              "    <tr>\n",
              "      <th>Topic2</th>\n",
              "      <td>twin, mirror_effect, pair, older, test, path, journal, fit, table, across, org, oller, analysis, study, educational, et_al, within, showed, pattern, wa, grade, cid, variable</td>\n",
              "    </tr>\n",
              "    <tr>\n",
              "      <th>Topic3</th>\n",
              "      <td>student, similar, comparison, table, internal, personality, oller, journal, path, org, across, analysis, study, et_al, variable, older, within, showed, pattern, wa, dz, educational, fit</td>\n",
              "    </tr>\n",
              "    <tr>\n",
              "      <th>Topic4</th>\n",
              "      <td>twin, mz, domain, test, cid, path, journal, fit, table, across, org, oller, analysis, study, educational, et_al, older, within, showed, pattern, wa, variable, dz</td>\n",
              "    </tr>\n",
              "    <tr>\n",
              "      <th>Topic5</th>\n",
              "      <td>et_al, variable, found, effect, individual, wa, path, journal, personality, pair, test, across, oller, org, study, cid, educational, older, within, showed, pattern, analysis, table</td>\n",
              "    </tr>\n",
              "    <tr>\n",
              "      <th>Topic6</th>\n",
              "      <td>twin, data, analysis, school, org, test, path, journal, fit, table, across, oller, educational, cid, et_al, older, within, showed, pattern, wa, mz, study, variable</td>\n",
              "    </tr>\n",
              "    <tr>\n",
              "      <th>Topic7</th>\n",
              "      <td>domain, data, contrast, mirror_effect, internal, dz, social, journal, cid, test, wa, org, oller, analysis, study, educational, et_al, older, within, showed, mz, table, path</td>\n",
              "    </tr>\n",
              "    <tr>\n",
              "      <th>Topic8</th>\n",
              "      <td>cid, wa, academic, found, individual, journal, org, fit, path, table, test, across, oller, analysis, educational, variable, et_al, older, within, showed, pattern, study, personality</td>\n",
              "    </tr>\n",
              "    <tr>\n",
              "      <th>Topic9</th>\n",
              "      <td>concept, academic, model, analysis, table, journal, cid, dz, across, org, oller, study, test, educational, et_al, older, within, showed, pattern, wa, grade, path, pair</td>\n",
              "    </tr>\n",
              "    <tr>\n",
              "      <th>Topic10</th>\n",
              "      <td>analysis, regression, difference, path, fit, dz, table, oller, journal, reported, pair, mathematics, study, older, et_al, cid, within, showed, pattern, wa, group, educational, variable</td>\n",
              "    </tr>\n",
              "    <tr>\n",
              "      <th>Topic11</th>\n",
              "      <td>model, sample, showed, pattern, student, path, journal, fit, table, test, across, oller, analysis, org, cid, educational, et_al, older, within, wa, dz, study, variable</td>\n",
              "    </tr>\n",
              "    <tr>\n",
              "      <th>Topic12</th>\n",
              "      <td>group, age, test, concept, path, journal, pair, table, dz, across, org, oller, analysis, study, educational, et_al, older, within, showed, pattern, wa, cid, variable</td>\n",
              "    </tr>\n",
              "    <tr>\n",
              "      <th>Topic13</th>\n",
              "      <td>comparison, process, oller, older, educational, org, cid, path, journal, fit, table, mathematics, study, variable, et_al, within, showed, pattern, wa, group, across, analysis, test</td>\n",
              "    </tr>\n",
              "    <tr>\n",
              "      <th>Topic14</th>\n",
              "      <td>mz, dz, mirror_effect, found, path, journal, pair, table, test, across, org, oller, analysis, study, educational, et_al, older, within, showed, pattern, wa, cid, variable</td>\n",
              "    </tr>\n",
              "    <tr>\n",
              "      <th>Topic15</th>\n",
              "      <td>german, grade, mathematics, similar, personality, variable, pair, path, analysis, study, educational, et_al, within, table, showed, pattern, wa, group, across, test, oller, older, regression</td>\n",
              "    </tr>\n",
              "    <tr>\n",
              "      <th>Topic16</th>\n",
              "      <td>mathematics, concept, academic, journal, effect, org, pair, path, variable, test, mz, oller, analysis, educational, cid, et_al, older, within, showed, pattern, wa, study, fit</td>\n",
              "    </tr>\n",
              "    <tr>\n",
              "      <th>Topic17</th>\n",
              "      <td>social, journal, study, personality, pattern, group, sample, org, cid, path, fit, pair, across, oller, et_al, educational, variable, older, within, showed, wa, analysis, table</td>\n",
              "    </tr>\n",
              "    <tr>\n",
              "      <th>Topic18</th>\n",
              "      <td>effect, individual, mirror_effect, fit, path, journal, personality, table, across, org, oller, analysis, test, study, educational, et_al, older, within, showed, pattern, wa, cid, variable</td>\n",
              "    </tr>\n",
              "    <tr>\n",
              "      <th>Topic19</th>\n",
              "      <td>dz, year_old, mz, sample, oller, path, journal, pair, table, org, mathematics, analysis, study, educational, et_al, older, within, showed, pattern, wa, group, cid, variable</td>\n",
              "    </tr>\n",
              "    <tr>\n",
              "      <th>Topic20</th>\n",
              "      <td>twin, achievement, effect, grade, org, within, path, journal, fit, table, across, dz, oller, wa, analysis, cid, study, educational, et_al, older, pattern, showed, variable</td>\n",
              "    </tr>\n",
              "    <tr>\n",
              "      <th>Topic21</th>\n",
              "      <td>grade, school, reported, comparison, process, student, psychology, oller, journal, path, org, group, analysis, educational, variable, et_al, older, within, showed, pattern, mz, study, pair</td>\n",
              "    </tr>\n",
              "    <tr>\n",
              "      <th>Topic22</th>\n",
              "      <td>research, marsh, study, educational, internal, twin, table, journal, cid, group, dz, test, org, analysis, path, et_al, older, within, showed, pattern, mz, oller, pair</td>\n",
              "    </tr>\n",
              "    <tr>\n",
              "      <th>Topic23</th>\n",
              "      <td>http_doi, org, psychology, similar, test, path, journal, pair, table, across, oller, analysis, study, educational, et_al, older, within, showed, pattern, wa, grade, cid, variable</td>\n",
              "    </tr>\n",
              "  </tbody>\n",
              "</table>\n",
              "</div>\n",
              "      <button class=\"colab-df-convert\" onclick=\"convertToInteractive('df-ca8f1745-4d26-4830-85cf-0afc38c8db2c')\"\n",
              "              title=\"Convert this dataframe to an interactive table.\"\n",
              "              style=\"display:none;\">\n",
              "        \n",
              "  <svg xmlns=\"http://www.w3.org/2000/svg\" height=\"24px\"viewBox=\"0 0 24 24\"\n",
              "       width=\"24px\">\n",
              "    <path d=\"M0 0h24v24H0V0z\" fill=\"none\"/>\n",
              "    <path d=\"M18.56 5.44l.94 2.06.94-2.06 2.06-.94-2.06-.94-.94-2.06-.94 2.06-2.06.94zm-11 1L8.5 8.5l.94-2.06 2.06-.94-2.06-.94L8.5 2.5l-.94 2.06-2.06.94zm10 10l.94 2.06.94-2.06 2.06-.94-2.06-.94-.94-2.06-.94 2.06-2.06.94z\"/><path d=\"M17.41 7.96l-1.37-1.37c-.4-.4-.92-.59-1.43-.59-.52 0-1.04.2-1.43.59L10.3 9.45l-7.72 7.72c-.78.78-.78 2.05 0 2.83L4 21.41c.39.39.9.59 1.41.59.51 0 1.02-.2 1.41-.59l7.78-7.78 2.81-2.81c.8-.78.8-2.07 0-2.86zM5.41 20L4 18.59l7.72-7.72 1.47 1.35L5.41 20z\"/>\n",
              "  </svg>\n",
              "      </button>\n",
              "      \n",
              "  <style>\n",
              "    .colab-df-container {\n",
              "      display:flex;\n",
              "      flex-wrap:wrap;\n",
              "      gap: 12px;\n",
              "    }\n",
              "\n",
              "    .colab-df-convert {\n",
              "      background-color: #E8F0FE;\n",
              "      border: none;\n",
              "      border-radius: 50%;\n",
              "      cursor: pointer;\n",
              "      display: none;\n",
              "      fill: #1967D2;\n",
              "      height: 32px;\n",
              "      padding: 0 0 0 0;\n",
              "      width: 32px;\n",
              "    }\n",
              "\n",
              "    .colab-df-convert:hover {\n",
              "      background-color: #E2EBFA;\n",
              "      box-shadow: 0px 1px 2px rgba(60, 64, 67, 0.3), 0px 1px 3px 1px rgba(60, 64, 67, 0.15);\n",
              "      fill: #174EA6;\n",
              "    }\n",
              "\n",
              "    [theme=dark] .colab-df-convert {\n",
              "      background-color: #3B4455;\n",
              "      fill: #D2E3FC;\n",
              "    }\n",
              "\n",
              "    [theme=dark] .colab-df-convert:hover {\n",
              "      background-color: #434B5C;\n",
              "      box-shadow: 0px 1px 3px 1px rgba(0, 0, 0, 0.15);\n",
              "      filter: drop-shadow(0px 1px 2px rgba(0, 0, 0, 0.3));\n",
              "      fill: #FFFFFF;\n",
              "    }\n",
              "  </style>\n",
              "\n",
              "      <script>\n",
              "        const buttonEl =\n",
              "          document.querySelector('#df-ca8f1745-4d26-4830-85cf-0afc38c8db2c button.colab-df-convert');\n",
              "        buttonEl.style.display =\n",
              "          google.colab.kernel.accessAllowed ? 'block' : 'none';\n",
              "\n",
              "        async function convertToInteractive(key) {\n",
              "          const element = document.querySelector('#df-ca8f1745-4d26-4830-85cf-0afc38c8db2c');\n",
              "          const dataTable =\n",
              "            await google.colab.kernel.invokeFunction('convertToInteractive',\n",
              "                                                     [key], {});\n",
              "          if (!dataTable) return;\n",
              "\n",
              "          const docLinkHtml = 'Like what you see? Visit the ' +\n",
              "            '<a target=\"_blank\" href=https://colab.research.google.com/notebooks/data_table.ipynb>data table notebook</a>'\n",
              "            + ' to learn more about interactive tables.';\n",
              "          element.innerHTML = '';\n",
              "          dataTable['output_type'] = 'display_data';\n",
              "          await google.colab.output.renderOutput(dataTable, element);\n",
              "          const docLink = document.createElement('div');\n",
              "          docLink.innerHTML = docLinkHtml;\n",
              "          element.appendChild(docLink);\n",
              "        }\n",
              "      </script>\n",
              "    </div>\n",
              "  </div>\n",
              "  "
            ]
          },
          "metadata": {},
          "execution_count": 48
        }
      ]
    },
    {
      "cell_type": "markdown",
      "metadata": {
        "id": "SrveLQ5e12cP"
      },
      "source": [
        "## Interpreting Topic Model Results\n",
        "\n",
        "An interesting point to remember is, given a corpus of documents (in the form of\n",
        "features, e.g., Bag of Words) and a trained topic model, you can predict the distribution of\n",
        "topics in each document (research paper in this case).\n",
        "\n",
        "We can now get the most dominant topic per research paper with some intelligent\n",
        "sorting and indexing."
      ]
    },
    {
      "cell_type": "code",
      "metadata": {
        "colab": {
          "base_uri": "https://localhost:8080/"
        },
        "id": "xYz9Pf4UN_VJ",
        "outputId": "fb3a3eea-af96-4d26-df1b-4e6f370f3ba3"
      },
      "source": [
        "print(bow_corpus[0][:30])"
      ],
      "execution_count": 49,
      "outputs": [
        {
          "output_type": "stream",
          "name": "stdout",
          "text": [
            "[(0, 1), (1, 1)]\n"
          ]
        }
      ]
    },
    {
      "cell_type": "code",
      "metadata": {
        "colab": {
          "base_uri": "https://localhost:8080/"
        },
        "id": "ojE7cAX7ORuS",
        "outputId": "6724a26b-d7cd-4709-839d-e2afc34b2cb1"
      },
      "source": [
        "print([(dictionary[idx] , freq) for idx, freq in bow_corpus[0][:30]])"
      ],
      "execution_count": 50,
      "outputs": [
        {
          "output_type": "stream",
          "name": "stdout",
          "text": [
            "[('comparison', 1), ('process', 1)]\n"
          ]
        }
      ]
    },
    {
      "cell_type": "code",
      "metadata": {
        "id": "bXv0NRCXum-I"
      },
      "source": [
        "tm_results = best_lda_model[bow_corpus] "
      ],
      "execution_count": 51,
      "outputs": []
    },
    {
      "cell_type": "code",
      "metadata": {
        "colab": {
          "base_uri": "https://localhost:8080/"
        },
        "id": "g0pWhZX1OeHf",
        "outputId": "c3bb59fb-eaf7-40ab-f59b-436c8d334881"
      },
      "source": [
        "tm_results[0]"
      ],
      "execution_count": 52,
      "outputs": [
        {
          "output_type": "execute_result",
          "data": {
            "text/plain": [
              "[(0, 0.04180602006688965),\n",
              " (1, 0.04180602006688965),\n",
              " (2, 0.04180602006688965),\n",
              " (3, 0.04180602006688965),\n",
              " (4, 0.04180602006688965),\n",
              " (5, 0.04180602006688965),\n",
              " (6, 0.04180602006688965),\n",
              " (7, 0.04180602006688965),\n",
              " (8, 0.04180602006688965),\n",
              " (9, 0.04180602006688965),\n",
              " (10, 0.04180602006688965),\n",
              " (11, 0.04180602006688965),\n",
              " (12, 0.07599405425492384),\n",
              " (13, 0.04180602006688965),\n",
              " (14, 0.04180602006688965),\n",
              " (15, 0.04180602006688965),\n",
              " (16, 0.04180602006688965),\n",
              " (17, 0.04180602006688965),\n",
              " (18, 0.04180602006688965),\n",
              " (19, 0.04180602006688965),\n",
              " (20, 0.046079524340393925),\n",
              " (21, 0.04180602006688965),\n",
              " (22, 0.04180602006688965)]"
            ]
          },
          "metadata": {},
          "execution_count": 52
        }
      ]
    },
    {
      "cell_type": "code",
      "metadata": {
        "colab": {
          "base_uri": "https://localhost:8080/"
        },
        "id": "WjEHWhVGuuG5",
        "outputId": "0e7cd843-81fc-4753-b646-07dc97488730"
      },
      "source": [
        "corpus_topics = [sorted(topics, key=lambda record: -record[1])[0] \n",
        "                     for topics in tm_results]\n",
        "corpus_topics[:5]\n",
        "len(corpus_topics), len(papers)"
      ],
      "execution_count": 53,
      "outputs": [
        {
          "output_type": "execute_result",
          "data": {
            "text/plain": [
              "(1498, 2288)"
            ]
          },
          "metadata": {},
          "execution_count": 53
        }
      ]
    },
    {
      "cell_type": "code",
      "metadata": {
        "id": "GFmddPmQuyXS"
      },
      "source": [
        "corpus_topic_df = pd.DataFrame()\n",
        "corpus_topic_df['Document'] = range(0, len(corpus_topics))\n",
        "corpus_topic_df['Dominant Topic'] = [item[0]+1 for item in corpus_topics]\n",
        "corpus_topic_df['Contribution %'] = [round(item[1]*100, 2) for item in corpus_topics]\n",
        "corpus_topic_df['Topic Desc'] = [topics_df.iloc[t[0]]['Terms per Topic'] for t in corpus_topics]\n",
        "corpus_topic_df['Paper'] = [corpus_topics[:500] for paper in corpus_topics]"
      ],
      "execution_count": 57,
      "outputs": []
    },
    {
      "cell_type": "markdown",
      "metadata": {
        "id": "U_nNj9_t12cb"
      },
      "source": [
        "## Dominant Topics in Specific Research Papers\n",
        "\n",
        "Another interesting perspective is to select specific papers, view the most dominant topic\n",
        "in each of those papers, and see if that makes sense."
      ]
    },
    {
      "cell_type": "code",
      "metadata": {
        "colab": {
          "base_uri": "https://localhost:8080/",
          "height": 1000
        },
        "id": "pN45exiiu5sx",
        "outputId": "bd87f9a8-8a4d-4469-a810-3d78ae0d7c9a"
      },
      "source": [
        "corpus_topic_df.groupby('Dominant Topic').apply(lambda topic_set: (topic_set.sort_values(by=['Contribution %'], \n",
        "                                                                                         ascending=False)\n",
        "                                                                             .iloc[0]))"
      ],
      "execution_count": 58,
      "outputs": [
        {
          "output_type": "execute_result",
          "data": {
            "text/plain": [
              "                Document  Dominant Topic  Contribution %  \\\n",
              "Dominant Topic                                             \n",
              "1               809       1               7.39             \n",
              "2               400       2               7.88             \n",
              "3               1243      3               8.71             \n",
              "4               388       4               7.26             \n",
              "5               667       5               9.76             \n",
              "6               1062      6               6.58             \n",
              "7               1287      7               7.81             \n",
              "8               586       8               14.60            \n",
              "9               1138      9               7.94             \n",
              "10              593       10              9.58             \n",
              "11              590       11              9.41             \n",
              "12              985       12              11.23            \n",
              "13              334       13              10.63            \n",
              "14              323       14              8.96             \n",
              "15              777       15              9.58             \n",
              "16              774       16              8.55             \n",
              "17              1470      17              11.02            \n",
              "18              89        18              7.67             \n",
              "19              612       19              14.67            \n",
              "20              25        20              7.96             \n",
              "21              499       21              12.64            \n",
              "22              1400      22              9.41             \n",
              "23              1363      23              9.76             \n",
              "\n",
              "                                                                                                                                                                                                    Topic Desc  \\\n",
              "Dominant Topic                                                                                                                                                                                                   \n",
              "1               achievement, concept, academic, variable, pair, journal, cid, test, across, org, oller, analysis, educational, path, et_al, older, within, showed, pattern, wa, mz, study, fit                   \n",
              "2               twin, mirror_effect, pair, older, test, path, journal, fit, table, across, org, oller, analysis, study, educational, et_al, within, showed, pattern, wa, grade, cid, variable                    \n",
              "3               student, similar, comparison, table, internal, personality, oller, journal, path, org, across, analysis, study, et_al, variable, older, within, showed, pattern, wa, dz, educational, fit        \n",
              "4               twin, mz, domain, test, cid, path, journal, fit, table, across, org, oller, analysis, study, educational, et_al, older, within, showed, pattern, wa, variable, dz                                \n",
              "5               et_al, variable, found, effect, individual, wa, path, journal, personality, pair, test, across, oller, org, study, cid, educational, older, within, showed, pattern, analysis, table             \n",
              "6               twin, data, analysis, school, org, test, path, journal, fit, table, across, oller, educational, cid, et_al, older, within, showed, pattern, wa, mz, study, variable                              \n",
              "7               domain, data, contrast, mirror_effect, internal, dz, social, journal, cid, test, wa, org, oller, analysis, study, educational, et_al, older, within, showed, mz, table, path                     \n",
              "8               cid, wa, academic, found, individual, journal, org, fit, path, table, test, across, oller, analysis, educational, variable, et_al, older, within, showed, pattern, study, personality            \n",
              "9               concept, academic, model, analysis, table, journal, cid, dz, across, org, oller, study, test, educational, et_al, older, within, showed, pattern, wa, grade, path, pair                          \n",
              "10              analysis, regression, difference, path, fit, dz, table, oller, journal, reported, pair, mathematics, study, older, et_al, cid, within, showed, pattern, wa, group, educational, variable         \n",
              "11              model, sample, showed, pattern, student, path, journal, fit, table, test, across, oller, analysis, org, cid, educational, et_al, older, within, wa, dz, study, variable                          \n",
              "12              group, age, test, concept, path, journal, pair, table, dz, across, org, oller, analysis, study, educational, et_al, older, within, showed, pattern, wa, cid, variable                            \n",
              "13              comparison, process, oller, older, educational, org, cid, path, journal, fit, table, mathematics, study, variable, et_al, within, showed, pattern, wa, group, across, analysis, test             \n",
              "14              mz, dz, mirror_effect, found, path, journal, pair, table, test, across, org, oller, analysis, study, educational, et_al, older, within, showed, pattern, wa, cid, variable                       \n",
              "15              german, grade, mathematics, similar, personality, variable, pair, path, analysis, study, educational, et_al, within, table, showed, pattern, wa, group, across, test, oller, older, regression   \n",
              "16              mathematics, concept, academic, journal, effect, org, pair, path, variable, test, mz, oller, analysis, educational, cid, et_al, older, within, showed, pattern, wa, study, fit                   \n",
              "17              social, journal, study, personality, pattern, group, sample, org, cid, path, fit, pair, across, oller, et_al, educational, variable, older, within, showed, wa, analysis, table                  \n",
              "18              effect, individual, mirror_effect, fit, path, journal, personality, table, across, org, oller, analysis, test, study, educational, et_al, older, within, showed, pattern, wa, cid, variable      \n",
              "19              dz, year_old, mz, sample, oller, path, journal, pair, table, org, mathematics, analysis, study, educational, et_al, older, within, showed, pattern, wa, group, cid, variable                     \n",
              "20              twin, achievement, effect, grade, org, within, path, journal, fit, table, across, dz, oller, wa, analysis, cid, study, educational, et_al, older, pattern, showed, variable                      \n",
              "21              grade, school, reported, comparison, process, student, psychology, oller, journal, path, org, group, analysis, educational, variable, et_al, older, within, showed, pattern, mz, study, pair     \n",
              "22              research, marsh, study, educational, internal, twin, table, journal, cid, group, dz, test, org, analysis, path, et_al, older, within, showed, pattern, mz, oller, pair                           \n",
              "23              http_doi, org, psychology, similar, test, path, journal, pair, table, across, oller, analysis, study, educational, et_al, older, within, showed, pattern, wa, grade, cid, variable               \n",
              "\n",
              "                                                                                                                                                                                                                                                                                                                                                                                                                                                                                                                                                                                                                                                                                                                                                                                                                                                                                                                                                                                                                                                                                                                                                                                                                                                                                                                                                                                                                                                                                                                                                                                                                                                                                                                                                                                                                                                                                                                                                                                                                                                                                                                                                                                                                                                                                                                                                                                                                                                                                                                                                                                                                                                                                                                                                                  Paper  \n",
              "Dominant Topic                                                                                                                                                                                                                                                                                                                                                                                                                                                                                                                                                                                                                                                                                                                                                                                                                                                                                                                                                                                                                                                                                                                                                                                                                                                                                                                                                                                                                                                                                                                                                                                                                                                                                                                                                                                                                                                                                                                                                                                                                                                                                                                                                                                                                                                                                                                                                                                                                                                                                                                                                                                                                                                                                                                                                           \n",
              "1               [(12, 0.07599405425492384), (2, 0.05671855430309535), (0, 0.04347826086956519), (0, 0.04347826086956519), (21, 0.06103678929765889), (20, 0.06103678929765888), (21, 0.062233589087809064), (0, 0.04347826086956519), (8, 0.05890003716090675), (16, 0.06103678929765888), (10, 0.06223358908780905), (1, 0.055697641375390766), (3, 0.05134034290044522), (9, 0.06103678929765889), (21, 0.065788317962231), (0, 0.06289139380926818), (6, 0.07453416149068319), (8, 0.0628913938092682), (1, 0.05569227964634036), (17, 0.07184892402283706), (8, 0.06461352657004828), (10, 0.059885151763740783), (15, 0.065788317962231), (10, 0.05667701863354037), (11, 0.0758893280632411), (19, 0.0796268532400466), (8, 0.07712518010000846), (6, 0.06083378064054391), (1, 0.06103678929765888), (6, 0.05988515176374077), (8, 0.06407802388114121), (4, 0.06103678929765889), (8, 0.05569764137539075), (0, 0.05359584358764014), (4, 0.062233589087809064), (4, 0.06103678929765889), (0, 0.04347826086956519), (8, 0.06531029357116315), (6, 0.059885151763740783), (21, 0.062233589087809064), (21, 0.05988515176374077), (10, 0.059885151763740783), (21, 0.07790953008344312), (2, 0.06103678929765889), (6, 0.060054939850336296), (10, 0.05988515176374078), (6, 0.059885151763740783), (4, 0.05877616747181963), (12, 0.07112184648416532), (21, 0.059885151763740783), (12, 0.06906423331544102), (8, 0.06407802388114121), (8, 0.0661744599398414), (2, 0.059885151763740783), (2, 0.07317945965288956), (12, 0.06780851998243304), (6, 0.05877616747181963), (2, 0.06407802388114121), (0, 0.04347826086956519), (22, 0.062233589087809064), (2, 0.05890003716090675), (6, 0.06103678929765889), (16, 0.06103678929765888), (8, 0.05351899213791799), (6, 0.05877616747181963), (15, 0.06005493985033628), (8, 0.06827089599854162), (17, 0.05988515176374077), (8, 0.05877616747181963), (21, 0.0661744599398414), (12, 0.06103678929765889), (4, 0.062233589087809064), (2, 0.05134034290044522), (17, 0.07246376811594205), (12, 0.0661744599398414), (8, 0.05462653288740246), (6, 0.059885151763740783), (0, 0.04347826086956519), (12, 0.08084951235074286), (0, 0.04347826086956519), (6, 0.059885151763740783), (2, 0.08084951235074286), (10, 0.06223358908780905), (7, 0.055697641375390766), (16, 0.06103678929765888), (2, 0.063173541434411), (2, 0.06103678929765888), (0, 0.04347826086956519), (6, 0.051340342900445216), (17, 0.07665664023334244), (17, 0.05988515176374078), (0, 0.055697641375390766), (3, 0.065788317962231), (16, 0.057788715705040565), (6, 0.0772946859903381), (21, 0.0738573021181717), (11, 0.05988515176374078), (13, 0.07184892402283707), (2, 0.08026755852842811), (6, 0.07456020417464224), ...]  \n",
              "2               [(12, 0.07599405425492384), (2, 0.05671855430309535), (0, 0.04347826086956519), (0, 0.04347826086956519), (21, 0.06103678929765889), (20, 0.06103678929765888), (21, 0.062233589087809064), (0, 0.04347826086956519), (8, 0.05890003716090675), (16, 0.06103678929765888), (10, 0.06223358908780905), (1, 0.055697641375390766), (3, 0.05134034290044522), (9, 0.06103678929765889), (21, 0.065788317962231), (0, 0.06289139380926818), (6, 0.07453416149068319), (8, 0.0628913938092682), (1, 0.05569227964634036), (17, 0.07184892402283706), (8, 0.06461352657004828), (10, 0.059885151763740783), (15, 0.065788317962231), (10, 0.05667701863354037), (11, 0.0758893280632411), (19, 0.0796268532400466), (8, 0.07712518010000846), (6, 0.06083378064054391), (1, 0.06103678929765888), (6, 0.05988515176374077), (8, 0.06407802388114121), (4, 0.06103678929765889), (8, 0.05569764137539075), (0, 0.05359584358764014), (4, 0.062233589087809064), (4, 0.06103678929765889), (0, 0.04347826086956519), (8, 0.06531029357116315), (6, 0.059885151763740783), (21, 0.062233589087809064), (21, 0.05988515176374077), (10, 0.059885151763740783), (21, 0.07790953008344312), (2, 0.06103678929765889), (6, 0.060054939850336296), (10, 0.05988515176374078), (6, 0.059885151763740783), (4, 0.05877616747181963), (12, 0.07112184648416532), (21, 0.059885151763740783), (12, 0.06906423331544102), (8, 0.06407802388114121), (8, 0.0661744599398414), (2, 0.059885151763740783), (2, 0.07317945965288956), (12, 0.06780851998243304), (6, 0.05877616747181963), (2, 0.06407802388114121), (0, 0.04347826086956519), (22, 0.062233589087809064), (2, 0.05890003716090675), (6, 0.06103678929765889), (16, 0.06103678929765888), (8, 0.05351899213791799), (6, 0.05877616747181963), (15, 0.06005493985033628), (8, 0.06827089599854162), (17, 0.05988515176374077), (8, 0.05877616747181963), (21, 0.0661744599398414), (12, 0.06103678929765889), (4, 0.062233589087809064), (2, 0.05134034290044522), (17, 0.07246376811594205), (12, 0.0661744599398414), (8, 0.05462653288740246), (6, 0.059885151763740783), (0, 0.04347826086956519), (12, 0.08084951235074286), (0, 0.04347826086956519), (6, 0.059885151763740783), (2, 0.08084951235074286), (10, 0.06223358908780905), (7, 0.055697641375390766), (16, 0.06103678929765888), (2, 0.063173541434411), (2, 0.06103678929765888), (0, 0.04347826086956519), (6, 0.051340342900445216), (17, 0.07665664023334244), (17, 0.05988515176374078), (0, 0.055697641375390766), (3, 0.065788317962231), (16, 0.057788715705040565), (6, 0.0772946859903381), (21, 0.0738573021181717), (11, 0.05988515176374078), (13, 0.07184892402283707), (2, 0.08026755852842811), (6, 0.07456020417464224), ...]  \n",
              "3               [(12, 0.07599405425492384), (2, 0.05671855430309535), (0, 0.04347826086956519), (0, 0.04347826086956519), (21, 0.06103678929765889), (20, 0.06103678929765888), (21, 0.062233589087809064), (0, 0.04347826086956519), (8, 0.05890003716090675), (16, 0.06103678929765888), (10, 0.06223358908780905), (1, 0.055697641375390766), (3, 0.05134034290044522), (9, 0.06103678929765889), (21, 0.065788317962231), (0, 0.06289139380926818), (6, 0.07453416149068319), (8, 0.0628913938092682), (1, 0.05569227964634036), (17, 0.07184892402283706), (8, 0.06461352657004828), (10, 0.059885151763740783), (15, 0.065788317962231), (10, 0.05667701863354037), (11, 0.0758893280632411), (19, 0.0796268532400466), (8, 0.07712518010000846), (6, 0.06083378064054391), (1, 0.06103678929765888), (6, 0.05988515176374077), (8, 0.06407802388114121), (4, 0.06103678929765889), (8, 0.05569764137539075), (0, 0.05359584358764014), (4, 0.062233589087809064), (4, 0.06103678929765889), (0, 0.04347826086956519), (8, 0.06531029357116315), (6, 0.059885151763740783), (21, 0.062233589087809064), (21, 0.05988515176374077), (10, 0.059885151763740783), (21, 0.07790953008344312), (2, 0.06103678929765889), (6, 0.060054939850336296), (10, 0.05988515176374078), (6, 0.059885151763740783), (4, 0.05877616747181963), (12, 0.07112184648416532), (21, 0.059885151763740783), (12, 0.06906423331544102), (8, 0.06407802388114121), (8, 0.0661744599398414), (2, 0.059885151763740783), (2, 0.07317945965288956), (12, 0.06780851998243304), (6, 0.05877616747181963), (2, 0.06407802388114121), (0, 0.04347826086956519), (22, 0.062233589087809064), (2, 0.05890003716090675), (6, 0.06103678929765889), (16, 0.06103678929765888), (8, 0.05351899213791799), (6, 0.05877616747181963), (15, 0.06005493985033628), (8, 0.06827089599854162), (17, 0.05988515176374077), (8, 0.05877616747181963), (21, 0.0661744599398414), (12, 0.06103678929765889), (4, 0.062233589087809064), (2, 0.05134034290044522), (17, 0.07246376811594205), (12, 0.0661744599398414), (8, 0.05462653288740246), (6, 0.059885151763740783), (0, 0.04347826086956519), (12, 0.08084951235074286), (0, 0.04347826086956519), (6, 0.059885151763740783), (2, 0.08084951235074286), (10, 0.06223358908780905), (7, 0.055697641375390766), (16, 0.06103678929765888), (2, 0.063173541434411), (2, 0.06103678929765888), (0, 0.04347826086956519), (6, 0.051340342900445216), (17, 0.07665664023334244), (17, 0.05988515176374078), (0, 0.055697641375390766), (3, 0.065788317962231), (16, 0.057788715705040565), (6, 0.0772946859903381), (21, 0.0738573021181717), (11, 0.05988515176374078), (13, 0.07184892402283707), (2, 0.08026755852842811), (6, 0.07456020417464224), ...]  \n",
              "4               [(12, 0.07599405425492384), (2, 0.05671855430309535), (0, 0.04347826086956519), (0, 0.04347826086956519), (21, 0.06103678929765889), (20, 0.06103678929765888), (21, 0.062233589087809064), (0, 0.04347826086956519), (8, 0.05890003716090675), (16, 0.06103678929765888), (10, 0.06223358908780905), (1, 0.055697641375390766), (3, 0.05134034290044522), (9, 0.06103678929765889), (21, 0.065788317962231), (0, 0.06289139380926818), (6, 0.07453416149068319), (8, 0.0628913938092682), (1, 0.05569227964634036), (17, 0.07184892402283706), (8, 0.06461352657004828), (10, 0.059885151763740783), (15, 0.065788317962231), (10, 0.05667701863354037), (11, 0.0758893280632411), (19, 0.0796268532400466), (8, 0.07712518010000846), (6, 0.06083378064054391), (1, 0.06103678929765888), (6, 0.05988515176374077), (8, 0.06407802388114121), (4, 0.06103678929765889), (8, 0.05569764137539075), (0, 0.05359584358764014), (4, 0.062233589087809064), (4, 0.06103678929765889), (0, 0.04347826086956519), (8, 0.06531029357116315), (6, 0.059885151763740783), (21, 0.062233589087809064), (21, 0.05988515176374077), (10, 0.059885151763740783), (21, 0.07790953008344312), (2, 0.06103678929765889), (6, 0.060054939850336296), (10, 0.05988515176374078), (6, 0.059885151763740783), (4, 0.05877616747181963), (12, 0.07112184648416532), (21, 0.059885151763740783), (12, 0.06906423331544102), (8, 0.06407802388114121), (8, 0.0661744599398414), (2, 0.059885151763740783), (2, 0.07317945965288956), (12, 0.06780851998243304), (6, 0.05877616747181963), (2, 0.06407802388114121), (0, 0.04347826086956519), (22, 0.062233589087809064), (2, 0.05890003716090675), (6, 0.06103678929765889), (16, 0.06103678929765888), (8, 0.05351899213791799), (6, 0.05877616747181963), (15, 0.06005493985033628), (8, 0.06827089599854162), (17, 0.05988515176374077), (8, 0.05877616747181963), (21, 0.0661744599398414), (12, 0.06103678929765889), (4, 0.062233589087809064), (2, 0.05134034290044522), (17, 0.07246376811594205), (12, 0.0661744599398414), (8, 0.05462653288740246), (6, 0.059885151763740783), (0, 0.04347826086956519), (12, 0.08084951235074286), (0, 0.04347826086956519), (6, 0.059885151763740783), (2, 0.08084951235074286), (10, 0.06223358908780905), (7, 0.055697641375390766), (16, 0.06103678929765888), (2, 0.063173541434411), (2, 0.06103678929765888), (0, 0.04347826086956519), (6, 0.051340342900445216), (17, 0.07665664023334244), (17, 0.05988515176374078), (0, 0.055697641375390766), (3, 0.065788317962231), (16, 0.057788715705040565), (6, 0.0772946859903381), (21, 0.0738573021181717), (11, 0.05988515176374078), (13, 0.07184892402283707), (2, 0.08026755852842811), (6, 0.07456020417464224), ...]  \n",
              "5               [(12, 0.07599405425492384), (2, 0.05671855430309535), (0, 0.04347826086956519), (0, 0.04347826086956519), (21, 0.06103678929765889), (20, 0.06103678929765888), (21, 0.062233589087809064), (0, 0.04347826086956519), (8, 0.05890003716090675), (16, 0.06103678929765888), (10, 0.06223358908780905), (1, 0.055697641375390766), (3, 0.05134034290044522), (9, 0.06103678929765889), (21, 0.065788317962231), (0, 0.06289139380926818), (6, 0.07453416149068319), (8, 0.0628913938092682), (1, 0.05569227964634036), (17, 0.07184892402283706), (8, 0.06461352657004828), (10, 0.059885151763740783), (15, 0.065788317962231), (10, 0.05667701863354037), (11, 0.0758893280632411), (19, 0.0796268532400466), (8, 0.07712518010000846), (6, 0.06083378064054391), (1, 0.06103678929765888), (6, 0.05988515176374077), (8, 0.06407802388114121), (4, 0.06103678929765889), (8, 0.05569764137539075), (0, 0.05359584358764014), (4, 0.062233589087809064), (4, 0.06103678929765889), (0, 0.04347826086956519), (8, 0.06531029357116315), (6, 0.059885151763740783), (21, 0.062233589087809064), (21, 0.05988515176374077), (10, 0.059885151763740783), (21, 0.07790953008344312), (2, 0.06103678929765889), (6, 0.060054939850336296), (10, 0.05988515176374078), (6, 0.059885151763740783), (4, 0.05877616747181963), (12, 0.07112184648416532), (21, 0.059885151763740783), (12, 0.06906423331544102), (8, 0.06407802388114121), (8, 0.0661744599398414), (2, 0.059885151763740783), (2, 0.07317945965288956), (12, 0.06780851998243304), (6, 0.05877616747181963), (2, 0.06407802388114121), (0, 0.04347826086956519), (22, 0.062233589087809064), (2, 0.05890003716090675), (6, 0.06103678929765889), (16, 0.06103678929765888), (8, 0.05351899213791799), (6, 0.05877616747181963), (15, 0.06005493985033628), (8, 0.06827089599854162), (17, 0.05988515176374077), (8, 0.05877616747181963), (21, 0.0661744599398414), (12, 0.06103678929765889), (4, 0.062233589087809064), (2, 0.05134034290044522), (17, 0.07246376811594205), (12, 0.0661744599398414), (8, 0.05462653288740246), (6, 0.059885151763740783), (0, 0.04347826086956519), (12, 0.08084951235074286), (0, 0.04347826086956519), (6, 0.059885151763740783), (2, 0.08084951235074286), (10, 0.06223358908780905), (7, 0.055697641375390766), (16, 0.06103678929765888), (2, 0.063173541434411), (2, 0.06103678929765888), (0, 0.04347826086956519), (6, 0.051340342900445216), (17, 0.07665664023334244), (17, 0.05988515176374078), (0, 0.055697641375390766), (3, 0.065788317962231), (16, 0.057788715705040565), (6, 0.0772946859903381), (21, 0.0738573021181717), (11, 0.05988515176374078), (13, 0.07184892402283707), (2, 0.08026755852842811), (6, 0.07456020417464224), ...]  \n",
              "6               [(12, 0.07599405425492384), (2, 0.05671855430309535), (0, 0.04347826086956519), (0, 0.04347826086956519), (21, 0.06103678929765889), (20, 0.06103678929765888), (21, 0.062233589087809064), (0, 0.04347826086956519), (8, 0.05890003716090675), (16, 0.06103678929765888), (10, 0.06223358908780905), (1, 0.055697641375390766), (3, 0.05134034290044522), (9, 0.06103678929765889), (21, 0.065788317962231), (0, 0.06289139380926818), (6, 0.07453416149068319), (8, 0.0628913938092682), (1, 0.05569227964634036), (17, 0.07184892402283706), (8, 0.06461352657004828), (10, 0.059885151763740783), (15, 0.065788317962231), (10, 0.05667701863354037), (11, 0.0758893280632411), (19, 0.0796268532400466), (8, 0.07712518010000846), (6, 0.06083378064054391), (1, 0.06103678929765888), (6, 0.05988515176374077), (8, 0.06407802388114121), (4, 0.06103678929765889), (8, 0.05569764137539075), (0, 0.05359584358764014), (4, 0.062233589087809064), (4, 0.06103678929765889), (0, 0.04347826086956519), (8, 0.06531029357116315), (6, 0.059885151763740783), (21, 0.062233589087809064), (21, 0.05988515176374077), (10, 0.059885151763740783), (21, 0.07790953008344312), (2, 0.06103678929765889), (6, 0.060054939850336296), (10, 0.05988515176374078), (6, 0.059885151763740783), (4, 0.05877616747181963), (12, 0.07112184648416532), (21, 0.059885151763740783), (12, 0.06906423331544102), (8, 0.06407802388114121), (8, 0.0661744599398414), (2, 0.059885151763740783), (2, 0.07317945965288956), (12, 0.06780851998243304), (6, 0.05877616747181963), (2, 0.06407802388114121), (0, 0.04347826086956519), (22, 0.062233589087809064), (2, 0.05890003716090675), (6, 0.06103678929765889), (16, 0.06103678929765888), (8, 0.05351899213791799), (6, 0.05877616747181963), (15, 0.06005493985033628), (8, 0.06827089599854162), (17, 0.05988515176374077), (8, 0.05877616747181963), (21, 0.0661744599398414), (12, 0.06103678929765889), (4, 0.062233589087809064), (2, 0.05134034290044522), (17, 0.07246376811594205), (12, 0.0661744599398414), (8, 0.05462653288740246), (6, 0.059885151763740783), (0, 0.04347826086956519), (12, 0.08084951235074286), (0, 0.04347826086956519), (6, 0.059885151763740783), (2, 0.08084951235074286), (10, 0.06223358908780905), (7, 0.055697641375390766), (16, 0.06103678929765888), (2, 0.063173541434411), (2, 0.06103678929765888), (0, 0.04347826086956519), (6, 0.051340342900445216), (17, 0.07665664023334244), (17, 0.05988515176374078), (0, 0.055697641375390766), (3, 0.065788317962231), (16, 0.057788715705040565), (6, 0.0772946859903381), (21, 0.0738573021181717), (11, 0.05988515176374078), (13, 0.07184892402283707), (2, 0.08026755852842811), (6, 0.07456020417464224), ...]  \n",
              "7               [(12, 0.07599405425492384), (2, 0.05671855430309535), (0, 0.04347826086956519), (0, 0.04347826086956519), (21, 0.06103678929765889), (20, 0.06103678929765888), (21, 0.062233589087809064), (0, 0.04347826086956519), (8, 0.05890003716090675), (16, 0.06103678929765888), (10, 0.06223358908780905), (1, 0.055697641375390766), (3, 0.05134034290044522), (9, 0.06103678929765889), (21, 0.065788317962231), (0, 0.06289139380926818), (6, 0.07453416149068319), (8, 0.0628913938092682), (1, 0.05569227964634036), (17, 0.07184892402283706), (8, 0.06461352657004828), (10, 0.059885151763740783), (15, 0.065788317962231), (10, 0.05667701863354037), (11, 0.0758893280632411), (19, 0.0796268532400466), (8, 0.07712518010000846), (6, 0.06083378064054391), (1, 0.06103678929765888), (6, 0.05988515176374077), (8, 0.06407802388114121), (4, 0.06103678929765889), (8, 0.05569764137539075), (0, 0.05359584358764014), (4, 0.062233589087809064), (4, 0.06103678929765889), (0, 0.04347826086956519), (8, 0.06531029357116315), (6, 0.059885151763740783), (21, 0.062233589087809064), (21, 0.05988515176374077), (10, 0.059885151763740783), (21, 0.07790953008344312), (2, 0.06103678929765889), (6, 0.060054939850336296), (10, 0.05988515176374078), (6, 0.059885151763740783), (4, 0.05877616747181963), (12, 0.07112184648416532), (21, 0.059885151763740783), (12, 0.06906423331544102), (8, 0.06407802388114121), (8, 0.0661744599398414), (2, 0.059885151763740783), (2, 0.07317945965288956), (12, 0.06780851998243304), (6, 0.05877616747181963), (2, 0.06407802388114121), (0, 0.04347826086956519), (22, 0.062233589087809064), (2, 0.05890003716090675), (6, 0.06103678929765889), (16, 0.06103678929765888), (8, 0.05351899213791799), (6, 0.05877616747181963), (15, 0.06005493985033628), (8, 0.06827089599854162), (17, 0.05988515176374077), (8, 0.05877616747181963), (21, 0.0661744599398414), (12, 0.06103678929765889), (4, 0.062233589087809064), (2, 0.05134034290044522), (17, 0.07246376811594205), (12, 0.0661744599398414), (8, 0.05462653288740246), (6, 0.059885151763740783), (0, 0.04347826086956519), (12, 0.08084951235074286), (0, 0.04347826086956519), (6, 0.059885151763740783), (2, 0.08084951235074286), (10, 0.06223358908780905), (7, 0.055697641375390766), (16, 0.06103678929765888), (2, 0.063173541434411), (2, 0.06103678929765888), (0, 0.04347826086956519), (6, 0.051340342900445216), (17, 0.07665664023334244), (17, 0.05988515176374078), (0, 0.055697641375390766), (3, 0.065788317962231), (16, 0.057788715705040565), (6, 0.0772946859903381), (21, 0.0738573021181717), (11, 0.05988515176374078), (13, 0.07184892402283707), (2, 0.08026755852842811), (6, 0.07456020417464224), ...]  \n",
              "8               [(12, 0.07599405425492384), (2, 0.05671855430309535), (0, 0.04347826086956519), (0, 0.04347826086956519), (21, 0.06103678929765889), (20, 0.06103678929765888), (21, 0.062233589087809064), (0, 0.04347826086956519), (8, 0.05890003716090675), (16, 0.06103678929765888), (10, 0.06223358908780905), (1, 0.055697641375390766), (3, 0.05134034290044522), (9, 0.06103678929765889), (21, 0.065788317962231), (0, 0.06289139380926818), (6, 0.07453416149068319), (8, 0.0628913938092682), (1, 0.05569227964634036), (17, 0.07184892402283706), (8, 0.06461352657004828), (10, 0.059885151763740783), (15, 0.065788317962231), (10, 0.05667701863354037), (11, 0.0758893280632411), (19, 0.0796268532400466), (8, 0.07712518010000846), (6, 0.06083378064054391), (1, 0.06103678929765888), (6, 0.05988515176374077), (8, 0.06407802388114121), (4, 0.06103678929765889), (8, 0.05569764137539075), (0, 0.05359584358764014), (4, 0.062233589087809064), (4, 0.06103678929765889), (0, 0.04347826086956519), (8, 0.06531029357116315), (6, 0.059885151763740783), (21, 0.062233589087809064), (21, 0.05988515176374077), (10, 0.059885151763740783), (21, 0.07790953008344312), (2, 0.06103678929765889), (6, 0.060054939850336296), (10, 0.05988515176374078), (6, 0.059885151763740783), (4, 0.05877616747181963), (12, 0.07112184648416532), (21, 0.059885151763740783), (12, 0.06906423331544102), (8, 0.06407802388114121), (8, 0.0661744599398414), (2, 0.059885151763740783), (2, 0.07317945965288956), (12, 0.06780851998243304), (6, 0.05877616747181963), (2, 0.06407802388114121), (0, 0.04347826086956519), (22, 0.062233589087809064), (2, 0.05890003716090675), (6, 0.06103678929765889), (16, 0.06103678929765888), (8, 0.05351899213791799), (6, 0.05877616747181963), (15, 0.06005493985033628), (8, 0.06827089599854162), (17, 0.05988515176374077), (8, 0.05877616747181963), (21, 0.0661744599398414), (12, 0.06103678929765889), (4, 0.062233589087809064), (2, 0.05134034290044522), (17, 0.07246376811594205), (12, 0.0661744599398414), (8, 0.05462653288740246), (6, 0.059885151763740783), (0, 0.04347826086956519), (12, 0.08084951235074286), (0, 0.04347826086956519), (6, 0.059885151763740783), (2, 0.08084951235074286), (10, 0.06223358908780905), (7, 0.055697641375390766), (16, 0.06103678929765888), (2, 0.063173541434411), (2, 0.06103678929765888), (0, 0.04347826086956519), (6, 0.051340342900445216), (17, 0.07665664023334244), (17, 0.05988515176374078), (0, 0.055697641375390766), (3, 0.065788317962231), (16, 0.057788715705040565), (6, 0.0772946859903381), (21, 0.0738573021181717), (11, 0.05988515176374078), (13, 0.07184892402283707), (2, 0.08026755852842811), (6, 0.07456020417464224), ...]  \n",
              "9               [(12, 0.07599405425492384), (2, 0.05671855430309535), (0, 0.04347826086956519), (0, 0.04347826086956519), (21, 0.06103678929765889), (20, 0.06103678929765888), (21, 0.062233589087809064), (0, 0.04347826086956519), (8, 0.05890003716090675), (16, 0.06103678929765888), (10, 0.06223358908780905), (1, 0.055697641375390766), (3, 0.05134034290044522), (9, 0.06103678929765889), (21, 0.065788317962231), (0, 0.06289139380926818), (6, 0.07453416149068319), (8, 0.0628913938092682), (1, 0.05569227964634036), (17, 0.07184892402283706), (8, 0.06461352657004828), (10, 0.059885151763740783), (15, 0.065788317962231), (10, 0.05667701863354037), (11, 0.0758893280632411), (19, 0.0796268532400466), (8, 0.07712518010000846), (6, 0.06083378064054391), (1, 0.06103678929765888), (6, 0.05988515176374077), (8, 0.06407802388114121), (4, 0.06103678929765889), (8, 0.05569764137539075), (0, 0.05359584358764014), (4, 0.062233589087809064), (4, 0.06103678929765889), (0, 0.04347826086956519), (8, 0.06531029357116315), (6, 0.059885151763740783), (21, 0.062233589087809064), (21, 0.05988515176374077), (10, 0.059885151763740783), (21, 0.07790953008344312), (2, 0.06103678929765889), (6, 0.060054939850336296), (10, 0.05988515176374078), (6, 0.059885151763740783), (4, 0.05877616747181963), (12, 0.07112184648416532), (21, 0.059885151763740783), (12, 0.06906423331544102), (8, 0.06407802388114121), (8, 0.0661744599398414), (2, 0.059885151763740783), (2, 0.07317945965288956), (12, 0.06780851998243304), (6, 0.05877616747181963), (2, 0.06407802388114121), (0, 0.04347826086956519), (22, 0.062233589087809064), (2, 0.05890003716090675), (6, 0.06103678929765889), (16, 0.06103678929765888), (8, 0.05351899213791799), (6, 0.05877616747181963), (15, 0.06005493985033628), (8, 0.06827089599854162), (17, 0.05988515176374077), (8, 0.05877616747181963), (21, 0.0661744599398414), (12, 0.06103678929765889), (4, 0.062233589087809064), (2, 0.05134034290044522), (17, 0.07246376811594205), (12, 0.0661744599398414), (8, 0.05462653288740246), (6, 0.059885151763740783), (0, 0.04347826086956519), (12, 0.08084951235074286), (0, 0.04347826086956519), (6, 0.059885151763740783), (2, 0.08084951235074286), (10, 0.06223358908780905), (7, 0.055697641375390766), (16, 0.06103678929765888), (2, 0.063173541434411), (2, 0.06103678929765888), (0, 0.04347826086956519), (6, 0.051340342900445216), (17, 0.07665664023334244), (17, 0.05988515176374078), (0, 0.055697641375390766), (3, 0.065788317962231), (16, 0.057788715705040565), (6, 0.0772946859903381), (21, 0.0738573021181717), (11, 0.05988515176374078), (13, 0.07184892402283707), (2, 0.08026755852842811), (6, 0.07456020417464224), ...]  \n",
              "10              [(12, 0.07599405425492384), (2, 0.05671855430309535), (0, 0.04347826086956519), (0, 0.04347826086956519), (21, 0.06103678929765889), (20, 0.06103678929765888), (21, 0.062233589087809064), (0, 0.04347826086956519), (8, 0.05890003716090675), (16, 0.06103678929765888), (10, 0.06223358908780905), (1, 0.055697641375390766), (3, 0.05134034290044522), (9, 0.06103678929765889), (21, 0.065788317962231), (0, 0.06289139380926818), (6, 0.07453416149068319), (8, 0.0628913938092682), (1, 0.05569227964634036), (17, 0.07184892402283706), (8, 0.06461352657004828), (10, 0.059885151763740783), (15, 0.065788317962231), (10, 0.05667701863354037), (11, 0.0758893280632411), (19, 0.0796268532400466), (8, 0.07712518010000846), (6, 0.06083378064054391), (1, 0.06103678929765888), (6, 0.05988515176374077), (8, 0.06407802388114121), (4, 0.06103678929765889), (8, 0.05569764137539075), (0, 0.05359584358764014), (4, 0.062233589087809064), (4, 0.06103678929765889), (0, 0.04347826086956519), (8, 0.06531029357116315), (6, 0.059885151763740783), (21, 0.062233589087809064), (21, 0.05988515176374077), (10, 0.059885151763740783), (21, 0.07790953008344312), (2, 0.06103678929765889), (6, 0.060054939850336296), (10, 0.05988515176374078), (6, 0.059885151763740783), (4, 0.05877616747181963), (12, 0.07112184648416532), (21, 0.059885151763740783), (12, 0.06906423331544102), (8, 0.06407802388114121), (8, 0.0661744599398414), (2, 0.059885151763740783), (2, 0.07317945965288956), (12, 0.06780851998243304), (6, 0.05877616747181963), (2, 0.06407802388114121), (0, 0.04347826086956519), (22, 0.062233589087809064), (2, 0.05890003716090675), (6, 0.06103678929765889), (16, 0.06103678929765888), (8, 0.05351899213791799), (6, 0.05877616747181963), (15, 0.06005493985033628), (8, 0.06827089599854162), (17, 0.05988515176374077), (8, 0.05877616747181963), (21, 0.0661744599398414), (12, 0.06103678929765889), (4, 0.062233589087809064), (2, 0.05134034290044522), (17, 0.07246376811594205), (12, 0.0661744599398414), (8, 0.05462653288740246), (6, 0.059885151763740783), (0, 0.04347826086956519), (12, 0.08084951235074286), (0, 0.04347826086956519), (6, 0.059885151763740783), (2, 0.08084951235074286), (10, 0.06223358908780905), (7, 0.055697641375390766), (16, 0.06103678929765888), (2, 0.063173541434411), (2, 0.06103678929765888), (0, 0.04347826086956519), (6, 0.051340342900445216), (17, 0.07665664023334244), (17, 0.05988515176374078), (0, 0.055697641375390766), (3, 0.065788317962231), (16, 0.057788715705040565), (6, 0.0772946859903381), (21, 0.0738573021181717), (11, 0.05988515176374078), (13, 0.07184892402283707), (2, 0.08026755852842811), (6, 0.07456020417464224), ...]  \n",
              "11              [(12, 0.07599405425492384), (2, 0.05671855430309535), (0, 0.04347826086956519), (0, 0.04347826086956519), (21, 0.06103678929765889), (20, 0.06103678929765888), (21, 0.062233589087809064), (0, 0.04347826086956519), (8, 0.05890003716090675), (16, 0.06103678929765888), (10, 0.06223358908780905), (1, 0.055697641375390766), (3, 0.05134034290044522), (9, 0.06103678929765889), (21, 0.065788317962231), (0, 0.06289139380926818), (6, 0.07453416149068319), (8, 0.0628913938092682), (1, 0.05569227964634036), (17, 0.07184892402283706), (8, 0.06461352657004828), (10, 0.059885151763740783), (15, 0.065788317962231), (10, 0.05667701863354037), (11, 0.0758893280632411), (19, 0.0796268532400466), (8, 0.07712518010000846), (6, 0.06083378064054391), (1, 0.06103678929765888), (6, 0.05988515176374077), (8, 0.06407802388114121), (4, 0.06103678929765889), (8, 0.05569764137539075), (0, 0.05359584358764014), (4, 0.062233589087809064), (4, 0.06103678929765889), (0, 0.04347826086956519), (8, 0.06531029357116315), (6, 0.059885151763740783), (21, 0.062233589087809064), (21, 0.05988515176374077), (10, 0.059885151763740783), (21, 0.07790953008344312), (2, 0.06103678929765889), (6, 0.060054939850336296), (10, 0.05988515176374078), (6, 0.059885151763740783), (4, 0.05877616747181963), (12, 0.07112184648416532), (21, 0.059885151763740783), (12, 0.06906423331544102), (8, 0.06407802388114121), (8, 0.0661744599398414), (2, 0.059885151763740783), (2, 0.07317945965288956), (12, 0.06780851998243304), (6, 0.05877616747181963), (2, 0.06407802388114121), (0, 0.04347826086956519), (22, 0.062233589087809064), (2, 0.05890003716090675), (6, 0.06103678929765889), (16, 0.06103678929765888), (8, 0.05351899213791799), (6, 0.05877616747181963), (15, 0.06005493985033628), (8, 0.06827089599854162), (17, 0.05988515176374077), (8, 0.05877616747181963), (21, 0.0661744599398414), (12, 0.06103678929765889), (4, 0.062233589087809064), (2, 0.05134034290044522), (17, 0.07246376811594205), (12, 0.0661744599398414), (8, 0.05462653288740246), (6, 0.059885151763740783), (0, 0.04347826086956519), (12, 0.08084951235074286), (0, 0.04347826086956519), (6, 0.059885151763740783), (2, 0.08084951235074286), (10, 0.06223358908780905), (7, 0.055697641375390766), (16, 0.06103678929765888), (2, 0.063173541434411), (2, 0.06103678929765888), (0, 0.04347826086956519), (6, 0.051340342900445216), (17, 0.07665664023334244), (17, 0.05988515176374078), (0, 0.055697641375390766), (3, 0.065788317962231), (16, 0.057788715705040565), (6, 0.0772946859903381), (21, 0.0738573021181717), (11, 0.05988515176374078), (13, 0.07184892402283707), (2, 0.08026755852842811), (6, 0.07456020417464224), ...]  \n",
              "12              [(12, 0.07599405425492384), (2, 0.05671855430309535), (0, 0.04347826086956519), (0, 0.04347826086956519), (21, 0.06103678929765889), (20, 0.06103678929765888), (21, 0.062233589087809064), (0, 0.04347826086956519), (8, 0.05890003716090675), (16, 0.06103678929765888), (10, 0.06223358908780905), (1, 0.055697641375390766), (3, 0.05134034290044522), (9, 0.06103678929765889), (21, 0.065788317962231), (0, 0.06289139380926818), (6, 0.07453416149068319), (8, 0.0628913938092682), (1, 0.05569227964634036), (17, 0.07184892402283706), (8, 0.06461352657004828), (10, 0.059885151763740783), (15, 0.065788317962231), (10, 0.05667701863354037), (11, 0.0758893280632411), (19, 0.0796268532400466), (8, 0.07712518010000846), (6, 0.06083378064054391), (1, 0.06103678929765888), (6, 0.05988515176374077), (8, 0.06407802388114121), (4, 0.06103678929765889), (8, 0.05569764137539075), (0, 0.05359584358764014), (4, 0.062233589087809064), (4, 0.06103678929765889), (0, 0.04347826086956519), (8, 0.06531029357116315), (6, 0.059885151763740783), (21, 0.062233589087809064), (21, 0.05988515176374077), (10, 0.059885151763740783), (21, 0.07790953008344312), (2, 0.06103678929765889), (6, 0.060054939850336296), (10, 0.05988515176374078), (6, 0.059885151763740783), (4, 0.05877616747181963), (12, 0.07112184648416532), (21, 0.059885151763740783), (12, 0.06906423331544102), (8, 0.06407802388114121), (8, 0.0661744599398414), (2, 0.059885151763740783), (2, 0.07317945965288956), (12, 0.06780851998243304), (6, 0.05877616747181963), (2, 0.06407802388114121), (0, 0.04347826086956519), (22, 0.062233589087809064), (2, 0.05890003716090675), (6, 0.06103678929765889), (16, 0.06103678929765888), (8, 0.05351899213791799), (6, 0.05877616747181963), (15, 0.06005493985033628), (8, 0.06827089599854162), (17, 0.05988515176374077), (8, 0.05877616747181963), (21, 0.0661744599398414), (12, 0.06103678929765889), (4, 0.062233589087809064), (2, 0.05134034290044522), (17, 0.07246376811594205), (12, 0.0661744599398414), (8, 0.05462653288740246), (6, 0.059885151763740783), (0, 0.04347826086956519), (12, 0.08084951235074286), (0, 0.04347826086956519), (6, 0.059885151763740783), (2, 0.08084951235074286), (10, 0.06223358908780905), (7, 0.055697641375390766), (16, 0.06103678929765888), (2, 0.063173541434411), (2, 0.06103678929765888), (0, 0.04347826086956519), (6, 0.051340342900445216), (17, 0.07665664023334244), (17, 0.05988515176374078), (0, 0.055697641375390766), (3, 0.065788317962231), (16, 0.057788715705040565), (6, 0.0772946859903381), (21, 0.0738573021181717), (11, 0.05988515176374078), (13, 0.07184892402283707), (2, 0.08026755852842811), (6, 0.07456020417464224), ...]  \n",
              "13              [(12, 0.07599405425492384), (2, 0.05671855430309535), (0, 0.04347826086956519), (0, 0.04347826086956519), (21, 0.06103678929765889), (20, 0.06103678929765888), (21, 0.062233589087809064), (0, 0.04347826086956519), (8, 0.05890003716090675), (16, 0.06103678929765888), (10, 0.06223358908780905), (1, 0.055697641375390766), (3, 0.05134034290044522), (9, 0.06103678929765889), (21, 0.065788317962231), (0, 0.06289139380926818), (6, 0.07453416149068319), (8, 0.0628913938092682), (1, 0.05569227964634036), (17, 0.07184892402283706), (8, 0.06461352657004828), (10, 0.059885151763740783), (15, 0.065788317962231), (10, 0.05667701863354037), (11, 0.0758893280632411), (19, 0.0796268532400466), (8, 0.07712518010000846), (6, 0.06083378064054391), (1, 0.06103678929765888), (6, 0.05988515176374077), (8, 0.06407802388114121), (4, 0.06103678929765889), (8, 0.05569764137539075), (0, 0.05359584358764014), (4, 0.062233589087809064), (4, 0.06103678929765889), (0, 0.04347826086956519), (8, 0.06531029357116315), (6, 0.059885151763740783), (21, 0.062233589087809064), (21, 0.05988515176374077), (10, 0.059885151763740783), (21, 0.07790953008344312), (2, 0.06103678929765889), (6, 0.060054939850336296), (10, 0.05988515176374078), (6, 0.059885151763740783), (4, 0.05877616747181963), (12, 0.07112184648416532), (21, 0.059885151763740783), (12, 0.06906423331544102), (8, 0.06407802388114121), (8, 0.0661744599398414), (2, 0.059885151763740783), (2, 0.07317945965288956), (12, 0.06780851998243304), (6, 0.05877616747181963), (2, 0.06407802388114121), (0, 0.04347826086956519), (22, 0.062233589087809064), (2, 0.05890003716090675), (6, 0.06103678929765889), (16, 0.06103678929765888), (8, 0.05351899213791799), (6, 0.05877616747181963), (15, 0.06005493985033628), (8, 0.06827089599854162), (17, 0.05988515176374077), (8, 0.05877616747181963), (21, 0.0661744599398414), (12, 0.06103678929765889), (4, 0.062233589087809064), (2, 0.05134034290044522), (17, 0.07246376811594205), (12, 0.0661744599398414), (8, 0.05462653288740246), (6, 0.059885151763740783), (0, 0.04347826086956519), (12, 0.08084951235074286), (0, 0.04347826086956519), (6, 0.059885151763740783), (2, 0.08084951235074286), (10, 0.06223358908780905), (7, 0.055697641375390766), (16, 0.06103678929765888), (2, 0.063173541434411), (2, 0.06103678929765888), (0, 0.04347826086956519), (6, 0.051340342900445216), (17, 0.07665664023334244), (17, 0.05988515176374078), (0, 0.055697641375390766), (3, 0.065788317962231), (16, 0.057788715705040565), (6, 0.0772946859903381), (21, 0.0738573021181717), (11, 0.05988515176374078), (13, 0.07184892402283707), (2, 0.08026755852842811), (6, 0.07456020417464224), ...]  \n",
              "14              [(12, 0.07599405425492384), (2, 0.05671855430309535), (0, 0.04347826086956519), (0, 0.04347826086956519), (21, 0.06103678929765889), (20, 0.06103678929765888), (21, 0.062233589087809064), (0, 0.04347826086956519), (8, 0.05890003716090675), (16, 0.06103678929765888), (10, 0.06223358908780905), (1, 0.055697641375390766), (3, 0.05134034290044522), (9, 0.06103678929765889), (21, 0.065788317962231), (0, 0.06289139380926818), (6, 0.07453416149068319), (8, 0.0628913938092682), (1, 0.05569227964634036), (17, 0.07184892402283706), (8, 0.06461352657004828), (10, 0.059885151763740783), (15, 0.065788317962231), (10, 0.05667701863354037), (11, 0.0758893280632411), (19, 0.0796268532400466), (8, 0.07712518010000846), (6, 0.06083378064054391), (1, 0.06103678929765888), (6, 0.05988515176374077), (8, 0.06407802388114121), (4, 0.06103678929765889), (8, 0.05569764137539075), (0, 0.05359584358764014), (4, 0.062233589087809064), (4, 0.06103678929765889), (0, 0.04347826086956519), (8, 0.06531029357116315), (6, 0.059885151763740783), (21, 0.062233589087809064), (21, 0.05988515176374077), (10, 0.059885151763740783), (21, 0.07790953008344312), (2, 0.06103678929765889), (6, 0.060054939850336296), (10, 0.05988515176374078), (6, 0.059885151763740783), (4, 0.05877616747181963), (12, 0.07112184648416532), (21, 0.059885151763740783), (12, 0.06906423331544102), (8, 0.06407802388114121), (8, 0.0661744599398414), (2, 0.059885151763740783), (2, 0.07317945965288956), (12, 0.06780851998243304), (6, 0.05877616747181963), (2, 0.06407802388114121), (0, 0.04347826086956519), (22, 0.062233589087809064), (2, 0.05890003716090675), (6, 0.06103678929765889), (16, 0.06103678929765888), (8, 0.05351899213791799), (6, 0.05877616747181963), (15, 0.06005493985033628), (8, 0.06827089599854162), (17, 0.05988515176374077), (8, 0.05877616747181963), (21, 0.0661744599398414), (12, 0.06103678929765889), (4, 0.062233589087809064), (2, 0.05134034290044522), (17, 0.07246376811594205), (12, 0.0661744599398414), (8, 0.05462653288740246), (6, 0.059885151763740783), (0, 0.04347826086956519), (12, 0.08084951235074286), (0, 0.04347826086956519), (6, 0.059885151763740783), (2, 0.08084951235074286), (10, 0.06223358908780905), (7, 0.055697641375390766), (16, 0.06103678929765888), (2, 0.063173541434411), (2, 0.06103678929765888), (0, 0.04347826086956519), (6, 0.051340342900445216), (17, 0.07665664023334244), (17, 0.05988515176374078), (0, 0.055697641375390766), (3, 0.065788317962231), (16, 0.057788715705040565), (6, 0.0772946859903381), (21, 0.0738573021181717), (11, 0.05988515176374078), (13, 0.07184892402283707), (2, 0.08026755852842811), (6, 0.07456020417464224), ...]  \n",
              "15              [(12, 0.07599405425492384), (2, 0.05671855430309535), (0, 0.04347826086956519), (0, 0.04347826086956519), (21, 0.06103678929765889), (20, 0.06103678929765888), (21, 0.062233589087809064), (0, 0.04347826086956519), (8, 0.05890003716090675), (16, 0.06103678929765888), (10, 0.06223358908780905), (1, 0.055697641375390766), (3, 0.05134034290044522), (9, 0.06103678929765889), (21, 0.065788317962231), (0, 0.06289139380926818), (6, 0.07453416149068319), (8, 0.0628913938092682), (1, 0.05569227964634036), (17, 0.07184892402283706), (8, 0.06461352657004828), (10, 0.059885151763740783), (15, 0.065788317962231), (10, 0.05667701863354037), (11, 0.0758893280632411), (19, 0.0796268532400466), (8, 0.07712518010000846), (6, 0.06083378064054391), (1, 0.06103678929765888), (6, 0.05988515176374077), (8, 0.06407802388114121), (4, 0.06103678929765889), (8, 0.05569764137539075), (0, 0.05359584358764014), (4, 0.062233589087809064), (4, 0.06103678929765889), (0, 0.04347826086956519), (8, 0.06531029357116315), (6, 0.059885151763740783), (21, 0.062233589087809064), (21, 0.05988515176374077), (10, 0.059885151763740783), (21, 0.07790953008344312), (2, 0.06103678929765889), (6, 0.060054939850336296), (10, 0.05988515176374078), (6, 0.059885151763740783), (4, 0.05877616747181963), (12, 0.07112184648416532), (21, 0.059885151763740783), (12, 0.06906423331544102), (8, 0.06407802388114121), (8, 0.0661744599398414), (2, 0.059885151763740783), (2, 0.07317945965288956), (12, 0.06780851998243304), (6, 0.05877616747181963), (2, 0.06407802388114121), (0, 0.04347826086956519), (22, 0.062233589087809064), (2, 0.05890003716090675), (6, 0.06103678929765889), (16, 0.06103678929765888), (8, 0.05351899213791799), (6, 0.05877616747181963), (15, 0.06005493985033628), (8, 0.06827089599854162), (17, 0.05988515176374077), (8, 0.05877616747181963), (21, 0.0661744599398414), (12, 0.06103678929765889), (4, 0.062233589087809064), (2, 0.05134034290044522), (17, 0.07246376811594205), (12, 0.0661744599398414), (8, 0.05462653288740246), (6, 0.059885151763740783), (0, 0.04347826086956519), (12, 0.08084951235074286), (0, 0.04347826086956519), (6, 0.059885151763740783), (2, 0.08084951235074286), (10, 0.06223358908780905), (7, 0.055697641375390766), (16, 0.06103678929765888), (2, 0.063173541434411), (2, 0.06103678929765888), (0, 0.04347826086956519), (6, 0.051340342900445216), (17, 0.07665664023334244), (17, 0.05988515176374078), (0, 0.055697641375390766), (3, 0.065788317962231), (16, 0.057788715705040565), (6, 0.0772946859903381), (21, 0.0738573021181717), (11, 0.05988515176374078), (13, 0.07184892402283707), (2, 0.08026755852842811), (6, 0.07456020417464224), ...]  \n",
              "16              [(12, 0.07599405425492384), (2, 0.05671855430309535), (0, 0.04347826086956519), (0, 0.04347826086956519), (21, 0.06103678929765889), (20, 0.06103678929765888), (21, 0.062233589087809064), (0, 0.04347826086956519), (8, 0.05890003716090675), (16, 0.06103678929765888), (10, 0.06223358908780905), (1, 0.055697641375390766), (3, 0.05134034290044522), (9, 0.06103678929765889), (21, 0.065788317962231), (0, 0.06289139380926818), (6, 0.07453416149068319), (8, 0.0628913938092682), (1, 0.05569227964634036), (17, 0.07184892402283706), (8, 0.06461352657004828), (10, 0.059885151763740783), (15, 0.065788317962231), (10, 0.05667701863354037), (11, 0.0758893280632411), (19, 0.0796268532400466), (8, 0.07712518010000846), (6, 0.06083378064054391), (1, 0.06103678929765888), (6, 0.05988515176374077), (8, 0.06407802388114121), (4, 0.06103678929765889), (8, 0.05569764137539075), (0, 0.05359584358764014), (4, 0.062233589087809064), (4, 0.06103678929765889), (0, 0.04347826086956519), (8, 0.06531029357116315), (6, 0.059885151763740783), (21, 0.062233589087809064), (21, 0.05988515176374077), (10, 0.059885151763740783), (21, 0.07790953008344312), (2, 0.06103678929765889), (6, 0.060054939850336296), (10, 0.05988515176374078), (6, 0.059885151763740783), (4, 0.05877616747181963), (12, 0.07112184648416532), (21, 0.059885151763740783), (12, 0.06906423331544102), (8, 0.06407802388114121), (8, 0.0661744599398414), (2, 0.059885151763740783), (2, 0.07317945965288956), (12, 0.06780851998243304), (6, 0.05877616747181963), (2, 0.06407802388114121), (0, 0.04347826086956519), (22, 0.062233589087809064), (2, 0.05890003716090675), (6, 0.06103678929765889), (16, 0.06103678929765888), (8, 0.05351899213791799), (6, 0.05877616747181963), (15, 0.06005493985033628), (8, 0.06827089599854162), (17, 0.05988515176374077), (8, 0.05877616747181963), (21, 0.0661744599398414), (12, 0.06103678929765889), (4, 0.062233589087809064), (2, 0.05134034290044522), (17, 0.07246376811594205), (12, 0.0661744599398414), (8, 0.05462653288740246), (6, 0.059885151763740783), (0, 0.04347826086956519), (12, 0.08084951235074286), (0, 0.04347826086956519), (6, 0.059885151763740783), (2, 0.08084951235074286), (10, 0.06223358908780905), (7, 0.055697641375390766), (16, 0.06103678929765888), (2, 0.063173541434411), (2, 0.06103678929765888), (0, 0.04347826086956519), (6, 0.051340342900445216), (17, 0.07665664023334244), (17, 0.05988515176374078), (0, 0.055697641375390766), (3, 0.065788317962231), (16, 0.057788715705040565), (6, 0.0772946859903381), (21, 0.0738573021181717), (11, 0.05988515176374078), (13, 0.07184892402283707), (2, 0.08026755852842811), (6, 0.07456020417464224), ...]  \n",
              "17              [(12, 0.07599405425492384), (2, 0.05671855430309535), (0, 0.04347826086956519), (0, 0.04347826086956519), (21, 0.06103678929765889), (20, 0.06103678929765888), (21, 0.062233589087809064), (0, 0.04347826086956519), (8, 0.05890003716090675), (16, 0.06103678929765888), (10, 0.06223358908780905), (1, 0.055697641375390766), (3, 0.05134034290044522), (9, 0.06103678929765889), (21, 0.065788317962231), (0, 0.06289139380926818), (6, 0.07453416149068319), (8, 0.0628913938092682), (1, 0.05569227964634036), (17, 0.07184892402283706), (8, 0.06461352657004828), (10, 0.059885151763740783), (15, 0.065788317962231), (10, 0.05667701863354037), (11, 0.0758893280632411), (19, 0.0796268532400466), (8, 0.07712518010000846), (6, 0.06083378064054391), (1, 0.06103678929765888), (6, 0.05988515176374077), (8, 0.06407802388114121), (4, 0.06103678929765889), (8, 0.05569764137539075), (0, 0.05359584358764014), (4, 0.062233589087809064), (4, 0.06103678929765889), (0, 0.04347826086956519), (8, 0.06531029357116315), (6, 0.059885151763740783), (21, 0.062233589087809064), (21, 0.05988515176374077), (10, 0.059885151763740783), (21, 0.07790953008344312), (2, 0.06103678929765889), (6, 0.060054939850336296), (10, 0.05988515176374078), (6, 0.059885151763740783), (4, 0.05877616747181963), (12, 0.07112184648416532), (21, 0.059885151763740783), (12, 0.06906423331544102), (8, 0.06407802388114121), (8, 0.0661744599398414), (2, 0.059885151763740783), (2, 0.07317945965288956), (12, 0.06780851998243304), (6, 0.05877616747181963), (2, 0.06407802388114121), (0, 0.04347826086956519), (22, 0.062233589087809064), (2, 0.05890003716090675), (6, 0.06103678929765889), (16, 0.06103678929765888), (8, 0.05351899213791799), (6, 0.05877616747181963), (15, 0.06005493985033628), (8, 0.06827089599854162), (17, 0.05988515176374077), (8, 0.05877616747181963), (21, 0.0661744599398414), (12, 0.06103678929765889), (4, 0.062233589087809064), (2, 0.05134034290044522), (17, 0.07246376811594205), (12, 0.0661744599398414), (8, 0.05462653288740246), (6, 0.059885151763740783), (0, 0.04347826086956519), (12, 0.08084951235074286), (0, 0.04347826086956519), (6, 0.059885151763740783), (2, 0.08084951235074286), (10, 0.06223358908780905), (7, 0.055697641375390766), (16, 0.06103678929765888), (2, 0.063173541434411), (2, 0.06103678929765888), (0, 0.04347826086956519), (6, 0.051340342900445216), (17, 0.07665664023334244), (17, 0.05988515176374078), (0, 0.055697641375390766), (3, 0.065788317962231), (16, 0.057788715705040565), (6, 0.0772946859903381), (21, 0.0738573021181717), (11, 0.05988515176374078), (13, 0.07184892402283707), (2, 0.08026755852842811), (6, 0.07456020417464224), ...]  \n",
              "18              [(12, 0.07599405425492384), (2, 0.05671855430309535), (0, 0.04347826086956519), (0, 0.04347826086956519), (21, 0.06103678929765889), (20, 0.06103678929765888), (21, 0.062233589087809064), (0, 0.04347826086956519), (8, 0.05890003716090675), (16, 0.06103678929765888), (10, 0.06223358908780905), (1, 0.055697641375390766), (3, 0.05134034290044522), (9, 0.06103678929765889), (21, 0.065788317962231), (0, 0.06289139380926818), (6, 0.07453416149068319), (8, 0.0628913938092682), (1, 0.05569227964634036), (17, 0.07184892402283706), (8, 0.06461352657004828), (10, 0.059885151763740783), (15, 0.065788317962231), (10, 0.05667701863354037), (11, 0.0758893280632411), (19, 0.0796268532400466), (8, 0.07712518010000846), (6, 0.06083378064054391), (1, 0.06103678929765888), (6, 0.05988515176374077), (8, 0.06407802388114121), (4, 0.06103678929765889), (8, 0.05569764137539075), (0, 0.05359584358764014), (4, 0.062233589087809064), (4, 0.06103678929765889), (0, 0.04347826086956519), (8, 0.06531029357116315), (6, 0.059885151763740783), (21, 0.062233589087809064), (21, 0.05988515176374077), (10, 0.059885151763740783), (21, 0.07790953008344312), (2, 0.06103678929765889), (6, 0.060054939850336296), (10, 0.05988515176374078), (6, 0.059885151763740783), (4, 0.05877616747181963), (12, 0.07112184648416532), (21, 0.059885151763740783), (12, 0.06906423331544102), (8, 0.06407802388114121), (8, 0.0661744599398414), (2, 0.059885151763740783), (2, 0.07317945965288956), (12, 0.06780851998243304), (6, 0.05877616747181963), (2, 0.06407802388114121), (0, 0.04347826086956519), (22, 0.062233589087809064), (2, 0.05890003716090675), (6, 0.06103678929765889), (16, 0.06103678929765888), (8, 0.05351899213791799), (6, 0.05877616747181963), (15, 0.06005493985033628), (8, 0.06827089599854162), (17, 0.05988515176374077), (8, 0.05877616747181963), (21, 0.0661744599398414), (12, 0.06103678929765889), (4, 0.062233589087809064), (2, 0.05134034290044522), (17, 0.07246376811594205), (12, 0.0661744599398414), (8, 0.05462653288740246), (6, 0.059885151763740783), (0, 0.04347826086956519), (12, 0.08084951235074286), (0, 0.04347826086956519), (6, 0.059885151763740783), (2, 0.08084951235074286), (10, 0.06223358908780905), (7, 0.055697641375390766), (16, 0.06103678929765888), (2, 0.063173541434411), (2, 0.06103678929765888), (0, 0.04347826086956519), (6, 0.051340342900445216), (17, 0.07665664023334244), (17, 0.05988515176374078), (0, 0.055697641375390766), (3, 0.065788317962231), (16, 0.057788715705040565), (6, 0.0772946859903381), (21, 0.0738573021181717), (11, 0.05988515176374078), (13, 0.07184892402283707), (2, 0.08026755852842811), (6, 0.07456020417464224), ...]  \n",
              "19              [(12, 0.07599405425492384), (2, 0.05671855430309535), (0, 0.04347826086956519), (0, 0.04347826086956519), (21, 0.06103678929765889), (20, 0.06103678929765888), (21, 0.062233589087809064), (0, 0.04347826086956519), (8, 0.05890003716090675), (16, 0.06103678929765888), (10, 0.06223358908780905), (1, 0.055697641375390766), (3, 0.05134034290044522), (9, 0.06103678929765889), (21, 0.065788317962231), (0, 0.06289139380926818), (6, 0.07453416149068319), (8, 0.0628913938092682), (1, 0.05569227964634036), (17, 0.07184892402283706), (8, 0.06461352657004828), (10, 0.059885151763740783), (15, 0.065788317962231), (10, 0.05667701863354037), (11, 0.0758893280632411), (19, 0.0796268532400466), (8, 0.07712518010000846), (6, 0.06083378064054391), (1, 0.06103678929765888), (6, 0.05988515176374077), (8, 0.06407802388114121), (4, 0.06103678929765889), (8, 0.05569764137539075), (0, 0.05359584358764014), (4, 0.062233589087809064), (4, 0.06103678929765889), (0, 0.04347826086956519), (8, 0.06531029357116315), (6, 0.059885151763740783), (21, 0.062233589087809064), (21, 0.05988515176374077), (10, 0.059885151763740783), (21, 0.07790953008344312), (2, 0.06103678929765889), (6, 0.060054939850336296), (10, 0.05988515176374078), (6, 0.059885151763740783), (4, 0.05877616747181963), (12, 0.07112184648416532), (21, 0.059885151763740783), (12, 0.06906423331544102), (8, 0.06407802388114121), (8, 0.0661744599398414), (2, 0.059885151763740783), (2, 0.07317945965288956), (12, 0.06780851998243304), (6, 0.05877616747181963), (2, 0.06407802388114121), (0, 0.04347826086956519), (22, 0.062233589087809064), (2, 0.05890003716090675), (6, 0.06103678929765889), (16, 0.06103678929765888), (8, 0.05351899213791799), (6, 0.05877616747181963), (15, 0.06005493985033628), (8, 0.06827089599854162), (17, 0.05988515176374077), (8, 0.05877616747181963), (21, 0.0661744599398414), (12, 0.06103678929765889), (4, 0.062233589087809064), (2, 0.05134034290044522), (17, 0.07246376811594205), (12, 0.0661744599398414), (8, 0.05462653288740246), (6, 0.059885151763740783), (0, 0.04347826086956519), (12, 0.08084951235074286), (0, 0.04347826086956519), (6, 0.059885151763740783), (2, 0.08084951235074286), (10, 0.06223358908780905), (7, 0.055697641375390766), (16, 0.06103678929765888), (2, 0.063173541434411), (2, 0.06103678929765888), (0, 0.04347826086956519), (6, 0.051340342900445216), (17, 0.07665664023334244), (17, 0.05988515176374078), (0, 0.055697641375390766), (3, 0.065788317962231), (16, 0.057788715705040565), (6, 0.0772946859903381), (21, 0.0738573021181717), (11, 0.05988515176374078), (13, 0.07184892402283707), (2, 0.08026755852842811), (6, 0.07456020417464224), ...]  \n",
              "20              [(12, 0.07599405425492384), (2, 0.05671855430309535), (0, 0.04347826086956519), (0, 0.04347826086956519), (21, 0.06103678929765889), (20, 0.06103678929765888), (21, 0.062233589087809064), (0, 0.04347826086956519), (8, 0.05890003716090675), (16, 0.06103678929765888), (10, 0.06223358908780905), (1, 0.055697641375390766), (3, 0.05134034290044522), (9, 0.06103678929765889), (21, 0.065788317962231), (0, 0.06289139380926818), (6, 0.07453416149068319), (8, 0.0628913938092682), (1, 0.05569227964634036), (17, 0.07184892402283706), (8, 0.06461352657004828), (10, 0.059885151763740783), (15, 0.065788317962231), (10, 0.05667701863354037), (11, 0.0758893280632411), (19, 0.0796268532400466), (8, 0.07712518010000846), (6, 0.06083378064054391), (1, 0.06103678929765888), (6, 0.05988515176374077), (8, 0.06407802388114121), (4, 0.06103678929765889), (8, 0.05569764137539075), (0, 0.05359584358764014), (4, 0.062233589087809064), (4, 0.06103678929765889), (0, 0.04347826086956519), (8, 0.06531029357116315), (6, 0.059885151763740783), (21, 0.062233589087809064), (21, 0.05988515176374077), (10, 0.059885151763740783), (21, 0.07790953008344312), (2, 0.06103678929765889), (6, 0.060054939850336296), (10, 0.05988515176374078), (6, 0.059885151763740783), (4, 0.05877616747181963), (12, 0.07112184648416532), (21, 0.059885151763740783), (12, 0.06906423331544102), (8, 0.06407802388114121), (8, 0.0661744599398414), (2, 0.059885151763740783), (2, 0.07317945965288956), (12, 0.06780851998243304), (6, 0.05877616747181963), (2, 0.06407802388114121), (0, 0.04347826086956519), (22, 0.062233589087809064), (2, 0.05890003716090675), (6, 0.06103678929765889), (16, 0.06103678929765888), (8, 0.05351899213791799), (6, 0.05877616747181963), (15, 0.06005493985033628), (8, 0.06827089599854162), (17, 0.05988515176374077), (8, 0.05877616747181963), (21, 0.0661744599398414), (12, 0.06103678929765889), (4, 0.062233589087809064), (2, 0.05134034290044522), (17, 0.07246376811594205), (12, 0.0661744599398414), (8, 0.05462653288740246), (6, 0.059885151763740783), (0, 0.04347826086956519), (12, 0.08084951235074286), (0, 0.04347826086956519), (6, 0.059885151763740783), (2, 0.08084951235074286), (10, 0.06223358908780905), (7, 0.055697641375390766), (16, 0.06103678929765888), (2, 0.063173541434411), (2, 0.06103678929765888), (0, 0.04347826086956519), (6, 0.051340342900445216), (17, 0.07665664023334244), (17, 0.05988515176374078), (0, 0.055697641375390766), (3, 0.065788317962231), (16, 0.057788715705040565), (6, 0.0772946859903381), (21, 0.0738573021181717), (11, 0.05988515176374078), (13, 0.07184892402283707), (2, 0.08026755852842811), (6, 0.07456020417464224), ...]  \n",
              "21              [(12, 0.07599405425492384), (2, 0.05671855430309535), (0, 0.04347826086956519), (0, 0.04347826086956519), (21, 0.06103678929765889), (20, 0.06103678929765888), (21, 0.062233589087809064), (0, 0.04347826086956519), (8, 0.05890003716090675), (16, 0.06103678929765888), (10, 0.06223358908780905), (1, 0.055697641375390766), (3, 0.05134034290044522), (9, 0.06103678929765889), (21, 0.065788317962231), (0, 0.06289139380926818), (6, 0.07453416149068319), (8, 0.0628913938092682), (1, 0.05569227964634036), (17, 0.07184892402283706), (8, 0.06461352657004828), (10, 0.059885151763740783), (15, 0.065788317962231), (10, 0.05667701863354037), (11, 0.0758893280632411), (19, 0.0796268532400466), (8, 0.07712518010000846), (6, 0.06083378064054391), (1, 0.06103678929765888), (6, 0.05988515176374077), (8, 0.06407802388114121), (4, 0.06103678929765889), (8, 0.05569764137539075), (0, 0.05359584358764014), (4, 0.062233589087809064), (4, 0.06103678929765889), (0, 0.04347826086956519), (8, 0.06531029357116315), (6, 0.059885151763740783), (21, 0.062233589087809064), (21, 0.05988515176374077), (10, 0.059885151763740783), (21, 0.07790953008344312), (2, 0.06103678929765889), (6, 0.060054939850336296), (10, 0.05988515176374078), (6, 0.059885151763740783), (4, 0.05877616747181963), (12, 0.07112184648416532), (21, 0.059885151763740783), (12, 0.06906423331544102), (8, 0.06407802388114121), (8, 0.0661744599398414), (2, 0.059885151763740783), (2, 0.07317945965288956), (12, 0.06780851998243304), (6, 0.05877616747181963), (2, 0.06407802388114121), (0, 0.04347826086956519), (22, 0.062233589087809064), (2, 0.05890003716090675), (6, 0.06103678929765889), (16, 0.06103678929765888), (8, 0.05351899213791799), (6, 0.05877616747181963), (15, 0.06005493985033628), (8, 0.06827089599854162), (17, 0.05988515176374077), (8, 0.05877616747181963), (21, 0.0661744599398414), (12, 0.06103678929765889), (4, 0.062233589087809064), (2, 0.05134034290044522), (17, 0.07246376811594205), (12, 0.0661744599398414), (8, 0.05462653288740246), (6, 0.059885151763740783), (0, 0.04347826086956519), (12, 0.08084951235074286), (0, 0.04347826086956519), (6, 0.059885151763740783), (2, 0.08084951235074286), (10, 0.06223358908780905), (7, 0.055697641375390766), (16, 0.06103678929765888), (2, 0.063173541434411), (2, 0.06103678929765888), (0, 0.04347826086956519), (6, 0.051340342900445216), (17, 0.07665664023334244), (17, 0.05988515176374078), (0, 0.055697641375390766), (3, 0.065788317962231), (16, 0.057788715705040565), (6, 0.0772946859903381), (21, 0.0738573021181717), (11, 0.05988515176374078), (13, 0.07184892402283707), (2, 0.08026755852842811), (6, 0.07456020417464224), ...]  \n",
              "22              [(12, 0.07599405425492384), (2, 0.05671855430309535), (0, 0.04347826086956519), (0, 0.04347826086956519), (21, 0.06103678929765889), (20, 0.06103678929765888), (21, 0.062233589087809064), (0, 0.04347826086956519), (8, 0.05890003716090675), (16, 0.06103678929765888), (10, 0.06223358908780905), (1, 0.055697641375390766), (3, 0.05134034290044522), (9, 0.06103678929765889), (21, 0.065788317962231), (0, 0.06289139380926818), (6, 0.07453416149068319), (8, 0.0628913938092682), (1, 0.05569227964634036), (17, 0.07184892402283706), (8, 0.06461352657004828), (10, 0.059885151763740783), (15, 0.065788317962231), (10, 0.05667701863354037), (11, 0.0758893280632411), (19, 0.0796268532400466), (8, 0.07712518010000846), (6, 0.06083378064054391), (1, 0.06103678929765888), (6, 0.05988515176374077), (8, 0.06407802388114121), (4, 0.06103678929765889), (8, 0.05569764137539075), (0, 0.05359584358764014), (4, 0.062233589087809064), (4, 0.06103678929765889), (0, 0.04347826086956519), (8, 0.06531029357116315), (6, 0.059885151763740783), (21, 0.062233589087809064), (21, 0.05988515176374077), (10, 0.059885151763740783), (21, 0.07790953008344312), (2, 0.06103678929765889), (6, 0.060054939850336296), (10, 0.05988515176374078), (6, 0.059885151763740783), (4, 0.05877616747181963), (12, 0.07112184648416532), (21, 0.059885151763740783), (12, 0.06906423331544102), (8, 0.06407802388114121), (8, 0.0661744599398414), (2, 0.059885151763740783), (2, 0.07317945965288956), (12, 0.06780851998243304), (6, 0.05877616747181963), (2, 0.06407802388114121), (0, 0.04347826086956519), (22, 0.062233589087809064), (2, 0.05890003716090675), (6, 0.06103678929765889), (16, 0.06103678929765888), (8, 0.05351899213791799), (6, 0.05877616747181963), (15, 0.06005493985033628), (8, 0.06827089599854162), (17, 0.05988515176374077), (8, 0.05877616747181963), (21, 0.0661744599398414), (12, 0.06103678929765889), (4, 0.062233589087809064), (2, 0.05134034290044522), (17, 0.07246376811594205), (12, 0.0661744599398414), (8, 0.05462653288740246), (6, 0.059885151763740783), (0, 0.04347826086956519), (12, 0.08084951235074286), (0, 0.04347826086956519), (6, 0.059885151763740783), (2, 0.08084951235074286), (10, 0.06223358908780905), (7, 0.055697641375390766), (16, 0.06103678929765888), (2, 0.063173541434411), (2, 0.06103678929765888), (0, 0.04347826086956519), (6, 0.051340342900445216), (17, 0.07665664023334244), (17, 0.05988515176374078), (0, 0.055697641375390766), (3, 0.065788317962231), (16, 0.057788715705040565), (6, 0.0772946859903381), (21, 0.0738573021181717), (11, 0.05988515176374078), (13, 0.07184892402283707), (2, 0.08026755852842811), (6, 0.07456020417464224), ...]  \n",
              "23              [(12, 0.07599405425492384), (2, 0.05671855430309535), (0, 0.04347826086956519), (0, 0.04347826086956519), (21, 0.06103678929765889), (20, 0.06103678929765888), (21, 0.062233589087809064), (0, 0.04347826086956519), (8, 0.05890003716090675), (16, 0.06103678929765888), (10, 0.06223358908780905), (1, 0.055697641375390766), (3, 0.05134034290044522), (9, 0.06103678929765889), (21, 0.065788317962231), (0, 0.06289139380926818), (6, 0.07453416149068319), (8, 0.0628913938092682), (1, 0.05569227964634036), (17, 0.07184892402283706), (8, 0.06461352657004828), (10, 0.059885151763740783), (15, 0.065788317962231), (10, 0.05667701863354037), (11, 0.0758893280632411), (19, 0.0796268532400466), (8, 0.07712518010000846), (6, 0.06083378064054391), (1, 0.06103678929765888), (6, 0.05988515176374077), (8, 0.06407802388114121), (4, 0.06103678929765889), (8, 0.05569764137539075), (0, 0.05359584358764014), (4, 0.062233589087809064), (4, 0.06103678929765889), (0, 0.04347826086956519), (8, 0.06531029357116315), (6, 0.059885151763740783), (21, 0.062233589087809064), (21, 0.05988515176374077), (10, 0.059885151763740783), (21, 0.07790953008344312), (2, 0.06103678929765889), (6, 0.060054939850336296), (10, 0.05988515176374078), (6, 0.059885151763740783), (4, 0.05877616747181963), (12, 0.07112184648416532), (21, 0.059885151763740783), (12, 0.06906423331544102), (8, 0.06407802388114121), (8, 0.0661744599398414), (2, 0.059885151763740783), (2, 0.07317945965288956), (12, 0.06780851998243304), (6, 0.05877616747181963), (2, 0.06407802388114121), (0, 0.04347826086956519), (22, 0.062233589087809064), (2, 0.05890003716090675), (6, 0.06103678929765889), (16, 0.06103678929765888), (8, 0.05351899213791799), (6, 0.05877616747181963), (15, 0.06005493985033628), (8, 0.06827089599854162), (17, 0.05988515176374077), (8, 0.05877616747181963), (21, 0.0661744599398414), (12, 0.06103678929765889), (4, 0.062233589087809064), (2, 0.05134034290044522), (17, 0.07246376811594205), (12, 0.0661744599398414), (8, 0.05462653288740246), (6, 0.059885151763740783), (0, 0.04347826086956519), (12, 0.08084951235074286), (0, 0.04347826086956519), (6, 0.059885151763740783), (2, 0.08084951235074286), (10, 0.06223358908780905), (7, 0.055697641375390766), (16, 0.06103678929765888), (2, 0.063173541434411), (2, 0.06103678929765888), (0, 0.04347826086956519), (6, 0.051340342900445216), (17, 0.07665664023334244), (17, 0.05988515176374078), (0, 0.055697641375390766), (3, 0.065788317962231), (16, 0.057788715705040565), (6, 0.0772946859903381), (21, 0.0738573021181717), (11, 0.05988515176374078), (13, 0.07184892402283707), (2, 0.08026755852842811), (6, 0.07456020417464224), ...]  "
            ],
            "text/html": [
              "\n",
              "  <div id=\"df-3e4ccd97-79cc-41e1-828b-c40fb3403592\">\n",
              "    <div class=\"colab-df-container\">\n",
              "      <div>\n",
              "<style scoped>\n",
              "    .dataframe tbody tr th:only-of-type {\n",
              "        vertical-align: middle;\n",
              "    }\n",
              "\n",
              "    .dataframe tbody tr th {\n",
              "        vertical-align: top;\n",
              "    }\n",
              "\n",
              "    .dataframe thead th {\n",
              "        text-align: right;\n",
              "    }\n",
              "</style>\n",
              "<table border=\"1\" class=\"dataframe\">\n",
              "  <thead>\n",
              "    <tr style=\"text-align: right;\">\n",
              "      <th></th>\n",
              "      <th>Document</th>\n",
              "      <th>Dominant Topic</th>\n",
              "      <th>Contribution %</th>\n",
              "      <th>Topic Desc</th>\n",
              "      <th>Paper</th>\n",
              "    </tr>\n",
              "    <tr>\n",
              "      <th>Dominant Topic</th>\n",
              "      <th></th>\n",
              "      <th></th>\n",
              "      <th></th>\n",
              "      <th></th>\n",
              "      <th></th>\n",
              "    </tr>\n",
              "  </thead>\n",
              "  <tbody>\n",
              "    <tr>\n",
              "      <th>1</th>\n",
              "      <td>809</td>\n",
              "      <td>1</td>\n",
              "      <td>7.39</td>\n",
              "      <td>achievement, concept, academic, variable, pair, journal, cid, test, across, org, oller, analysis, educational, path, et_al, older, within, showed, pattern, wa, mz, study, fit</td>\n",
              "      <td>[(12, 0.07599405425492384), (2, 0.05671855430309535), (0, 0.04347826086956519), (0, 0.04347826086956519), (21, 0.06103678929765889), (20, 0.06103678929765888), (21, 0.062233589087809064), (0, 0.04347826086956519), (8, 0.05890003716090675), (16, 0.06103678929765888), (10, 0.06223358908780905), (1, 0.055697641375390766), (3, 0.05134034290044522), (9, 0.06103678929765889), (21, 0.065788317962231), (0, 0.06289139380926818), (6, 0.07453416149068319), (8, 0.0628913938092682), (1, 0.05569227964634036), (17, 0.07184892402283706), (8, 0.06461352657004828), (10, 0.059885151763740783), (15, 0.065788317962231), (10, 0.05667701863354037), (11, 0.0758893280632411), (19, 0.0796268532400466), (8, 0.07712518010000846), (6, 0.06083378064054391), (1, 0.06103678929765888), (6, 0.05988515176374077), (8, 0.06407802388114121), (4, 0.06103678929765889), (8, 0.05569764137539075), (0, 0.05359584358764014), (4, 0.062233589087809064), (4, 0.06103678929765889), (0, 0.04347826086956519), (8, 0.06531029357116315), (6, 0.059885151763740783), (21, 0.062233589087809064), (21, 0.05988515176374077), (10, 0.059885151763740783), (21, 0.07790953008344312), (2, 0.06103678929765889), (6, 0.060054939850336296), (10, 0.05988515176374078), (6, 0.059885151763740783), (4, 0.05877616747181963), (12, 0.07112184648416532), (21, 0.059885151763740783), (12, 0.06906423331544102), (8, 0.06407802388114121), (8, 0.0661744599398414), (2, 0.059885151763740783), (2, 0.07317945965288956), (12, 0.06780851998243304), (6, 0.05877616747181963), (2, 0.06407802388114121), (0, 0.04347826086956519), (22, 0.062233589087809064), (2, 0.05890003716090675), (6, 0.06103678929765889), (16, 0.06103678929765888), (8, 0.05351899213791799), (6, 0.05877616747181963), (15, 0.06005493985033628), (8, 0.06827089599854162), (17, 0.05988515176374077), (8, 0.05877616747181963), (21, 0.0661744599398414), (12, 0.06103678929765889), (4, 0.062233589087809064), (2, 0.05134034290044522), (17, 0.07246376811594205), (12, 0.0661744599398414), (8, 0.05462653288740246), (6, 0.059885151763740783), (0, 0.04347826086956519), (12, 0.08084951235074286), (0, 0.04347826086956519), (6, 0.059885151763740783), (2, 0.08084951235074286), (10, 0.06223358908780905), (7, 0.055697641375390766), (16, 0.06103678929765888), (2, 0.063173541434411), (2, 0.06103678929765888), (0, 0.04347826086956519), (6, 0.051340342900445216), (17, 0.07665664023334244), (17, 0.05988515176374078), (0, 0.055697641375390766), (3, 0.065788317962231), (16, 0.057788715705040565), (6, 0.0772946859903381), (21, 0.0738573021181717), (11, 0.05988515176374078), (13, 0.07184892402283707), (2, 0.08026755852842811), (6, 0.07456020417464224), ...]</td>\n",
              "    </tr>\n",
              "    <tr>\n",
              "      <th>2</th>\n",
              "      <td>400</td>\n",
              "      <td>2</td>\n",
              "      <td>7.88</td>\n",
              "      <td>twin, mirror_effect, pair, older, test, path, journal, fit, table, across, org, oller, analysis, study, educational, et_al, within, showed, pattern, wa, grade, cid, variable</td>\n",
              "      <td>[(12, 0.07599405425492384), (2, 0.05671855430309535), (0, 0.04347826086956519), (0, 0.04347826086956519), (21, 0.06103678929765889), (20, 0.06103678929765888), (21, 0.062233589087809064), (0, 0.04347826086956519), (8, 0.05890003716090675), (16, 0.06103678929765888), (10, 0.06223358908780905), (1, 0.055697641375390766), (3, 0.05134034290044522), (9, 0.06103678929765889), (21, 0.065788317962231), (0, 0.06289139380926818), (6, 0.07453416149068319), (8, 0.0628913938092682), (1, 0.05569227964634036), (17, 0.07184892402283706), (8, 0.06461352657004828), (10, 0.059885151763740783), (15, 0.065788317962231), (10, 0.05667701863354037), (11, 0.0758893280632411), (19, 0.0796268532400466), (8, 0.07712518010000846), (6, 0.06083378064054391), (1, 0.06103678929765888), (6, 0.05988515176374077), (8, 0.06407802388114121), (4, 0.06103678929765889), (8, 0.05569764137539075), (0, 0.05359584358764014), (4, 0.062233589087809064), (4, 0.06103678929765889), (0, 0.04347826086956519), (8, 0.06531029357116315), (6, 0.059885151763740783), (21, 0.062233589087809064), (21, 0.05988515176374077), (10, 0.059885151763740783), (21, 0.07790953008344312), (2, 0.06103678929765889), (6, 0.060054939850336296), (10, 0.05988515176374078), (6, 0.059885151763740783), (4, 0.05877616747181963), (12, 0.07112184648416532), (21, 0.059885151763740783), (12, 0.06906423331544102), (8, 0.06407802388114121), (8, 0.0661744599398414), (2, 0.059885151763740783), (2, 0.07317945965288956), (12, 0.06780851998243304), (6, 0.05877616747181963), (2, 0.06407802388114121), (0, 0.04347826086956519), (22, 0.062233589087809064), (2, 0.05890003716090675), (6, 0.06103678929765889), (16, 0.06103678929765888), (8, 0.05351899213791799), (6, 0.05877616747181963), (15, 0.06005493985033628), (8, 0.06827089599854162), (17, 0.05988515176374077), (8, 0.05877616747181963), (21, 0.0661744599398414), (12, 0.06103678929765889), (4, 0.062233589087809064), (2, 0.05134034290044522), (17, 0.07246376811594205), (12, 0.0661744599398414), (8, 0.05462653288740246), (6, 0.059885151763740783), (0, 0.04347826086956519), (12, 0.08084951235074286), (0, 0.04347826086956519), (6, 0.059885151763740783), (2, 0.08084951235074286), (10, 0.06223358908780905), (7, 0.055697641375390766), (16, 0.06103678929765888), (2, 0.063173541434411), (2, 0.06103678929765888), (0, 0.04347826086956519), (6, 0.051340342900445216), (17, 0.07665664023334244), (17, 0.05988515176374078), (0, 0.055697641375390766), (3, 0.065788317962231), (16, 0.057788715705040565), (6, 0.0772946859903381), (21, 0.0738573021181717), (11, 0.05988515176374078), (13, 0.07184892402283707), (2, 0.08026755852842811), (6, 0.07456020417464224), ...]</td>\n",
              "    </tr>\n",
              "    <tr>\n",
              "      <th>3</th>\n",
              "      <td>1243</td>\n",
              "      <td>3</td>\n",
              "      <td>8.71</td>\n",
              "      <td>student, similar, comparison, table, internal, personality, oller, journal, path, org, across, analysis, study, et_al, variable, older, within, showed, pattern, wa, dz, educational, fit</td>\n",
              "      <td>[(12, 0.07599405425492384), (2, 0.05671855430309535), (0, 0.04347826086956519), (0, 0.04347826086956519), (21, 0.06103678929765889), (20, 0.06103678929765888), (21, 0.062233589087809064), (0, 0.04347826086956519), (8, 0.05890003716090675), (16, 0.06103678929765888), (10, 0.06223358908780905), (1, 0.055697641375390766), (3, 0.05134034290044522), (9, 0.06103678929765889), (21, 0.065788317962231), (0, 0.06289139380926818), (6, 0.07453416149068319), (8, 0.0628913938092682), (1, 0.05569227964634036), (17, 0.07184892402283706), (8, 0.06461352657004828), (10, 0.059885151763740783), (15, 0.065788317962231), (10, 0.05667701863354037), (11, 0.0758893280632411), (19, 0.0796268532400466), (8, 0.07712518010000846), (6, 0.06083378064054391), (1, 0.06103678929765888), (6, 0.05988515176374077), (8, 0.06407802388114121), (4, 0.06103678929765889), (8, 0.05569764137539075), (0, 0.05359584358764014), (4, 0.062233589087809064), (4, 0.06103678929765889), (0, 0.04347826086956519), (8, 0.06531029357116315), (6, 0.059885151763740783), (21, 0.062233589087809064), (21, 0.05988515176374077), (10, 0.059885151763740783), (21, 0.07790953008344312), (2, 0.06103678929765889), (6, 0.060054939850336296), (10, 0.05988515176374078), (6, 0.059885151763740783), (4, 0.05877616747181963), (12, 0.07112184648416532), (21, 0.059885151763740783), (12, 0.06906423331544102), (8, 0.06407802388114121), (8, 0.0661744599398414), (2, 0.059885151763740783), (2, 0.07317945965288956), (12, 0.06780851998243304), (6, 0.05877616747181963), (2, 0.06407802388114121), (0, 0.04347826086956519), (22, 0.062233589087809064), (2, 0.05890003716090675), (6, 0.06103678929765889), (16, 0.06103678929765888), (8, 0.05351899213791799), (6, 0.05877616747181963), (15, 0.06005493985033628), (8, 0.06827089599854162), (17, 0.05988515176374077), (8, 0.05877616747181963), (21, 0.0661744599398414), (12, 0.06103678929765889), (4, 0.062233589087809064), (2, 0.05134034290044522), (17, 0.07246376811594205), (12, 0.0661744599398414), (8, 0.05462653288740246), (6, 0.059885151763740783), (0, 0.04347826086956519), (12, 0.08084951235074286), (0, 0.04347826086956519), (6, 0.059885151763740783), (2, 0.08084951235074286), (10, 0.06223358908780905), (7, 0.055697641375390766), (16, 0.06103678929765888), (2, 0.063173541434411), (2, 0.06103678929765888), (0, 0.04347826086956519), (6, 0.051340342900445216), (17, 0.07665664023334244), (17, 0.05988515176374078), (0, 0.055697641375390766), (3, 0.065788317962231), (16, 0.057788715705040565), (6, 0.0772946859903381), (21, 0.0738573021181717), (11, 0.05988515176374078), (13, 0.07184892402283707), (2, 0.08026755852842811), (6, 0.07456020417464224), ...]</td>\n",
              "    </tr>\n",
              "    <tr>\n",
              "      <th>4</th>\n",
              "      <td>388</td>\n",
              "      <td>4</td>\n",
              "      <td>7.26</td>\n",
              "      <td>twin, mz, domain, test, cid, path, journal, fit, table, across, org, oller, analysis, study, educational, et_al, older, within, showed, pattern, wa, variable, dz</td>\n",
              "      <td>[(12, 0.07599405425492384), (2, 0.05671855430309535), (0, 0.04347826086956519), (0, 0.04347826086956519), (21, 0.06103678929765889), (20, 0.06103678929765888), (21, 0.062233589087809064), (0, 0.04347826086956519), (8, 0.05890003716090675), (16, 0.06103678929765888), (10, 0.06223358908780905), (1, 0.055697641375390766), (3, 0.05134034290044522), (9, 0.06103678929765889), (21, 0.065788317962231), (0, 0.06289139380926818), (6, 0.07453416149068319), (8, 0.0628913938092682), (1, 0.05569227964634036), (17, 0.07184892402283706), (8, 0.06461352657004828), (10, 0.059885151763740783), (15, 0.065788317962231), (10, 0.05667701863354037), (11, 0.0758893280632411), (19, 0.0796268532400466), (8, 0.07712518010000846), (6, 0.06083378064054391), (1, 0.06103678929765888), (6, 0.05988515176374077), (8, 0.06407802388114121), (4, 0.06103678929765889), (8, 0.05569764137539075), (0, 0.05359584358764014), (4, 0.062233589087809064), (4, 0.06103678929765889), (0, 0.04347826086956519), (8, 0.06531029357116315), (6, 0.059885151763740783), (21, 0.062233589087809064), (21, 0.05988515176374077), (10, 0.059885151763740783), (21, 0.07790953008344312), (2, 0.06103678929765889), (6, 0.060054939850336296), (10, 0.05988515176374078), (6, 0.059885151763740783), (4, 0.05877616747181963), (12, 0.07112184648416532), (21, 0.059885151763740783), (12, 0.06906423331544102), (8, 0.06407802388114121), (8, 0.0661744599398414), (2, 0.059885151763740783), (2, 0.07317945965288956), (12, 0.06780851998243304), (6, 0.05877616747181963), (2, 0.06407802388114121), (0, 0.04347826086956519), (22, 0.062233589087809064), (2, 0.05890003716090675), (6, 0.06103678929765889), (16, 0.06103678929765888), (8, 0.05351899213791799), (6, 0.05877616747181963), (15, 0.06005493985033628), (8, 0.06827089599854162), (17, 0.05988515176374077), (8, 0.05877616747181963), (21, 0.0661744599398414), (12, 0.06103678929765889), (4, 0.062233589087809064), (2, 0.05134034290044522), (17, 0.07246376811594205), (12, 0.0661744599398414), (8, 0.05462653288740246), (6, 0.059885151763740783), (0, 0.04347826086956519), (12, 0.08084951235074286), (0, 0.04347826086956519), (6, 0.059885151763740783), (2, 0.08084951235074286), (10, 0.06223358908780905), (7, 0.055697641375390766), (16, 0.06103678929765888), (2, 0.063173541434411), (2, 0.06103678929765888), (0, 0.04347826086956519), (6, 0.051340342900445216), (17, 0.07665664023334244), (17, 0.05988515176374078), (0, 0.055697641375390766), (3, 0.065788317962231), (16, 0.057788715705040565), (6, 0.0772946859903381), (21, 0.0738573021181717), (11, 0.05988515176374078), (13, 0.07184892402283707), (2, 0.08026755852842811), (6, 0.07456020417464224), ...]</td>\n",
              "    </tr>\n",
              "    <tr>\n",
              "      <th>5</th>\n",
              "      <td>667</td>\n",
              "      <td>5</td>\n",
              "      <td>9.76</td>\n",
              "      <td>et_al, variable, found, effect, individual, wa, path, journal, personality, pair, test, across, oller, org, study, cid, educational, older, within, showed, pattern, analysis, table</td>\n",
              "      <td>[(12, 0.07599405425492384), (2, 0.05671855430309535), (0, 0.04347826086956519), (0, 0.04347826086956519), (21, 0.06103678929765889), (20, 0.06103678929765888), (21, 0.062233589087809064), (0, 0.04347826086956519), (8, 0.05890003716090675), (16, 0.06103678929765888), (10, 0.06223358908780905), (1, 0.055697641375390766), (3, 0.05134034290044522), (9, 0.06103678929765889), (21, 0.065788317962231), (0, 0.06289139380926818), (6, 0.07453416149068319), (8, 0.0628913938092682), (1, 0.05569227964634036), (17, 0.07184892402283706), (8, 0.06461352657004828), (10, 0.059885151763740783), (15, 0.065788317962231), (10, 0.05667701863354037), (11, 0.0758893280632411), (19, 0.0796268532400466), (8, 0.07712518010000846), (6, 0.06083378064054391), (1, 0.06103678929765888), (6, 0.05988515176374077), (8, 0.06407802388114121), (4, 0.06103678929765889), (8, 0.05569764137539075), (0, 0.05359584358764014), (4, 0.062233589087809064), (4, 0.06103678929765889), (0, 0.04347826086956519), (8, 0.06531029357116315), (6, 0.059885151763740783), (21, 0.062233589087809064), (21, 0.05988515176374077), (10, 0.059885151763740783), (21, 0.07790953008344312), (2, 0.06103678929765889), (6, 0.060054939850336296), (10, 0.05988515176374078), (6, 0.059885151763740783), (4, 0.05877616747181963), (12, 0.07112184648416532), (21, 0.059885151763740783), (12, 0.06906423331544102), (8, 0.06407802388114121), (8, 0.0661744599398414), (2, 0.059885151763740783), (2, 0.07317945965288956), (12, 0.06780851998243304), (6, 0.05877616747181963), (2, 0.06407802388114121), (0, 0.04347826086956519), (22, 0.062233589087809064), (2, 0.05890003716090675), (6, 0.06103678929765889), (16, 0.06103678929765888), (8, 0.05351899213791799), (6, 0.05877616747181963), (15, 0.06005493985033628), (8, 0.06827089599854162), (17, 0.05988515176374077), (8, 0.05877616747181963), (21, 0.0661744599398414), (12, 0.06103678929765889), (4, 0.062233589087809064), (2, 0.05134034290044522), (17, 0.07246376811594205), (12, 0.0661744599398414), (8, 0.05462653288740246), (6, 0.059885151763740783), (0, 0.04347826086956519), (12, 0.08084951235074286), (0, 0.04347826086956519), (6, 0.059885151763740783), (2, 0.08084951235074286), (10, 0.06223358908780905), (7, 0.055697641375390766), (16, 0.06103678929765888), (2, 0.063173541434411), (2, 0.06103678929765888), (0, 0.04347826086956519), (6, 0.051340342900445216), (17, 0.07665664023334244), (17, 0.05988515176374078), (0, 0.055697641375390766), (3, 0.065788317962231), (16, 0.057788715705040565), (6, 0.0772946859903381), (21, 0.0738573021181717), (11, 0.05988515176374078), (13, 0.07184892402283707), (2, 0.08026755852842811), (6, 0.07456020417464224), ...]</td>\n",
              "    </tr>\n",
              "    <tr>\n",
              "      <th>6</th>\n",
              "      <td>1062</td>\n",
              "      <td>6</td>\n",
              "      <td>6.58</td>\n",
              "      <td>twin, data, analysis, school, org, test, path, journal, fit, table, across, oller, educational, cid, et_al, older, within, showed, pattern, wa, mz, study, variable</td>\n",
              "      <td>[(12, 0.07599405425492384), (2, 0.05671855430309535), (0, 0.04347826086956519), (0, 0.04347826086956519), (21, 0.06103678929765889), (20, 0.06103678929765888), (21, 0.062233589087809064), (0, 0.04347826086956519), (8, 0.05890003716090675), (16, 0.06103678929765888), (10, 0.06223358908780905), (1, 0.055697641375390766), (3, 0.05134034290044522), (9, 0.06103678929765889), (21, 0.065788317962231), (0, 0.06289139380926818), (6, 0.07453416149068319), (8, 0.0628913938092682), (1, 0.05569227964634036), (17, 0.07184892402283706), (8, 0.06461352657004828), (10, 0.059885151763740783), (15, 0.065788317962231), (10, 0.05667701863354037), (11, 0.0758893280632411), (19, 0.0796268532400466), (8, 0.07712518010000846), (6, 0.06083378064054391), (1, 0.06103678929765888), (6, 0.05988515176374077), (8, 0.06407802388114121), (4, 0.06103678929765889), (8, 0.05569764137539075), (0, 0.05359584358764014), (4, 0.062233589087809064), (4, 0.06103678929765889), (0, 0.04347826086956519), (8, 0.06531029357116315), (6, 0.059885151763740783), (21, 0.062233589087809064), (21, 0.05988515176374077), (10, 0.059885151763740783), (21, 0.07790953008344312), (2, 0.06103678929765889), (6, 0.060054939850336296), (10, 0.05988515176374078), (6, 0.059885151763740783), (4, 0.05877616747181963), (12, 0.07112184648416532), (21, 0.059885151763740783), (12, 0.06906423331544102), (8, 0.06407802388114121), (8, 0.0661744599398414), (2, 0.059885151763740783), (2, 0.07317945965288956), (12, 0.06780851998243304), (6, 0.05877616747181963), (2, 0.06407802388114121), (0, 0.04347826086956519), (22, 0.062233589087809064), (2, 0.05890003716090675), (6, 0.06103678929765889), (16, 0.06103678929765888), (8, 0.05351899213791799), (6, 0.05877616747181963), (15, 0.06005493985033628), (8, 0.06827089599854162), (17, 0.05988515176374077), (8, 0.05877616747181963), (21, 0.0661744599398414), (12, 0.06103678929765889), (4, 0.062233589087809064), (2, 0.05134034290044522), (17, 0.07246376811594205), (12, 0.0661744599398414), (8, 0.05462653288740246), (6, 0.059885151763740783), (0, 0.04347826086956519), (12, 0.08084951235074286), (0, 0.04347826086956519), (6, 0.059885151763740783), (2, 0.08084951235074286), (10, 0.06223358908780905), (7, 0.055697641375390766), (16, 0.06103678929765888), (2, 0.063173541434411), (2, 0.06103678929765888), (0, 0.04347826086956519), (6, 0.051340342900445216), (17, 0.07665664023334244), (17, 0.05988515176374078), (0, 0.055697641375390766), (3, 0.065788317962231), (16, 0.057788715705040565), (6, 0.0772946859903381), (21, 0.0738573021181717), (11, 0.05988515176374078), (13, 0.07184892402283707), (2, 0.08026755852842811), (6, 0.07456020417464224), ...]</td>\n",
              "    </tr>\n",
              "    <tr>\n",
              "      <th>7</th>\n",
              "      <td>1287</td>\n",
              "      <td>7</td>\n",
              "      <td>7.81</td>\n",
              "      <td>domain, data, contrast, mirror_effect, internal, dz, social, journal, cid, test, wa, org, oller, analysis, study, educational, et_al, older, within, showed, mz, table, path</td>\n",
              "      <td>[(12, 0.07599405425492384), (2, 0.05671855430309535), (0, 0.04347826086956519), (0, 0.04347826086956519), (21, 0.06103678929765889), (20, 0.06103678929765888), (21, 0.062233589087809064), (0, 0.04347826086956519), (8, 0.05890003716090675), (16, 0.06103678929765888), (10, 0.06223358908780905), (1, 0.055697641375390766), (3, 0.05134034290044522), (9, 0.06103678929765889), (21, 0.065788317962231), (0, 0.06289139380926818), (6, 0.07453416149068319), (8, 0.0628913938092682), (1, 0.05569227964634036), (17, 0.07184892402283706), (8, 0.06461352657004828), (10, 0.059885151763740783), (15, 0.065788317962231), (10, 0.05667701863354037), (11, 0.0758893280632411), (19, 0.0796268532400466), (8, 0.07712518010000846), (6, 0.06083378064054391), (1, 0.06103678929765888), (6, 0.05988515176374077), (8, 0.06407802388114121), (4, 0.06103678929765889), (8, 0.05569764137539075), (0, 0.05359584358764014), (4, 0.062233589087809064), (4, 0.06103678929765889), (0, 0.04347826086956519), (8, 0.06531029357116315), (6, 0.059885151763740783), (21, 0.062233589087809064), (21, 0.05988515176374077), (10, 0.059885151763740783), (21, 0.07790953008344312), (2, 0.06103678929765889), (6, 0.060054939850336296), (10, 0.05988515176374078), (6, 0.059885151763740783), (4, 0.05877616747181963), (12, 0.07112184648416532), (21, 0.059885151763740783), (12, 0.06906423331544102), (8, 0.06407802388114121), (8, 0.0661744599398414), (2, 0.059885151763740783), (2, 0.07317945965288956), (12, 0.06780851998243304), (6, 0.05877616747181963), (2, 0.06407802388114121), (0, 0.04347826086956519), (22, 0.062233589087809064), (2, 0.05890003716090675), (6, 0.06103678929765889), (16, 0.06103678929765888), (8, 0.05351899213791799), (6, 0.05877616747181963), (15, 0.06005493985033628), (8, 0.06827089599854162), (17, 0.05988515176374077), (8, 0.05877616747181963), (21, 0.0661744599398414), (12, 0.06103678929765889), (4, 0.062233589087809064), (2, 0.05134034290044522), (17, 0.07246376811594205), (12, 0.0661744599398414), (8, 0.05462653288740246), (6, 0.059885151763740783), (0, 0.04347826086956519), (12, 0.08084951235074286), (0, 0.04347826086956519), (6, 0.059885151763740783), (2, 0.08084951235074286), (10, 0.06223358908780905), (7, 0.055697641375390766), (16, 0.06103678929765888), (2, 0.063173541434411), (2, 0.06103678929765888), (0, 0.04347826086956519), (6, 0.051340342900445216), (17, 0.07665664023334244), (17, 0.05988515176374078), (0, 0.055697641375390766), (3, 0.065788317962231), (16, 0.057788715705040565), (6, 0.0772946859903381), (21, 0.0738573021181717), (11, 0.05988515176374078), (13, 0.07184892402283707), (2, 0.08026755852842811), (6, 0.07456020417464224), ...]</td>\n",
              "    </tr>\n",
              "    <tr>\n",
              "      <th>8</th>\n",
              "      <td>586</td>\n",
              "      <td>8</td>\n",
              "      <td>14.60</td>\n",
              "      <td>cid, wa, academic, found, individual, journal, org, fit, path, table, test, across, oller, analysis, educational, variable, et_al, older, within, showed, pattern, study, personality</td>\n",
              "      <td>[(12, 0.07599405425492384), (2, 0.05671855430309535), (0, 0.04347826086956519), (0, 0.04347826086956519), (21, 0.06103678929765889), (20, 0.06103678929765888), (21, 0.062233589087809064), (0, 0.04347826086956519), (8, 0.05890003716090675), (16, 0.06103678929765888), (10, 0.06223358908780905), (1, 0.055697641375390766), (3, 0.05134034290044522), (9, 0.06103678929765889), (21, 0.065788317962231), (0, 0.06289139380926818), (6, 0.07453416149068319), (8, 0.0628913938092682), (1, 0.05569227964634036), (17, 0.07184892402283706), (8, 0.06461352657004828), (10, 0.059885151763740783), (15, 0.065788317962231), (10, 0.05667701863354037), (11, 0.0758893280632411), (19, 0.0796268532400466), (8, 0.07712518010000846), (6, 0.06083378064054391), (1, 0.06103678929765888), (6, 0.05988515176374077), (8, 0.06407802388114121), (4, 0.06103678929765889), (8, 0.05569764137539075), (0, 0.05359584358764014), (4, 0.062233589087809064), (4, 0.06103678929765889), (0, 0.04347826086956519), (8, 0.06531029357116315), (6, 0.059885151763740783), (21, 0.062233589087809064), (21, 0.05988515176374077), (10, 0.059885151763740783), (21, 0.07790953008344312), (2, 0.06103678929765889), (6, 0.060054939850336296), (10, 0.05988515176374078), (6, 0.059885151763740783), (4, 0.05877616747181963), (12, 0.07112184648416532), (21, 0.059885151763740783), (12, 0.06906423331544102), (8, 0.06407802388114121), (8, 0.0661744599398414), (2, 0.059885151763740783), (2, 0.07317945965288956), (12, 0.06780851998243304), (6, 0.05877616747181963), (2, 0.06407802388114121), (0, 0.04347826086956519), (22, 0.062233589087809064), (2, 0.05890003716090675), (6, 0.06103678929765889), (16, 0.06103678929765888), (8, 0.05351899213791799), (6, 0.05877616747181963), (15, 0.06005493985033628), (8, 0.06827089599854162), (17, 0.05988515176374077), (8, 0.05877616747181963), (21, 0.0661744599398414), (12, 0.06103678929765889), (4, 0.062233589087809064), (2, 0.05134034290044522), (17, 0.07246376811594205), (12, 0.0661744599398414), (8, 0.05462653288740246), (6, 0.059885151763740783), (0, 0.04347826086956519), (12, 0.08084951235074286), (0, 0.04347826086956519), (6, 0.059885151763740783), (2, 0.08084951235074286), (10, 0.06223358908780905), (7, 0.055697641375390766), (16, 0.06103678929765888), (2, 0.063173541434411), (2, 0.06103678929765888), (0, 0.04347826086956519), (6, 0.051340342900445216), (17, 0.07665664023334244), (17, 0.05988515176374078), (0, 0.055697641375390766), (3, 0.065788317962231), (16, 0.057788715705040565), (6, 0.0772946859903381), (21, 0.0738573021181717), (11, 0.05988515176374078), (13, 0.07184892402283707), (2, 0.08026755852842811), (6, 0.07456020417464224), ...]</td>\n",
              "    </tr>\n",
              "    <tr>\n",
              "      <th>9</th>\n",
              "      <td>1138</td>\n",
              "      <td>9</td>\n",
              "      <td>7.94</td>\n",
              "      <td>concept, academic, model, analysis, table, journal, cid, dz, across, org, oller, study, test, educational, et_al, older, within, showed, pattern, wa, grade, path, pair</td>\n",
              "      <td>[(12, 0.07599405425492384), (2, 0.05671855430309535), (0, 0.04347826086956519), (0, 0.04347826086956519), (21, 0.06103678929765889), (20, 0.06103678929765888), (21, 0.062233589087809064), (0, 0.04347826086956519), (8, 0.05890003716090675), (16, 0.06103678929765888), (10, 0.06223358908780905), (1, 0.055697641375390766), (3, 0.05134034290044522), (9, 0.06103678929765889), (21, 0.065788317962231), (0, 0.06289139380926818), (6, 0.07453416149068319), (8, 0.0628913938092682), (1, 0.05569227964634036), (17, 0.07184892402283706), (8, 0.06461352657004828), (10, 0.059885151763740783), (15, 0.065788317962231), (10, 0.05667701863354037), (11, 0.0758893280632411), (19, 0.0796268532400466), (8, 0.07712518010000846), (6, 0.06083378064054391), (1, 0.06103678929765888), (6, 0.05988515176374077), (8, 0.06407802388114121), (4, 0.06103678929765889), (8, 0.05569764137539075), (0, 0.05359584358764014), (4, 0.062233589087809064), (4, 0.06103678929765889), (0, 0.04347826086956519), (8, 0.06531029357116315), (6, 0.059885151763740783), (21, 0.062233589087809064), (21, 0.05988515176374077), (10, 0.059885151763740783), (21, 0.07790953008344312), (2, 0.06103678929765889), (6, 0.060054939850336296), (10, 0.05988515176374078), (6, 0.059885151763740783), (4, 0.05877616747181963), (12, 0.07112184648416532), (21, 0.059885151763740783), (12, 0.06906423331544102), (8, 0.06407802388114121), (8, 0.0661744599398414), (2, 0.059885151763740783), (2, 0.07317945965288956), (12, 0.06780851998243304), (6, 0.05877616747181963), (2, 0.06407802388114121), (0, 0.04347826086956519), (22, 0.062233589087809064), (2, 0.05890003716090675), (6, 0.06103678929765889), (16, 0.06103678929765888), (8, 0.05351899213791799), (6, 0.05877616747181963), (15, 0.06005493985033628), (8, 0.06827089599854162), (17, 0.05988515176374077), (8, 0.05877616747181963), (21, 0.0661744599398414), (12, 0.06103678929765889), (4, 0.062233589087809064), (2, 0.05134034290044522), (17, 0.07246376811594205), (12, 0.0661744599398414), (8, 0.05462653288740246), (6, 0.059885151763740783), (0, 0.04347826086956519), (12, 0.08084951235074286), (0, 0.04347826086956519), (6, 0.059885151763740783), (2, 0.08084951235074286), (10, 0.06223358908780905), (7, 0.055697641375390766), (16, 0.06103678929765888), (2, 0.063173541434411), (2, 0.06103678929765888), (0, 0.04347826086956519), (6, 0.051340342900445216), (17, 0.07665664023334244), (17, 0.05988515176374078), (0, 0.055697641375390766), (3, 0.065788317962231), (16, 0.057788715705040565), (6, 0.0772946859903381), (21, 0.0738573021181717), (11, 0.05988515176374078), (13, 0.07184892402283707), (2, 0.08026755852842811), (6, 0.07456020417464224), ...]</td>\n",
              "    </tr>\n",
              "    <tr>\n",
              "      <th>10</th>\n",
              "      <td>593</td>\n",
              "      <td>10</td>\n",
              "      <td>9.58</td>\n",
              "      <td>analysis, regression, difference, path, fit, dz, table, oller, journal, reported, pair, mathematics, study, older, et_al, cid, within, showed, pattern, wa, group, educational, variable</td>\n",
              "      <td>[(12, 0.07599405425492384), (2, 0.05671855430309535), (0, 0.04347826086956519), (0, 0.04347826086956519), (21, 0.06103678929765889), (20, 0.06103678929765888), (21, 0.062233589087809064), (0, 0.04347826086956519), (8, 0.05890003716090675), (16, 0.06103678929765888), (10, 0.06223358908780905), (1, 0.055697641375390766), (3, 0.05134034290044522), (9, 0.06103678929765889), (21, 0.065788317962231), (0, 0.06289139380926818), (6, 0.07453416149068319), (8, 0.0628913938092682), (1, 0.05569227964634036), (17, 0.07184892402283706), (8, 0.06461352657004828), (10, 0.059885151763740783), (15, 0.065788317962231), (10, 0.05667701863354037), (11, 0.0758893280632411), (19, 0.0796268532400466), (8, 0.07712518010000846), (6, 0.06083378064054391), (1, 0.06103678929765888), (6, 0.05988515176374077), (8, 0.06407802388114121), (4, 0.06103678929765889), (8, 0.05569764137539075), (0, 0.05359584358764014), (4, 0.062233589087809064), (4, 0.06103678929765889), (0, 0.04347826086956519), (8, 0.06531029357116315), (6, 0.059885151763740783), (21, 0.062233589087809064), (21, 0.05988515176374077), (10, 0.059885151763740783), (21, 0.07790953008344312), (2, 0.06103678929765889), (6, 0.060054939850336296), (10, 0.05988515176374078), (6, 0.059885151763740783), (4, 0.05877616747181963), (12, 0.07112184648416532), (21, 0.059885151763740783), (12, 0.06906423331544102), (8, 0.06407802388114121), (8, 0.0661744599398414), (2, 0.059885151763740783), (2, 0.07317945965288956), (12, 0.06780851998243304), (6, 0.05877616747181963), (2, 0.06407802388114121), (0, 0.04347826086956519), (22, 0.062233589087809064), (2, 0.05890003716090675), (6, 0.06103678929765889), (16, 0.06103678929765888), (8, 0.05351899213791799), (6, 0.05877616747181963), (15, 0.06005493985033628), (8, 0.06827089599854162), (17, 0.05988515176374077), (8, 0.05877616747181963), (21, 0.0661744599398414), (12, 0.06103678929765889), (4, 0.062233589087809064), (2, 0.05134034290044522), (17, 0.07246376811594205), (12, 0.0661744599398414), (8, 0.05462653288740246), (6, 0.059885151763740783), (0, 0.04347826086956519), (12, 0.08084951235074286), (0, 0.04347826086956519), (6, 0.059885151763740783), (2, 0.08084951235074286), (10, 0.06223358908780905), (7, 0.055697641375390766), (16, 0.06103678929765888), (2, 0.063173541434411), (2, 0.06103678929765888), (0, 0.04347826086956519), (6, 0.051340342900445216), (17, 0.07665664023334244), (17, 0.05988515176374078), (0, 0.055697641375390766), (3, 0.065788317962231), (16, 0.057788715705040565), (6, 0.0772946859903381), (21, 0.0738573021181717), (11, 0.05988515176374078), (13, 0.07184892402283707), (2, 0.08026755852842811), (6, 0.07456020417464224), ...]</td>\n",
              "    </tr>\n",
              "    <tr>\n",
              "      <th>11</th>\n",
              "      <td>590</td>\n",
              "      <td>11</td>\n",
              "      <td>9.41</td>\n",
              "      <td>model, sample, showed, pattern, student, path, journal, fit, table, test, across, oller, analysis, org, cid, educational, et_al, older, within, wa, dz, study, variable</td>\n",
              "      <td>[(12, 0.07599405425492384), (2, 0.05671855430309535), (0, 0.04347826086956519), (0, 0.04347826086956519), (21, 0.06103678929765889), (20, 0.06103678929765888), (21, 0.062233589087809064), (0, 0.04347826086956519), (8, 0.05890003716090675), (16, 0.06103678929765888), (10, 0.06223358908780905), (1, 0.055697641375390766), (3, 0.05134034290044522), (9, 0.06103678929765889), (21, 0.065788317962231), (0, 0.06289139380926818), (6, 0.07453416149068319), (8, 0.0628913938092682), (1, 0.05569227964634036), (17, 0.07184892402283706), (8, 0.06461352657004828), (10, 0.059885151763740783), (15, 0.065788317962231), (10, 0.05667701863354037), (11, 0.0758893280632411), (19, 0.0796268532400466), (8, 0.07712518010000846), (6, 0.06083378064054391), (1, 0.06103678929765888), (6, 0.05988515176374077), (8, 0.06407802388114121), (4, 0.06103678929765889), (8, 0.05569764137539075), (0, 0.05359584358764014), (4, 0.062233589087809064), (4, 0.06103678929765889), (0, 0.04347826086956519), (8, 0.06531029357116315), (6, 0.059885151763740783), (21, 0.062233589087809064), (21, 0.05988515176374077), (10, 0.059885151763740783), (21, 0.07790953008344312), (2, 0.06103678929765889), (6, 0.060054939850336296), (10, 0.05988515176374078), (6, 0.059885151763740783), (4, 0.05877616747181963), (12, 0.07112184648416532), (21, 0.059885151763740783), (12, 0.06906423331544102), (8, 0.06407802388114121), (8, 0.0661744599398414), (2, 0.059885151763740783), (2, 0.07317945965288956), (12, 0.06780851998243304), (6, 0.05877616747181963), (2, 0.06407802388114121), (0, 0.04347826086956519), (22, 0.062233589087809064), (2, 0.05890003716090675), (6, 0.06103678929765889), (16, 0.06103678929765888), (8, 0.05351899213791799), (6, 0.05877616747181963), (15, 0.06005493985033628), (8, 0.06827089599854162), (17, 0.05988515176374077), (8, 0.05877616747181963), (21, 0.0661744599398414), (12, 0.06103678929765889), (4, 0.062233589087809064), (2, 0.05134034290044522), (17, 0.07246376811594205), (12, 0.0661744599398414), (8, 0.05462653288740246), (6, 0.059885151763740783), (0, 0.04347826086956519), (12, 0.08084951235074286), (0, 0.04347826086956519), (6, 0.059885151763740783), (2, 0.08084951235074286), (10, 0.06223358908780905), (7, 0.055697641375390766), (16, 0.06103678929765888), (2, 0.063173541434411), (2, 0.06103678929765888), (0, 0.04347826086956519), (6, 0.051340342900445216), (17, 0.07665664023334244), (17, 0.05988515176374078), (0, 0.055697641375390766), (3, 0.065788317962231), (16, 0.057788715705040565), (6, 0.0772946859903381), (21, 0.0738573021181717), (11, 0.05988515176374078), (13, 0.07184892402283707), (2, 0.08026755852842811), (6, 0.07456020417464224), ...]</td>\n",
              "    </tr>\n",
              "    <tr>\n",
              "      <th>12</th>\n",
              "      <td>985</td>\n",
              "      <td>12</td>\n",
              "      <td>11.23</td>\n",
              "      <td>group, age, test, concept, path, journal, pair, table, dz, across, org, oller, analysis, study, educational, et_al, older, within, showed, pattern, wa, cid, variable</td>\n",
              "      <td>[(12, 0.07599405425492384), (2, 0.05671855430309535), (0, 0.04347826086956519), (0, 0.04347826086956519), (21, 0.06103678929765889), (20, 0.06103678929765888), (21, 0.062233589087809064), (0, 0.04347826086956519), (8, 0.05890003716090675), (16, 0.06103678929765888), (10, 0.06223358908780905), (1, 0.055697641375390766), (3, 0.05134034290044522), (9, 0.06103678929765889), (21, 0.065788317962231), (0, 0.06289139380926818), (6, 0.07453416149068319), (8, 0.0628913938092682), (1, 0.05569227964634036), (17, 0.07184892402283706), (8, 0.06461352657004828), (10, 0.059885151763740783), (15, 0.065788317962231), (10, 0.05667701863354037), (11, 0.0758893280632411), (19, 0.0796268532400466), (8, 0.07712518010000846), (6, 0.06083378064054391), (1, 0.06103678929765888), (6, 0.05988515176374077), (8, 0.06407802388114121), (4, 0.06103678929765889), (8, 0.05569764137539075), (0, 0.05359584358764014), (4, 0.062233589087809064), (4, 0.06103678929765889), (0, 0.04347826086956519), (8, 0.06531029357116315), (6, 0.059885151763740783), (21, 0.062233589087809064), (21, 0.05988515176374077), (10, 0.059885151763740783), (21, 0.07790953008344312), (2, 0.06103678929765889), (6, 0.060054939850336296), (10, 0.05988515176374078), (6, 0.059885151763740783), (4, 0.05877616747181963), (12, 0.07112184648416532), (21, 0.059885151763740783), (12, 0.06906423331544102), (8, 0.06407802388114121), (8, 0.0661744599398414), (2, 0.059885151763740783), (2, 0.07317945965288956), (12, 0.06780851998243304), (6, 0.05877616747181963), (2, 0.06407802388114121), (0, 0.04347826086956519), (22, 0.062233589087809064), (2, 0.05890003716090675), (6, 0.06103678929765889), (16, 0.06103678929765888), (8, 0.05351899213791799), (6, 0.05877616747181963), (15, 0.06005493985033628), (8, 0.06827089599854162), (17, 0.05988515176374077), (8, 0.05877616747181963), (21, 0.0661744599398414), (12, 0.06103678929765889), (4, 0.062233589087809064), (2, 0.05134034290044522), (17, 0.07246376811594205), (12, 0.0661744599398414), (8, 0.05462653288740246), (6, 0.059885151763740783), (0, 0.04347826086956519), (12, 0.08084951235074286), (0, 0.04347826086956519), (6, 0.059885151763740783), (2, 0.08084951235074286), (10, 0.06223358908780905), (7, 0.055697641375390766), (16, 0.06103678929765888), (2, 0.063173541434411), (2, 0.06103678929765888), (0, 0.04347826086956519), (6, 0.051340342900445216), (17, 0.07665664023334244), (17, 0.05988515176374078), (0, 0.055697641375390766), (3, 0.065788317962231), (16, 0.057788715705040565), (6, 0.0772946859903381), (21, 0.0738573021181717), (11, 0.05988515176374078), (13, 0.07184892402283707), (2, 0.08026755852842811), (6, 0.07456020417464224), ...]</td>\n",
              "    </tr>\n",
              "    <tr>\n",
              "      <th>13</th>\n",
              "      <td>334</td>\n",
              "      <td>13</td>\n",
              "      <td>10.63</td>\n",
              "      <td>comparison, process, oller, older, educational, org, cid, path, journal, fit, table, mathematics, study, variable, et_al, within, showed, pattern, wa, group, across, analysis, test</td>\n",
              "      <td>[(12, 0.07599405425492384), (2, 0.05671855430309535), (0, 0.04347826086956519), (0, 0.04347826086956519), (21, 0.06103678929765889), (20, 0.06103678929765888), (21, 0.062233589087809064), (0, 0.04347826086956519), (8, 0.05890003716090675), (16, 0.06103678929765888), (10, 0.06223358908780905), (1, 0.055697641375390766), (3, 0.05134034290044522), (9, 0.06103678929765889), (21, 0.065788317962231), (0, 0.06289139380926818), (6, 0.07453416149068319), (8, 0.0628913938092682), (1, 0.05569227964634036), (17, 0.07184892402283706), (8, 0.06461352657004828), (10, 0.059885151763740783), (15, 0.065788317962231), (10, 0.05667701863354037), (11, 0.0758893280632411), (19, 0.0796268532400466), (8, 0.07712518010000846), (6, 0.06083378064054391), (1, 0.06103678929765888), (6, 0.05988515176374077), (8, 0.06407802388114121), (4, 0.06103678929765889), (8, 0.05569764137539075), (0, 0.05359584358764014), (4, 0.062233589087809064), (4, 0.06103678929765889), (0, 0.04347826086956519), (8, 0.06531029357116315), (6, 0.059885151763740783), (21, 0.062233589087809064), (21, 0.05988515176374077), (10, 0.059885151763740783), (21, 0.07790953008344312), (2, 0.06103678929765889), (6, 0.060054939850336296), (10, 0.05988515176374078), (6, 0.059885151763740783), (4, 0.05877616747181963), (12, 0.07112184648416532), (21, 0.059885151763740783), (12, 0.06906423331544102), (8, 0.06407802388114121), (8, 0.0661744599398414), (2, 0.059885151763740783), (2, 0.07317945965288956), (12, 0.06780851998243304), (6, 0.05877616747181963), (2, 0.06407802388114121), (0, 0.04347826086956519), (22, 0.062233589087809064), (2, 0.05890003716090675), (6, 0.06103678929765889), (16, 0.06103678929765888), (8, 0.05351899213791799), (6, 0.05877616747181963), (15, 0.06005493985033628), (8, 0.06827089599854162), (17, 0.05988515176374077), (8, 0.05877616747181963), (21, 0.0661744599398414), (12, 0.06103678929765889), (4, 0.062233589087809064), (2, 0.05134034290044522), (17, 0.07246376811594205), (12, 0.0661744599398414), (8, 0.05462653288740246), (6, 0.059885151763740783), (0, 0.04347826086956519), (12, 0.08084951235074286), (0, 0.04347826086956519), (6, 0.059885151763740783), (2, 0.08084951235074286), (10, 0.06223358908780905), (7, 0.055697641375390766), (16, 0.06103678929765888), (2, 0.063173541434411), (2, 0.06103678929765888), (0, 0.04347826086956519), (6, 0.051340342900445216), (17, 0.07665664023334244), (17, 0.05988515176374078), (0, 0.055697641375390766), (3, 0.065788317962231), (16, 0.057788715705040565), (6, 0.0772946859903381), (21, 0.0738573021181717), (11, 0.05988515176374078), (13, 0.07184892402283707), (2, 0.08026755852842811), (6, 0.07456020417464224), ...]</td>\n",
              "    </tr>\n",
              "    <tr>\n",
              "      <th>14</th>\n",
              "      <td>323</td>\n",
              "      <td>14</td>\n",
              "      <td>8.96</td>\n",
              "      <td>mz, dz, mirror_effect, found, path, journal, pair, table, test, across, org, oller, analysis, study, educational, et_al, older, within, showed, pattern, wa, cid, variable</td>\n",
              "      <td>[(12, 0.07599405425492384), (2, 0.05671855430309535), (0, 0.04347826086956519), (0, 0.04347826086956519), (21, 0.06103678929765889), (20, 0.06103678929765888), (21, 0.062233589087809064), (0, 0.04347826086956519), (8, 0.05890003716090675), (16, 0.06103678929765888), (10, 0.06223358908780905), (1, 0.055697641375390766), (3, 0.05134034290044522), (9, 0.06103678929765889), (21, 0.065788317962231), (0, 0.06289139380926818), (6, 0.07453416149068319), (8, 0.0628913938092682), (1, 0.05569227964634036), (17, 0.07184892402283706), (8, 0.06461352657004828), (10, 0.059885151763740783), (15, 0.065788317962231), (10, 0.05667701863354037), (11, 0.0758893280632411), (19, 0.0796268532400466), (8, 0.07712518010000846), (6, 0.06083378064054391), (1, 0.06103678929765888), (6, 0.05988515176374077), (8, 0.06407802388114121), (4, 0.06103678929765889), (8, 0.05569764137539075), (0, 0.05359584358764014), (4, 0.062233589087809064), (4, 0.06103678929765889), (0, 0.04347826086956519), (8, 0.06531029357116315), (6, 0.059885151763740783), (21, 0.062233589087809064), (21, 0.05988515176374077), (10, 0.059885151763740783), (21, 0.07790953008344312), (2, 0.06103678929765889), (6, 0.060054939850336296), (10, 0.05988515176374078), (6, 0.059885151763740783), (4, 0.05877616747181963), (12, 0.07112184648416532), (21, 0.059885151763740783), (12, 0.06906423331544102), (8, 0.06407802388114121), (8, 0.0661744599398414), (2, 0.059885151763740783), (2, 0.07317945965288956), (12, 0.06780851998243304), (6, 0.05877616747181963), (2, 0.06407802388114121), (0, 0.04347826086956519), (22, 0.062233589087809064), (2, 0.05890003716090675), (6, 0.06103678929765889), (16, 0.06103678929765888), (8, 0.05351899213791799), (6, 0.05877616747181963), (15, 0.06005493985033628), (8, 0.06827089599854162), (17, 0.05988515176374077), (8, 0.05877616747181963), (21, 0.0661744599398414), (12, 0.06103678929765889), (4, 0.062233589087809064), (2, 0.05134034290044522), (17, 0.07246376811594205), (12, 0.0661744599398414), (8, 0.05462653288740246), (6, 0.059885151763740783), (0, 0.04347826086956519), (12, 0.08084951235074286), (0, 0.04347826086956519), (6, 0.059885151763740783), (2, 0.08084951235074286), (10, 0.06223358908780905), (7, 0.055697641375390766), (16, 0.06103678929765888), (2, 0.063173541434411), (2, 0.06103678929765888), (0, 0.04347826086956519), (6, 0.051340342900445216), (17, 0.07665664023334244), (17, 0.05988515176374078), (0, 0.055697641375390766), (3, 0.065788317962231), (16, 0.057788715705040565), (6, 0.0772946859903381), (21, 0.0738573021181717), (11, 0.05988515176374078), (13, 0.07184892402283707), (2, 0.08026755852842811), (6, 0.07456020417464224), ...]</td>\n",
              "    </tr>\n",
              "    <tr>\n",
              "      <th>15</th>\n",
              "      <td>777</td>\n",
              "      <td>15</td>\n",
              "      <td>9.58</td>\n",
              "      <td>german, grade, mathematics, similar, personality, variable, pair, path, analysis, study, educational, et_al, within, table, showed, pattern, wa, group, across, test, oller, older, regression</td>\n",
              "      <td>[(12, 0.07599405425492384), (2, 0.05671855430309535), (0, 0.04347826086956519), (0, 0.04347826086956519), (21, 0.06103678929765889), (20, 0.06103678929765888), (21, 0.062233589087809064), (0, 0.04347826086956519), (8, 0.05890003716090675), (16, 0.06103678929765888), (10, 0.06223358908780905), (1, 0.055697641375390766), (3, 0.05134034290044522), (9, 0.06103678929765889), (21, 0.065788317962231), (0, 0.06289139380926818), (6, 0.07453416149068319), (8, 0.0628913938092682), (1, 0.05569227964634036), (17, 0.07184892402283706), (8, 0.06461352657004828), (10, 0.059885151763740783), (15, 0.065788317962231), (10, 0.05667701863354037), (11, 0.0758893280632411), (19, 0.0796268532400466), (8, 0.07712518010000846), (6, 0.06083378064054391), (1, 0.06103678929765888), (6, 0.05988515176374077), (8, 0.06407802388114121), (4, 0.06103678929765889), (8, 0.05569764137539075), (0, 0.05359584358764014), (4, 0.062233589087809064), (4, 0.06103678929765889), (0, 0.04347826086956519), (8, 0.06531029357116315), (6, 0.059885151763740783), (21, 0.062233589087809064), (21, 0.05988515176374077), (10, 0.059885151763740783), (21, 0.07790953008344312), (2, 0.06103678929765889), (6, 0.060054939850336296), (10, 0.05988515176374078), (6, 0.059885151763740783), (4, 0.05877616747181963), (12, 0.07112184648416532), (21, 0.059885151763740783), (12, 0.06906423331544102), (8, 0.06407802388114121), (8, 0.0661744599398414), (2, 0.059885151763740783), (2, 0.07317945965288956), (12, 0.06780851998243304), (6, 0.05877616747181963), (2, 0.06407802388114121), (0, 0.04347826086956519), (22, 0.062233589087809064), (2, 0.05890003716090675), (6, 0.06103678929765889), (16, 0.06103678929765888), (8, 0.05351899213791799), (6, 0.05877616747181963), (15, 0.06005493985033628), (8, 0.06827089599854162), (17, 0.05988515176374077), (8, 0.05877616747181963), (21, 0.0661744599398414), (12, 0.06103678929765889), (4, 0.062233589087809064), (2, 0.05134034290044522), (17, 0.07246376811594205), (12, 0.0661744599398414), (8, 0.05462653288740246), (6, 0.059885151763740783), (0, 0.04347826086956519), (12, 0.08084951235074286), (0, 0.04347826086956519), (6, 0.059885151763740783), (2, 0.08084951235074286), (10, 0.06223358908780905), (7, 0.055697641375390766), (16, 0.06103678929765888), (2, 0.063173541434411), (2, 0.06103678929765888), (0, 0.04347826086956519), (6, 0.051340342900445216), (17, 0.07665664023334244), (17, 0.05988515176374078), (0, 0.055697641375390766), (3, 0.065788317962231), (16, 0.057788715705040565), (6, 0.0772946859903381), (21, 0.0738573021181717), (11, 0.05988515176374078), (13, 0.07184892402283707), (2, 0.08026755852842811), (6, 0.07456020417464224), ...]</td>\n",
              "    </tr>\n",
              "    <tr>\n",
              "      <th>16</th>\n",
              "      <td>774</td>\n",
              "      <td>16</td>\n",
              "      <td>8.55</td>\n",
              "      <td>mathematics, concept, academic, journal, effect, org, pair, path, variable, test, mz, oller, analysis, educational, cid, et_al, older, within, showed, pattern, wa, study, fit</td>\n",
              "      <td>[(12, 0.07599405425492384), (2, 0.05671855430309535), (0, 0.04347826086956519), (0, 0.04347826086956519), (21, 0.06103678929765889), (20, 0.06103678929765888), (21, 0.062233589087809064), (0, 0.04347826086956519), (8, 0.05890003716090675), (16, 0.06103678929765888), (10, 0.06223358908780905), (1, 0.055697641375390766), (3, 0.05134034290044522), (9, 0.06103678929765889), (21, 0.065788317962231), (0, 0.06289139380926818), (6, 0.07453416149068319), (8, 0.0628913938092682), (1, 0.05569227964634036), (17, 0.07184892402283706), (8, 0.06461352657004828), (10, 0.059885151763740783), (15, 0.065788317962231), (10, 0.05667701863354037), (11, 0.0758893280632411), (19, 0.0796268532400466), (8, 0.07712518010000846), (6, 0.06083378064054391), (1, 0.06103678929765888), (6, 0.05988515176374077), (8, 0.06407802388114121), (4, 0.06103678929765889), (8, 0.05569764137539075), (0, 0.05359584358764014), (4, 0.062233589087809064), (4, 0.06103678929765889), (0, 0.04347826086956519), (8, 0.06531029357116315), (6, 0.059885151763740783), (21, 0.062233589087809064), (21, 0.05988515176374077), (10, 0.059885151763740783), (21, 0.07790953008344312), (2, 0.06103678929765889), (6, 0.060054939850336296), (10, 0.05988515176374078), (6, 0.059885151763740783), (4, 0.05877616747181963), (12, 0.07112184648416532), (21, 0.059885151763740783), (12, 0.06906423331544102), (8, 0.06407802388114121), (8, 0.0661744599398414), (2, 0.059885151763740783), (2, 0.07317945965288956), (12, 0.06780851998243304), (6, 0.05877616747181963), (2, 0.06407802388114121), (0, 0.04347826086956519), (22, 0.062233589087809064), (2, 0.05890003716090675), (6, 0.06103678929765889), (16, 0.06103678929765888), (8, 0.05351899213791799), (6, 0.05877616747181963), (15, 0.06005493985033628), (8, 0.06827089599854162), (17, 0.05988515176374077), (8, 0.05877616747181963), (21, 0.0661744599398414), (12, 0.06103678929765889), (4, 0.062233589087809064), (2, 0.05134034290044522), (17, 0.07246376811594205), (12, 0.0661744599398414), (8, 0.05462653288740246), (6, 0.059885151763740783), (0, 0.04347826086956519), (12, 0.08084951235074286), (0, 0.04347826086956519), (6, 0.059885151763740783), (2, 0.08084951235074286), (10, 0.06223358908780905), (7, 0.055697641375390766), (16, 0.06103678929765888), (2, 0.063173541434411), (2, 0.06103678929765888), (0, 0.04347826086956519), (6, 0.051340342900445216), (17, 0.07665664023334244), (17, 0.05988515176374078), (0, 0.055697641375390766), (3, 0.065788317962231), (16, 0.057788715705040565), (6, 0.0772946859903381), (21, 0.0738573021181717), (11, 0.05988515176374078), (13, 0.07184892402283707), (2, 0.08026755852842811), (6, 0.07456020417464224), ...]</td>\n",
              "    </tr>\n",
              "    <tr>\n",
              "      <th>17</th>\n",
              "      <td>1470</td>\n",
              "      <td>17</td>\n",
              "      <td>11.02</td>\n",
              "      <td>social, journal, study, personality, pattern, group, sample, org, cid, path, fit, pair, across, oller, et_al, educational, variable, older, within, showed, wa, analysis, table</td>\n",
              "      <td>[(12, 0.07599405425492384), (2, 0.05671855430309535), (0, 0.04347826086956519), (0, 0.04347826086956519), (21, 0.06103678929765889), (20, 0.06103678929765888), (21, 0.062233589087809064), (0, 0.04347826086956519), (8, 0.05890003716090675), (16, 0.06103678929765888), (10, 0.06223358908780905), (1, 0.055697641375390766), (3, 0.05134034290044522), (9, 0.06103678929765889), (21, 0.065788317962231), (0, 0.06289139380926818), (6, 0.07453416149068319), (8, 0.0628913938092682), (1, 0.05569227964634036), (17, 0.07184892402283706), (8, 0.06461352657004828), (10, 0.059885151763740783), (15, 0.065788317962231), (10, 0.05667701863354037), (11, 0.0758893280632411), (19, 0.0796268532400466), (8, 0.07712518010000846), (6, 0.06083378064054391), (1, 0.06103678929765888), (6, 0.05988515176374077), (8, 0.06407802388114121), (4, 0.06103678929765889), (8, 0.05569764137539075), (0, 0.05359584358764014), (4, 0.062233589087809064), (4, 0.06103678929765889), (0, 0.04347826086956519), (8, 0.06531029357116315), (6, 0.059885151763740783), (21, 0.062233589087809064), (21, 0.05988515176374077), (10, 0.059885151763740783), (21, 0.07790953008344312), (2, 0.06103678929765889), (6, 0.060054939850336296), (10, 0.05988515176374078), (6, 0.059885151763740783), (4, 0.05877616747181963), (12, 0.07112184648416532), (21, 0.059885151763740783), (12, 0.06906423331544102), (8, 0.06407802388114121), (8, 0.0661744599398414), (2, 0.059885151763740783), (2, 0.07317945965288956), (12, 0.06780851998243304), (6, 0.05877616747181963), (2, 0.06407802388114121), (0, 0.04347826086956519), (22, 0.062233589087809064), (2, 0.05890003716090675), (6, 0.06103678929765889), (16, 0.06103678929765888), (8, 0.05351899213791799), (6, 0.05877616747181963), (15, 0.06005493985033628), (8, 0.06827089599854162), (17, 0.05988515176374077), (8, 0.05877616747181963), (21, 0.0661744599398414), (12, 0.06103678929765889), (4, 0.062233589087809064), (2, 0.05134034290044522), (17, 0.07246376811594205), (12, 0.0661744599398414), (8, 0.05462653288740246), (6, 0.059885151763740783), (0, 0.04347826086956519), (12, 0.08084951235074286), (0, 0.04347826086956519), (6, 0.059885151763740783), (2, 0.08084951235074286), (10, 0.06223358908780905), (7, 0.055697641375390766), (16, 0.06103678929765888), (2, 0.063173541434411), (2, 0.06103678929765888), (0, 0.04347826086956519), (6, 0.051340342900445216), (17, 0.07665664023334244), (17, 0.05988515176374078), (0, 0.055697641375390766), (3, 0.065788317962231), (16, 0.057788715705040565), (6, 0.0772946859903381), (21, 0.0738573021181717), (11, 0.05988515176374078), (13, 0.07184892402283707), (2, 0.08026755852842811), (6, 0.07456020417464224), ...]</td>\n",
              "    </tr>\n",
              "    <tr>\n",
              "      <th>18</th>\n",
              "      <td>89</td>\n",
              "      <td>18</td>\n",
              "      <td>7.67</td>\n",
              "      <td>effect, individual, mirror_effect, fit, path, journal, personality, table, across, org, oller, analysis, test, study, educational, et_al, older, within, showed, pattern, wa, cid, variable</td>\n",
              "      <td>[(12, 0.07599405425492384), (2, 0.05671855430309535), (0, 0.04347826086956519), (0, 0.04347826086956519), (21, 0.06103678929765889), (20, 0.06103678929765888), (21, 0.062233589087809064), (0, 0.04347826086956519), (8, 0.05890003716090675), (16, 0.06103678929765888), (10, 0.06223358908780905), (1, 0.055697641375390766), (3, 0.05134034290044522), (9, 0.06103678929765889), (21, 0.065788317962231), (0, 0.06289139380926818), (6, 0.07453416149068319), (8, 0.0628913938092682), (1, 0.05569227964634036), (17, 0.07184892402283706), (8, 0.06461352657004828), (10, 0.059885151763740783), (15, 0.065788317962231), (10, 0.05667701863354037), (11, 0.0758893280632411), (19, 0.0796268532400466), (8, 0.07712518010000846), (6, 0.06083378064054391), (1, 0.06103678929765888), (6, 0.05988515176374077), (8, 0.06407802388114121), (4, 0.06103678929765889), (8, 0.05569764137539075), (0, 0.05359584358764014), (4, 0.062233589087809064), (4, 0.06103678929765889), (0, 0.04347826086956519), (8, 0.06531029357116315), (6, 0.059885151763740783), (21, 0.062233589087809064), (21, 0.05988515176374077), (10, 0.059885151763740783), (21, 0.07790953008344312), (2, 0.06103678929765889), (6, 0.060054939850336296), (10, 0.05988515176374078), (6, 0.059885151763740783), (4, 0.05877616747181963), (12, 0.07112184648416532), (21, 0.059885151763740783), (12, 0.06906423331544102), (8, 0.06407802388114121), (8, 0.0661744599398414), (2, 0.059885151763740783), (2, 0.07317945965288956), (12, 0.06780851998243304), (6, 0.05877616747181963), (2, 0.06407802388114121), (0, 0.04347826086956519), (22, 0.062233589087809064), (2, 0.05890003716090675), (6, 0.06103678929765889), (16, 0.06103678929765888), (8, 0.05351899213791799), (6, 0.05877616747181963), (15, 0.06005493985033628), (8, 0.06827089599854162), (17, 0.05988515176374077), (8, 0.05877616747181963), (21, 0.0661744599398414), (12, 0.06103678929765889), (4, 0.062233589087809064), (2, 0.05134034290044522), (17, 0.07246376811594205), (12, 0.0661744599398414), (8, 0.05462653288740246), (6, 0.059885151763740783), (0, 0.04347826086956519), (12, 0.08084951235074286), (0, 0.04347826086956519), (6, 0.059885151763740783), (2, 0.08084951235074286), (10, 0.06223358908780905), (7, 0.055697641375390766), (16, 0.06103678929765888), (2, 0.063173541434411), (2, 0.06103678929765888), (0, 0.04347826086956519), (6, 0.051340342900445216), (17, 0.07665664023334244), (17, 0.05988515176374078), (0, 0.055697641375390766), (3, 0.065788317962231), (16, 0.057788715705040565), (6, 0.0772946859903381), (21, 0.0738573021181717), (11, 0.05988515176374078), (13, 0.07184892402283707), (2, 0.08026755852842811), (6, 0.07456020417464224), ...]</td>\n",
              "    </tr>\n",
              "    <tr>\n",
              "      <th>19</th>\n",
              "      <td>612</td>\n",
              "      <td>19</td>\n",
              "      <td>14.67</td>\n",
              "      <td>dz, year_old, mz, sample, oller, path, journal, pair, table, org, mathematics, analysis, study, educational, et_al, older, within, showed, pattern, wa, group, cid, variable</td>\n",
              "      <td>[(12, 0.07599405425492384), (2, 0.05671855430309535), (0, 0.04347826086956519), (0, 0.04347826086956519), (21, 0.06103678929765889), (20, 0.06103678929765888), (21, 0.062233589087809064), (0, 0.04347826086956519), (8, 0.05890003716090675), (16, 0.06103678929765888), (10, 0.06223358908780905), (1, 0.055697641375390766), (3, 0.05134034290044522), (9, 0.06103678929765889), (21, 0.065788317962231), (0, 0.06289139380926818), (6, 0.07453416149068319), (8, 0.0628913938092682), (1, 0.05569227964634036), (17, 0.07184892402283706), (8, 0.06461352657004828), (10, 0.059885151763740783), (15, 0.065788317962231), (10, 0.05667701863354037), (11, 0.0758893280632411), (19, 0.0796268532400466), (8, 0.07712518010000846), (6, 0.06083378064054391), (1, 0.06103678929765888), (6, 0.05988515176374077), (8, 0.06407802388114121), (4, 0.06103678929765889), (8, 0.05569764137539075), (0, 0.05359584358764014), (4, 0.062233589087809064), (4, 0.06103678929765889), (0, 0.04347826086956519), (8, 0.06531029357116315), (6, 0.059885151763740783), (21, 0.062233589087809064), (21, 0.05988515176374077), (10, 0.059885151763740783), (21, 0.07790953008344312), (2, 0.06103678929765889), (6, 0.060054939850336296), (10, 0.05988515176374078), (6, 0.059885151763740783), (4, 0.05877616747181963), (12, 0.07112184648416532), (21, 0.059885151763740783), (12, 0.06906423331544102), (8, 0.06407802388114121), (8, 0.0661744599398414), (2, 0.059885151763740783), (2, 0.07317945965288956), (12, 0.06780851998243304), (6, 0.05877616747181963), (2, 0.06407802388114121), (0, 0.04347826086956519), (22, 0.062233589087809064), (2, 0.05890003716090675), (6, 0.06103678929765889), (16, 0.06103678929765888), (8, 0.05351899213791799), (6, 0.05877616747181963), (15, 0.06005493985033628), (8, 0.06827089599854162), (17, 0.05988515176374077), (8, 0.05877616747181963), (21, 0.0661744599398414), (12, 0.06103678929765889), (4, 0.062233589087809064), (2, 0.05134034290044522), (17, 0.07246376811594205), (12, 0.0661744599398414), (8, 0.05462653288740246), (6, 0.059885151763740783), (0, 0.04347826086956519), (12, 0.08084951235074286), (0, 0.04347826086956519), (6, 0.059885151763740783), (2, 0.08084951235074286), (10, 0.06223358908780905), (7, 0.055697641375390766), (16, 0.06103678929765888), (2, 0.063173541434411), (2, 0.06103678929765888), (0, 0.04347826086956519), (6, 0.051340342900445216), (17, 0.07665664023334244), (17, 0.05988515176374078), (0, 0.055697641375390766), (3, 0.065788317962231), (16, 0.057788715705040565), (6, 0.0772946859903381), (21, 0.0738573021181717), (11, 0.05988515176374078), (13, 0.07184892402283707), (2, 0.08026755852842811), (6, 0.07456020417464224), ...]</td>\n",
              "    </tr>\n",
              "    <tr>\n",
              "      <th>20</th>\n",
              "      <td>25</td>\n",
              "      <td>20</td>\n",
              "      <td>7.96</td>\n",
              "      <td>twin, achievement, effect, grade, org, within, path, journal, fit, table, across, dz, oller, wa, analysis, cid, study, educational, et_al, older, pattern, showed, variable</td>\n",
              "      <td>[(12, 0.07599405425492384), (2, 0.05671855430309535), (0, 0.04347826086956519), (0, 0.04347826086956519), (21, 0.06103678929765889), (20, 0.06103678929765888), (21, 0.062233589087809064), (0, 0.04347826086956519), (8, 0.05890003716090675), (16, 0.06103678929765888), (10, 0.06223358908780905), (1, 0.055697641375390766), (3, 0.05134034290044522), (9, 0.06103678929765889), (21, 0.065788317962231), (0, 0.06289139380926818), (6, 0.07453416149068319), (8, 0.0628913938092682), (1, 0.05569227964634036), (17, 0.07184892402283706), (8, 0.06461352657004828), (10, 0.059885151763740783), (15, 0.065788317962231), (10, 0.05667701863354037), (11, 0.0758893280632411), (19, 0.0796268532400466), (8, 0.07712518010000846), (6, 0.06083378064054391), (1, 0.06103678929765888), (6, 0.05988515176374077), (8, 0.06407802388114121), (4, 0.06103678929765889), (8, 0.05569764137539075), (0, 0.05359584358764014), (4, 0.062233589087809064), (4, 0.06103678929765889), (0, 0.04347826086956519), (8, 0.06531029357116315), (6, 0.059885151763740783), (21, 0.062233589087809064), (21, 0.05988515176374077), (10, 0.059885151763740783), (21, 0.07790953008344312), (2, 0.06103678929765889), (6, 0.060054939850336296), (10, 0.05988515176374078), (6, 0.059885151763740783), (4, 0.05877616747181963), (12, 0.07112184648416532), (21, 0.059885151763740783), (12, 0.06906423331544102), (8, 0.06407802388114121), (8, 0.0661744599398414), (2, 0.059885151763740783), (2, 0.07317945965288956), (12, 0.06780851998243304), (6, 0.05877616747181963), (2, 0.06407802388114121), (0, 0.04347826086956519), (22, 0.062233589087809064), (2, 0.05890003716090675), (6, 0.06103678929765889), (16, 0.06103678929765888), (8, 0.05351899213791799), (6, 0.05877616747181963), (15, 0.06005493985033628), (8, 0.06827089599854162), (17, 0.05988515176374077), (8, 0.05877616747181963), (21, 0.0661744599398414), (12, 0.06103678929765889), (4, 0.062233589087809064), (2, 0.05134034290044522), (17, 0.07246376811594205), (12, 0.0661744599398414), (8, 0.05462653288740246), (6, 0.059885151763740783), (0, 0.04347826086956519), (12, 0.08084951235074286), (0, 0.04347826086956519), (6, 0.059885151763740783), (2, 0.08084951235074286), (10, 0.06223358908780905), (7, 0.055697641375390766), (16, 0.06103678929765888), (2, 0.063173541434411), (2, 0.06103678929765888), (0, 0.04347826086956519), (6, 0.051340342900445216), (17, 0.07665664023334244), (17, 0.05988515176374078), (0, 0.055697641375390766), (3, 0.065788317962231), (16, 0.057788715705040565), (6, 0.0772946859903381), (21, 0.0738573021181717), (11, 0.05988515176374078), (13, 0.07184892402283707), (2, 0.08026755852842811), (6, 0.07456020417464224), ...]</td>\n",
              "    </tr>\n",
              "    <tr>\n",
              "      <th>21</th>\n",
              "      <td>499</td>\n",
              "      <td>21</td>\n",
              "      <td>12.64</td>\n",
              "      <td>grade, school, reported, comparison, process, student, psychology, oller, journal, path, org, group, analysis, educational, variable, et_al, older, within, showed, pattern, mz, study, pair</td>\n",
              "      <td>[(12, 0.07599405425492384), (2, 0.05671855430309535), (0, 0.04347826086956519), (0, 0.04347826086956519), (21, 0.06103678929765889), (20, 0.06103678929765888), (21, 0.062233589087809064), (0, 0.04347826086956519), (8, 0.05890003716090675), (16, 0.06103678929765888), (10, 0.06223358908780905), (1, 0.055697641375390766), (3, 0.05134034290044522), (9, 0.06103678929765889), (21, 0.065788317962231), (0, 0.06289139380926818), (6, 0.07453416149068319), (8, 0.0628913938092682), (1, 0.05569227964634036), (17, 0.07184892402283706), (8, 0.06461352657004828), (10, 0.059885151763740783), (15, 0.065788317962231), (10, 0.05667701863354037), (11, 0.0758893280632411), (19, 0.0796268532400466), (8, 0.07712518010000846), (6, 0.06083378064054391), (1, 0.06103678929765888), (6, 0.05988515176374077), (8, 0.06407802388114121), (4, 0.06103678929765889), (8, 0.05569764137539075), (0, 0.05359584358764014), (4, 0.062233589087809064), (4, 0.06103678929765889), (0, 0.04347826086956519), (8, 0.06531029357116315), (6, 0.059885151763740783), (21, 0.062233589087809064), (21, 0.05988515176374077), (10, 0.059885151763740783), (21, 0.07790953008344312), (2, 0.06103678929765889), (6, 0.060054939850336296), (10, 0.05988515176374078), (6, 0.059885151763740783), (4, 0.05877616747181963), (12, 0.07112184648416532), (21, 0.059885151763740783), (12, 0.06906423331544102), (8, 0.06407802388114121), (8, 0.0661744599398414), (2, 0.059885151763740783), (2, 0.07317945965288956), (12, 0.06780851998243304), (6, 0.05877616747181963), (2, 0.06407802388114121), (0, 0.04347826086956519), (22, 0.062233589087809064), (2, 0.05890003716090675), (6, 0.06103678929765889), (16, 0.06103678929765888), (8, 0.05351899213791799), (6, 0.05877616747181963), (15, 0.06005493985033628), (8, 0.06827089599854162), (17, 0.05988515176374077), (8, 0.05877616747181963), (21, 0.0661744599398414), (12, 0.06103678929765889), (4, 0.062233589087809064), (2, 0.05134034290044522), (17, 0.07246376811594205), (12, 0.0661744599398414), (8, 0.05462653288740246), (6, 0.059885151763740783), (0, 0.04347826086956519), (12, 0.08084951235074286), (0, 0.04347826086956519), (6, 0.059885151763740783), (2, 0.08084951235074286), (10, 0.06223358908780905), (7, 0.055697641375390766), (16, 0.06103678929765888), (2, 0.063173541434411), (2, 0.06103678929765888), (0, 0.04347826086956519), (6, 0.051340342900445216), (17, 0.07665664023334244), (17, 0.05988515176374078), (0, 0.055697641375390766), (3, 0.065788317962231), (16, 0.057788715705040565), (6, 0.0772946859903381), (21, 0.0738573021181717), (11, 0.05988515176374078), (13, 0.07184892402283707), (2, 0.08026755852842811), (6, 0.07456020417464224), ...]</td>\n",
              "    </tr>\n",
              "    <tr>\n",
              "      <th>22</th>\n",
              "      <td>1400</td>\n",
              "      <td>22</td>\n",
              "      <td>9.41</td>\n",
              "      <td>research, marsh, study, educational, internal, twin, table, journal, cid, group, dz, test, org, analysis, path, et_al, older, within, showed, pattern, mz, oller, pair</td>\n",
              "      <td>[(12, 0.07599405425492384), (2, 0.05671855430309535), (0, 0.04347826086956519), (0, 0.04347826086956519), (21, 0.06103678929765889), (20, 0.06103678929765888), (21, 0.062233589087809064), (0, 0.04347826086956519), (8, 0.05890003716090675), (16, 0.06103678929765888), (10, 0.06223358908780905), (1, 0.055697641375390766), (3, 0.05134034290044522), (9, 0.06103678929765889), (21, 0.065788317962231), (0, 0.06289139380926818), (6, 0.07453416149068319), (8, 0.0628913938092682), (1, 0.05569227964634036), (17, 0.07184892402283706), (8, 0.06461352657004828), (10, 0.059885151763740783), (15, 0.065788317962231), (10, 0.05667701863354037), (11, 0.0758893280632411), (19, 0.0796268532400466), (8, 0.07712518010000846), (6, 0.06083378064054391), (1, 0.06103678929765888), (6, 0.05988515176374077), (8, 0.06407802388114121), (4, 0.06103678929765889), (8, 0.05569764137539075), (0, 0.05359584358764014), (4, 0.062233589087809064), (4, 0.06103678929765889), (0, 0.04347826086956519), (8, 0.06531029357116315), (6, 0.059885151763740783), (21, 0.062233589087809064), (21, 0.05988515176374077), (10, 0.059885151763740783), (21, 0.07790953008344312), (2, 0.06103678929765889), (6, 0.060054939850336296), (10, 0.05988515176374078), (6, 0.059885151763740783), (4, 0.05877616747181963), (12, 0.07112184648416532), (21, 0.059885151763740783), (12, 0.06906423331544102), (8, 0.06407802388114121), (8, 0.0661744599398414), (2, 0.059885151763740783), (2, 0.07317945965288956), (12, 0.06780851998243304), (6, 0.05877616747181963), (2, 0.06407802388114121), (0, 0.04347826086956519), (22, 0.062233589087809064), (2, 0.05890003716090675), (6, 0.06103678929765889), (16, 0.06103678929765888), (8, 0.05351899213791799), (6, 0.05877616747181963), (15, 0.06005493985033628), (8, 0.06827089599854162), (17, 0.05988515176374077), (8, 0.05877616747181963), (21, 0.0661744599398414), (12, 0.06103678929765889), (4, 0.062233589087809064), (2, 0.05134034290044522), (17, 0.07246376811594205), (12, 0.0661744599398414), (8, 0.05462653288740246), (6, 0.059885151763740783), (0, 0.04347826086956519), (12, 0.08084951235074286), (0, 0.04347826086956519), (6, 0.059885151763740783), (2, 0.08084951235074286), (10, 0.06223358908780905), (7, 0.055697641375390766), (16, 0.06103678929765888), (2, 0.063173541434411), (2, 0.06103678929765888), (0, 0.04347826086956519), (6, 0.051340342900445216), (17, 0.07665664023334244), (17, 0.05988515176374078), (0, 0.055697641375390766), (3, 0.065788317962231), (16, 0.057788715705040565), (6, 0.0772946859903381), (21, 0.0738573021181717), (11, 0.05988515176374078), (13, 0.07184892402283707), (2, 0.08026755852842811), (6, 0.07456020417464224), ...]</td>\n",
              "    </tr>\n",
              "    <tr>\n",
              "      <th>23</th>\n",
              "      <td>1363</td>\n",
              "      <td>23</td>\n",
              "      <td>9.76</td>\n",
              "      <td>http_doi, org, psychology, similar, test, path, journal, pair, table, across, oller, analysis, study, educational, et_al, older, within, showed, pattern, wa, grade, cid, variable</td>\n",
              "      <td>[(12, 0.07599405425492384), (2, 0.05671855430309535), (0, 0.04347826086956519), (0, 0.04347826086956519), (21, 0.06103678929765889), (20, 0.06103678929765888), (21, 0.062233589087809064), (0, 0.04347826086956519), (8, 0.05890003716090675), (16, 0.06103678929765888), (10, 0.06223358908780905), (1, 0.055697641375390766), (3, 0.05134034290044522), (9, 0.06103678929765889), (21, 0.065788317962231), (0, 0.06289139380926818), (6, 0.07453416149068319), (8, 0.0628913938092682), (1, 0.05569227964634036), (17, 0.07184892402283706), (8, 0.06461352657004828), (10, 0.059885151763740783), (15, 0.065788317962231), (10, 0.05667701863354037), (11, 0.0758893280632411), (19, 0.0796268532400466), (8, 0.07712518010000846), (6, 0.06083378064054391), (1, 0.06103678929765888), (6, 0.05988515176374077), (8, 0.06407802388114121), (4, 0.06103678929765889), (8, 0.05569764137539075), (0, 0.05359584358764014), (4, 0.062233589087809064), (4, 0.06103678929765889), (0, 0.04347826086956519), (8, 0.06531029357116315), (6, 0.059885151763740783), (21, 0.062233589087809064), (21, 0.05988515176374077), (10, 0.059885151763740783), (21, 0.07790953008344312), (2, 0.06103678929765889), (6, 0.060054939850336296), (10, 0.05988515176374078), (6, 0.059885151763740783), (4, 0.05877616747181963), (12, 0.07112184648416532), (21, 0.059885151763740783), (12, 0.06906423331544102), (8, 0.06407802388114121), (8, 0.0661744599398414), (2, 0.059885151763740783), (2, 0.07317945965288956), (12, 0.06780851998243304), (6, 0.05877616747181963), (2, 0.06407802388114121), (0, 0.04347826086956519), (22, 0.062233589087809064), (2, 0.05890003716090675), (6, 0.06103678929765889), (16, 0.06103678929765888), (8, 0.05351899213791799), (6, 0.05877616747181963), (15, 0.06005493985033628), (8, 0.06827089599854162), (17, 0.05988515176374077), (8, 0.05877616747181963), (21, 0.0661744599398414), (12, 0.06103678929765889), (4, 0.062233589087809064), (2, 0.05134034290044522), (17, 0.07246376811594205), (12, 0.0661744599398414), (8, 0.05462653288740246), (6, 0.059885151763740783), (0, 0.04347826086956519), (12, 0.08084951235074286), (0, 0.04347826086956519), (6, 0.059885151763740783), (2, 0.08084951235074286), (10, 0.06223358908780905), (7, 0.055697641375390766), (16, 0.06103678929765888), (2, 0.063173541434411), (2, 0.06103678929765888), (0, 0.04347826086956519), (6, 0.051340342900445216), (17, 0.07665664023334244), (17, 0.05988515176374078), (0, 0.055697641375390766), (3, 0.065788317962231), (16, 0.057788715705040565), (6, 0.0772946859903381), (21, 0.0738573021181717), (11, 0.05988515176374078), (13, 0.07184892402283707), (2, 0.08026755852842811), (6, 0.07456020417464224), ...]</td>\n",
              "    </tr>\n",
              "  </tbody>\n",
              "</table>\n",
              "</div>\n",
              "      <button class=\"colab-df-convert\" onclick=\"convertToInteractive('df-3e4ccd97-79cc-41e1-828b-c40fb3403592')\"\n",
              "              title=\"Convert this dataframe to an interactive table.\"\n",
              "              style=\"display:none;\">\n",
              "        \n",
              "  <svg xmlns=\"http://www.w3.org/2000/svg\" height=\"24px\"viewBox=\"0 0 24 24\"\n",
              "       width=\"24px\">\n",
              "    <path d=\"M0 0h24v24H0V0z\" fill=\"none\"/>\n",
              "    <path d=\"M18.56 5.44l.94 2.06.94-2.06 2.06-.94-2.06-.94-.94-2.06-.94 2.06-2.06.94zm-11 1L8.5 8.5l.94-2.06 2.06-.94-2.06-.94L8.5 2.5l-.94 2.06-2.06.94zm10 10l.94 2.06.94-2.06 2.06-.94-2.06-.94-.94-2.06-.94 2.06-2.06.94z\"/><path d=\"M17.41 7.96l-1.37-1.37c-.4-.4-.92-.59-1.43-.59-.52 0-1.04.2-1.43.59L10.3 9.45l-7.72 7.72c-.78.78-.78 2.05 0 2.83L4 21.41c.39.39.9.59 1.41.59.51 0 1.02-.2 1.41-.59l7.78-7.78 2.81-2.81c.8-.78.8-2.07 0-2.86zM5.41 20L4 18.59l7.72-7.72 1.47 1.35L5.41 20z\"/>\n",
              "  </svg>\n",
              "      </button>\n",
              "      \n",
              "  <style>\n",
              "    .colab-df-container {\n",
              "      display:flex;\n",
              "      flex-wrap:wrap;\n",
              "      gap: 12px;\n",
              "    }\n",
              "\n",
              "    .colab-df-convert {\n",
              "      background-color: #E8F0FE;\n",
              "      border: none;\n",
              "      border-radius: 50%;\n",
              "      cursor: pointer;\n",
              "      display: none;\n",
              "      fill: #1967D2;\n",
              "      height: 32px;\n",
              "      padding: 0 0 0 0;\n",
              "      width: 32px;\n",
              "    }\n",
              "\n",
              "    .colab-df-convert:hover {\n",
              "      background-color: #E2EBFA;\n",
              "      box-shadow: 0px 1px 2px rgba(60, 64, 67, 0.3), 0px 1px 3px 1px rgba(60, 64, 67, 0.15);\n",
              "      fill: #174EA6;\n",
              "    }\n",
              "\n",
              "    [theme=dark] .colab-df-convert {\n",
              "      background-color: #3B4455;\n",
              "      fill: #D2E3FC;\n",
              "    }\n",
              "\n",
              "    [theme=dark] .colab-df-convert:hover {\n",
              "      background-color: #434B5C;\n",
              "      box-shadow: 0px 1px 3px 1px rgba(0, 0, 0, 0.15);\n",
              "      filter: drop-shadow(0px 1px 2px rgba(0, 0, 0, 0.3));\n",
              "      fill: #FFFFFF;\n",
              "    }\n",
              "  </style>\n",
              "\n",
              "      <script>\n",
              "        const buttonEl =\n",
              "          document.querySelector('#df-3e4ccd97-79cc-41e1-828b-c40fb3403592 button.colab-df-convert');\n",
              "        buttonEl.style.display =\n",
              "          google.colab.kernel.accessAllowed ? 'block' : 'none';\n",
              "\n",
              "        async function convertToInteractive(key) {\n",
              "          const element = document.querySelector('#df-3e4ccd97-79cc-41e1-828b-c40fb3403592');\n",
              "          const dataTable =\n",
              "            await google.colab.kernel.invokeFunction('convertToInteractive',\n",
              "                                                     [key], {});\n",
              "          if (!dataTable) return;\n",
              "\n",
              "          const docLinkHtml = 'Like what you see? Visit the ' +\n",
              "            '<a target=\"_blank\" href=https://colab.research.google.com/notebooks/data_table.ipynb>data table notebook</a>'\n",
              "            + ' to learn more about interactive tables.';\n",
              "          element.innerHTML = '';\n",
              "          dataTable['output_type'] = 'display_data';\n",
              "          await google.colab.output.renderOutput(dataTable, element);\n",
              "          const docLink = document.createElement('div');\n",
              "          docLink.innerHTML = docLinkHtml;\n",
              "          element.appendChild(docLink);\n",
              "        }\n",
              "      </script>\n",
              "    </div>\n",
              "  </div>\n",
              "  "
            ]
          },
          "metadata": {},
          "execution_count": 58
        }
      ]
    }
  ]
}